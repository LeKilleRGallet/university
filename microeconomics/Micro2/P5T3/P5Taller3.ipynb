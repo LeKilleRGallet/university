{
  "cells": [
    {
      "cell_type": "markdown",
      "metadata": {},
      "source": [
        "# Anexo\n",
        "\n",
        "Punto 5"
      ]
    },
    {
      "cell_type": "code",
      "execution_count": 37,
      "metadata": {
        "id": "CHncn7BFkCBL"
      },
      "outputs": [],
      "source": [
        "x_a1 = 13/2\n",
        "x_a2 = 65/8\n",
        "\n",
        "x_b1 = 19/2\n",
        "x_b2 = 95/8\n",
        "\n",
        "w_a1 = 10\n",
        "w_a2 = 5\n",
        "\n",
        "w_b1 = 6\n",
        "w_b2 = 15"
      ]
    },
    {
      "cell_type": "code",
      "execution_count": 38,
      "metadata": {},
      "outputs": [],
      "source": [
        "#walrasian allocation for test\n",
        "\n",
        "# x_a1 = 7\n",
        "# x_a2 = 8.75\n",
        "\n",
        "# x_b1 = 9\n",
        "# x_b2 = 11.25"
      ]
    },
    {
      "cell_type": "code",
      "execution_count": 39,
      "metadata": {},
      "outputs": [],
      "source": [
        "def requirement(r,t):\n",
        "    \n",
        "    \"\"\"\n",
        "    # 0 < t < r is a requirement, otherwise the function will not work\n",
        "    \"\"\"\n",
        "    \n",
        "    if t > 0:\n",
        "        if t < r:\n",
        "            return True\n",
        "        else:\n",
        "            return False\n",
        "    else:\n",
        "        return False"
      ]
    },
    {
      "cell_type": "markdown",
      "metadata": {},
      "source": []
    },
    {
      "cell_type": "code",
      "execution_count": 40,
      "metadata": {
        "id": "7n7LmqJMofQg"
      },
      "outputs": [],
      "source": [
        "def g_allocation(x_1,x_2,w_1,w_2,r,t):\n",
        "  \n",
        "  \n",
        "  if requirement(r,t) == False:\n",
        "      raise Exception(\"The requirement is not satisfied\")\n",
        "  \n",
        "  # g_a = (g_a^1,g_a^2)\n",
        "  \n",
        "  g_a1 = ((t/r)*w_1) + ((1-(t/r))*x_1)\n",
        "  \n",
        "  g_a2 = (t/r)*w_2 + (1-(t/r))*x_2\n",
        "  \n",
        "  # return g_a intro a list\n",
        "  return (g_a1,g_a2)"
      ]
    },
    {
      "cell_type": "code",
      "execution_count": 41,
      "metadata": {},
      "outputs": [],
      "source": [
        "def feasibility(x_1a,x_2a,x_1b,x_2b,r,t,w_1a,w_2a,w_1b,w_2b):\n",
        "    # 0 < t < r is a requirement, otherwise the function will not work\n",
        "  \n",
        "    if requirement(r,t) == False:\n",
        "      raise Exception(\"The requirement is not satisfied\")\n",
        "    \n",
        "    x_1 = r*x_1a + (r-t)*x_1b\n",
        "    x_2 = r*x_2a + (r-t)*x_2b\n",
        "    \n",
        "    w_1 = r*w_1a+(r-t)*w_1b\n",
        "    w_2 = r*w_2a+(r-t)*w_2b\n",
        "    \n",
        "    if x_1 > w_1:\n",
        "        return False # w_1 is not feasible\n",
        "    elif x_2 > w_2:\n",
        "        return False # w_2 is not feasible\n",
        "    else:\n",
        "        return True # w_1 and w_2 are feasible"
      ]
    },
    {
      "cell_type": "code",
      "execution_count": 42,
      "metadata": {},
      "outputs": [
        {
          "name": "stdout",
          "output_type": "stream",
          "text": [
            "r = 2\n",
            "a coalition with 2 A agents and 1 B agents object the given allocation.\n"
          ]
        }
      ],
      "source": [
        "r = 2\n",
        "found = False\n",
        "\n",
        "while True:\n",
        "    \n",
        "    print(f\"r = {r}\")\n",
        "    \n",
        "    for t in range(1,r):\n",
        "    #range function includes first value (1) but excludes last value (r).\n",
        "    #this satisfies the requirement 0 < t < r\n",
        "        g_a = g_allocation(x_a1,x_a2,w_a1,w_a2,r,t)\n",
        "        \n",
        "        is_Feasible = feasibility(g_a[0],g_a[1],x_b1,x_b2,r,t,w_a1,w_a2,w_b1,w_b2) \n",
        "        \n",
        "        # print(is_Feasible)\n",
        "        Ut_g_a = g_a[0]*g_a[1]\n",
        "        \n",
        "        # print(f\" Ut_g_a = {Ut_g_a}\")\n",
        "        \n",
        "        Ut_w_a = w_a1*w_a2\n",
        "        \n",
        "        # print(f\" Ut_w_a = {Ut_w_a}\")\n",
        "        \n",
        "        Ut_x_a = x_a1*x_a2\n",
        "        \n",
        "        if is_Feasible == True:\n",
        "            if Ut_g_a > Ut_w_a:\n",
        "               if Ut_g_a > Ut_x_a:\n",
        "                   print(f\"a coalition with {r} A agents and {r-t} B agents object the given allocation.\")\n",
        "                   found = True\n",
        "               else:\n",
        "                   continue\n",
        "            else:\n",
        "                continue\n",
        "        else:\n",
        "            continue\n",
        "    \n",
        "    if found == True:\n",
        "        break\n",
        "    elif r == 100:\n",
        "        pass\n",
        "    \n",
        "    r = r + 1\n",
        "    \n",
        "    "
      ]
    },
    {
      "cell_type": "markdown",
      "metadata": {},
      "source": [
        "para este resultado esto fue una perdida de tiempo :)"
      ]
    }
  ],
  "metadata": {
    "colab": {
      "collapsed_sections": [],
      "provenance": []
    },
    "kernelspec": {
      "display_name": "Python 3.10.1 64-bit",
      "language": "python",
      "name": "python3"
    },
    "language_info": {
      "codemirror_mode": {
        "name": "ipython",
        "version": 3
      },
      "file_extension": ".py",
      "mimetype": "text/x-python",
      "name": "python",
      "nbconvert_exporter": "python",
      "pygments_lexer": "ipython3",
      "version": "3.10.1"
    },
    "vscode": {
      "interpreter": {
        "hash": "aee8b7b246df8f9039afb4144a1f6fd8d2ca17a180786b69acc140d282b71a49"
      }
    }
  },
  "nbformat": 4,
  "nbformat_minor": 0
}
