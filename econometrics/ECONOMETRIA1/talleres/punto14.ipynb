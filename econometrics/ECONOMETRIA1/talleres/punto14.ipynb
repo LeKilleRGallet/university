{
 "cells": [
  {
   "cell_type": "code",
   "execution_count": 40,
   "metadata": {
    "vscode": {
     "languageId": "r"
    }
   },
   "outputs": [
    {
     "data": {
      "text/html": [
       "<table class=\"dataframe\">\n",
       "<caption>A data.frame: 8 × 2</caption>\n",
       "<thead>\n",
       "\t<tr><th scope=col>ACT</th><th scope=col>GPA</th></tr>\n",
       "\t<tr><th scope=col>&lt;dbl&gt;</th><th scope=col>&lt;dbl&gt;</th></tr>\n",
       "</thead>\n",
       "<tbody>\n",
       "\t<tr><td>21</td><td>2.8</td></tr>\n",
       "\t<tr><td>24</td><td>3.4</td></tr>\n",
       "\t<tr><td>26</td><td>3.0</td></tr>\n",
       "\t<tr><td>27</td><td>3.5</td></tr>\n",
       "\t<tr><td>29</td><td>3.6</td></tr>\n",
       "\t<tr><td>25</td><td>3.0</td></tr>\n",
       "\t<tr><td>25</td><td>2.7</td></tr>\n",
       "\t<tr><td>30</td><td>3.7</td></tr>\n",
       "</tbody>\n",
       "</table>\n"
      ],
      "text/latex": [
       "A data.frame: 8 × 2\n",
       "\\begin{tabular}{ll}\n",
       " ACT & GPA\\\\\n",
       " <dbl> & <dbl>\\\\\n",
       "\\hline\n",
       "\t 21 & 2.8\\\\\n",
       "\t 24 & 3.4\\\\\n",
       "\t 26 & 3.0\\\\\n",
       "\t 27 & 3.5\\\\\n",
       "\t 29 & 3.6\\\\\n",
       "\t 25 & 3.0\\\\\n",
       "\t 25 & 2.7\\\\\n",
       "\t 30 & 3.7\\\\\n",
       "\\end{tabular}\n"
      ],
      "text/markdown": [
       "\n",
       "A data.frame: 8 × 2\n",
       "\n",
       "| ACT &lt;dbl&gt; | GPA &lt;dbl&gt; |\n",
       "|---|---|\n",
       "| 21 | 2.8 |\n",
       "| 24 | 3.4 |\n",
       "| 26 | 3.0 |\n",
       "| 27 | 3.5 |\n",
       "| 29 | 3.6 |\n",
       "| 25 | 3.0 |\n",
       "| 25 | 2.7 |\n",
       "| 30 | 3.7 |\n",
       "\n"
      ],
      "text/plain": [
       "  ACT GPA\n",
       "1 21  2.8\n",
       "2 24  3.4\n",
       "3 26  3.0\n",
       "4 27  3.5\n",
       "5 29  3.6\n",
       "6 25  3.0\n",
       "7 25  2.7\n",
       "8 30  3.7"
      ]
     },
     "metadata": {},
     "output_type": "display_data"
    }
   ],
   "source": [
    "GPA<-c(2.8,3.4,3,3.5,3.6,3,2.7,3.7)\n",
    "ACT<-c(21,24,26,27,29,25,25,30)\n",
    "df<-data.frame(ACT,GPA)\n",
    "df"
   ]
  },
  {
   "cell_type": "code",
   "execution_count": 41,
   "metadata": {
    "vscode": {
     "languageId": "r"
    }
   },
   "outputs": [
    {
     "data": {
      "text/html": [
       "<table class=\"dataframe\">\n",
       "<caption>A matrix: 2 × 1 of type dbl</caption>\n",
       "<thead>\n",
       "\t<tr><th></th><th scope=col>df.GPA</th></tr>\n",
       "</thead>\n",
       "<tbody>\n",
       "\t<tr><th scope=row>X1</th><td>0.5681319</td></tr>\n",
       "\t<tr><th scope=row>df.ACT</th><td>0.1021978</td></tr>\n",
       "</tbody>\n",
       "</table>\n"
      ],
      "text/latex": [
       "A matrix: 2 × 1 of type dbl\n",
       "\\begin{tabular}{r|l}\n",
       "  & df.GPA\\\\\n",
       "\\hline\n",
       "\tX1 & 0.5681319\\\\\n",
       "\tdf.ACT & 0.1021978\\\\\n",
       "\\end{tabular}\n"
      ],
      "text/markdown": [
       "\n",
       "A matrix: 2 × 1 of type dbl\n",
       "\n",
       "| <!--/--> | df.GPA |\n",
       "|---|---|\n",
       "| X1 | 0.5681319 |\n",
       "| df.ACT | 0.1021978 |\n",
       "\n"
      ],
      "text/plain": [
       "       df.GPA   \n",
       "X1     0.5681319\n",
       "df.ACT 0.1021978"
      ]
     },
     "metadata": {},
     "output_type": "display_data"
    }
   ],
   "source": [
    "X<-data.frame(1.0,df$ACT)\n",
    "Y<-data.frame(df$GPA)\n",
    "Y<-data.matrix(Y)\n",
    "X<-data.matrix(X)\n",
    "X_t<-t(X)\n",
    "X_tX<-X_t %*% X\n",
    "X_tX_inv<-solve(X_tX)\n",
    "X_tY<-X_t %*% Y\n",
    "\n",
    "BETA<-X_tX_inv %*% X_tY\n",
    "\n",
    "\n",
    "BETA\n"
   ]
  },
  {
   "cell_type": "code",
   "execution_count": 46,
   "metadata": {
    "vscode": {
     "languageId": "r"
    }
   },
   "outputs": [
    {
     "name": "stdout",
     "output_type": "stream",
     "text": [
      "if ACT up in 7.0, GPA will be up in  0.7153846 \n"
     ]
    }
   ],
   "source": [
    "cat('if ACT up in 7.0, GPA will be up in ',BETA[2,1]*7,'\\n')"
   ]
  },
  {
   "cell_type": "code",
   "execution_count": 42,
   "metadata": {
    "vscode": {
     "languageId": "r"
    }
   },
   "outputs": [
    {
     "data": {
      "text/html": [
       "<table class=\"dataframe\">\n",
       "<caption>A data.frame: 8 × 4</caption>\n",
       "<thead>\n",
       "\t<tr><th scope=col>ACT</th><th scope=col>GPA</th><th scope=col>GPA_pred</th><th scope=col>ERRORS</th></tr>\n",
       "\t<tr><th scope=col>&lt;dbl&gt;</th><th scope=col>&lt;dbl&gt;</th><th scope=col>&lt;dbl[,1]&gt;</th><th scope=col>&lt;dbl[,1]&gt;</th></tr>\n",
       "</thead>\n",
       "<tbody>\n",
       "\t<tr><td>21</td><td>2.8</td><td>2.714286</td><td> 0.08571429</td></tr>\n",
       "\t<tr><td>24</td><td>3.4</td><td>3.020879</td><td> 0.37912088</td></tr>\n",
       "\t<tr><td>26</td><td>3.0</td><td>3.225275</td><td>-0.22527473</td></tr>\n",
       "\t<tr><td>27</td><td>3.5</td><td>3.327473</td><td> 0.17252747</td></tr>\n",
       "\t<tr><td>29</td><td>3.6</td><td>3.531868</td><td> 0.06813187</td></tr>\n",
       "\t<tr><td>25</td><td>3.0</td><td>3.123077</td><td>-0.12307692</td></tr>\n",
       "\t<tr><td>25</td><td>2.7</td><td>3.123077</td><td>-0.42307692</td></tr>\n",
       "\t<tr><td>30</td><td>3.7</td><td>3.634066</td><td> 0.06593407</td></tr>\n",
       "</tbody>\n",
       "</table>\n"
      ],
      "text/latex": [
       "A data.frame: 8 × 4\n",
       "\\begin{tabular}{llll}\n",
       " ACT & GPA & GPA\\_pred & ERRORS\\\\\n",
       " <dbl> & <dbl> & <dbl{[},1{]}> & <dbl{[},1{]}>\\\\\n",
       "\\hline\n",
       "\t 21 & 2.8 & 2.714286 &  0.08571429\\\\\n",
       "\t 24 & 3.4 & 3.020879 &  0.37912088\\\\\n",
       "\t 26 & 3.0 & 3.225275 & -0.22527473\\\\\n",
       "\t 27 & 3.5 & 3.327473 &  0.17252747\\\\\n",
       "\t 29 & 3.6 & 3.531868 &  0.06813187\\\\\n",
       "\t 25 & 3.0 & 3.123077 & -0.12307692\\\\\n",
       "\t 25 & 2.7 & 3.123077 & -0.42307692\\\\\n",
       "\t 30 & 3.7 & 3.634066 &  0.06593407\\\\\n",
       "\\end{tabular}\n"
      ],
      "text/markdown": [
       "\n",
       "A data.frame: 8 × 4\n",
       "\n",
       "| ACT &lt;dbl&gt; | GPA &lt;dbl&gt; | GPA_pred &lt;dbl[,1]&gt; | ERRORS &lt;dbl[,1]&gt; |\n",
       "|---|---|---|---|\n",
       "| 21 | 2.8 | 2.714286 |  0.08571429 |\n",
       "| 24 | 3.4 | 3.020879 |  0.37912088 |\n",
       "| 26 | 3.0 | 3.225275 | -0.22527473 |\n",
       "| 27 | 3.5 | 3.327473 |  0.17252747 |\n",
       "| 29 | 3.6 | 3.531868 |  0.06813187 |\n",
       "| 25 | 3.0 | 3.123077 | -0.12307692 |\n",
       "| 25 | 2.7 | 3.123077 | -0.42307692 |\n",
       "| 30 | 3.7 | 3.634066 |  0.06593407 |\n",
       "\n"
      ],
      "text/plain": [
       "  ACT GPA GPA_pred ERRORS     \n",
       "1 21  2.8 2.714286  0.08571429\n",
       "2 24  3.4 3.020879  0.37912088\n",
       "3 26  3.0 3.225275 -0.22527473\n",
       "4 27  3.5 3.327473  0.17252747\n",
       "5 29  3.6 3.531868  0.06813187\n",
       "6 25  3.0 3.123077 -0.12307692\n",
       "7 25  2.7 3.123077 -0.42307692\n",
       "8 30  3.7 3.634066  0.06593407"
      ]
     },
     "metadata": {},
     "output_type": "display_data"
    }
   ],
   "source": [
    "\n",
    "df$GPA_pred<-X %*% BETA\n",
    "df$ERRORS<-df$GPA-df$GPA_pred\n",
    "\n",
    "df"
   ]
  },
  {
   "cell_type": "code",
   "execution_count": 43,
   "metadata": {
    "vscode": {
     "languageId": "r"
    }
   },
   "outputs": [
    {
     "name": "stdout",
     "output_type": "stream",
     "text": [
      "the sum of errors is  0"
     ]
    }
   ],
   "source": [
    "cat('the sum of errors is ',sum(round(df$ERRORS,0)))"
   ]
  },
  {
   "cell_type": "code",
   "execution_count": 44,
   "metadata": {
    "vscode": {
     "languageId": "r"
    }
   },
   "outputs": [
    {
     "name": "stdout",
     "output_type": "stream",
     "text": [
      "if ACT is 20, GPA will be  2.612088"
     ]
    }
   ],
   "source": [
    "cat('if ACT is 20, GPA will be ',BETA[1,1]+BETA[2,1]*20)"
   ]
  },
  {
   "cell_type": "code",
   "execution_count": 45,
   "metadata": {
    "vscode": {
     "languageId": "r"
    }
   },
   "outputs": [
    {
     "name": "stdout",
     "output_type": "stream",
     "text": [
      "the variance of GPA is  0.1469643 \n",
      "the variance of GPA_pred is  0.08486068 \n",
      "R^2 is  0.5774238 \n"
     ]
    }
   ],
   "source": [
    "var_gpa<-var(df$GPA)\n",
    "var_gpa_prec<-var(df$GPA_pred)\n",
    "var_gpa_prec<-var_gpa_prec[1,1]\n",
    "\n",
    "cat('the variance of GPA is ',var_gpa,'\\n')\n",
    "cat('the variance of GPA_pred is ',var_gpa_prec,'\\n')\n",
    "\n",
    "cat('R^2 is ',var_gpa_prec/var_gpa,'\\n')"
   ]
  },
  {
   "cell_type": "markdown",
   "metadata": {},
   "source": [
    "una gran proporcion de la varianza de GPA esta explicada por ACT, por lo que se puede concluir que ACT esta siendo un buen predictor de GPA"
   ]
  }
 ],
 "metadata": {
  "kernelspec": {
   "display_name": "R",
   "language": "R",
   "name": "ir"
  },
  "language_info": {
   "codemirror_mode": "r",
   "file_extension": ".r",
   "mimetype": "text/x-r-source",
   "name": "R",
   "pygments_lexer": "r",
   "version": "4.1.3"
  },
  "orig_nbformat": 4
 },
 "nbformat": 4,
 "nbformat_minor": 2
}
