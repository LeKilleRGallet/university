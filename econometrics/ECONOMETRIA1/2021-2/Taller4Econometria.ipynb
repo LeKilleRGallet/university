{
  "nbformat": 4,
  "nbformat_minor": 0,
  "metadata": {
    "colab": {
      "name": "Taller4Econometria.ipynb",
      "provenance": [],
      "collapsed_sections": []
    },
    "kernelspec": {
      "name": "ir",
      "display_name": "R"
    },
    "language_info": {
      "name": "R"
    }
  },
  "cells": [
    {
      "cell_type": "markdown",
      "source": [
        "1) la diferencia entre la prediccion media e individual es que: mientras la prediccion media se haya utilizando la recta de regresion, la individual se haya mediante residuos, ambas predicciones deben dar el mismo resultado pero la diferencia esta en las varianzas que son distintas.\n",
        "$\\text{Varianza prediccion Media}\\\\\n",
        "var(\\hat Y_0)=\\sigma^2[\\frac{1}{n}+\\frac{(X_0-\\bar X)^2}{\\sum x_i^2}]\\\\\n",
        "\\text{Varianza prediccion individual}\\\\\n",
        "var(\\hat Y_0)=\\sigma^2[1+\\frac{1}{n}+\\frac{(X_0-\\bar X)^2}{\\sum x_i^2}]$\n"
      ],
      "metadata": {
        "id": "34xaoJs-K41G"
      }
    },
    {
      "cell_type": "markdown",
      "source": [
        "2)\\\n",
        "$y_0=\\beta_1+\\beta_2x_0\\\\\n",
        "E(\\hat y_0)=E(\\beta_1)+E(\\beta_2)x_0\\\\\n",
        "var(\\hat y_0)=var(\\beta_1)+var(\\beta_2)x_0^2+2cov(\\beta_1\\beta_2)x_0\\\\\n",
        "var(y_0)=\\frac{\\sum X_i^2}{n\\sum x^2_i}\\sigma^2+\\frac{\\sigma^2}{\\sum x^2_i}x_0^2+2(-\\bar X(\\frac{\\sigma^2}{\\sum x_i^2})x_0)\\\\\n",
        "var(y_0)=\\sigma^2(\\frac{\\sum X_i^2}{n\\sum x^2_i}+\\frac{x_0^2}{\\sum x^2_i}+\\frac{2(x_0-\\bar X)}{\\sum x_i^2})\\\\\n",
        "var(y_0)=\\sigma^2(\\frac{1}{n}+\\frac{(x_0-\\bar X)^2}{\\sum x_i^2})$"
      ],
      "metadata": {
        "id": "IaPl54rfMG_-"
      }
    },
    {
      "cell_type": "markdown",
      "source": [
        "3) \\\n",
        "$var(y_0)=E(Y_0-E(y_0))^2\\\\\n",
        "var(y_0)=E(x_0^T(b-\\beta)(b-\\beta)^Tx_0)\\\\\n",
        "var(y_0)=x_0^TE((b-\\beta)(b-\\beta)^T)x_0\\\\\n",
        "var(y_0)=\\sigma^2x_0^T(X^TX)^{-1}x_0$\n",
        "\n",
        "$var(\\hat y_0-y_0)=E((\\hat y_0-y_0)^2)\\\\\n",
        "var(\\hat y_0-y_0)=x_0^TE((b-\\beta)(b-\\beta)^T)x_0+E(e_0^2)-2E(e_0(b-\\beta)^Tx_0)\\\\\n",
        "var(\\hat y_0-y_0)=\\sigma^2x_0^T(X^TX)^{-1}x_0+\\sigma^2+0\\\\\n",
        "var(\\hat y_0-y_0)=\\sigma^2(x_0^T(X^TX)^{-1}x_0+1)$\n"
      ],
      "metadata": {
        "id": "ai0Z_okzMV0j"
      }
    },
    {
      "cell_type": "code",
      "source": [
        "install.packages(\"wooldridge\")\n",
        "install.packages(\"stargazer\")\n",
        "install.packages(\"car\")"
      ],
      "metadata": {
        "id": "GZVMnzwFX32U"
      },
      "execution_count": null,
      "outputs": []
    },
    {
      "cell_type": "code",
      "source": [
        "library(wooldridge)\n",
        "library(stargazer)\n",
        "library(car)\n",
        "data(\"wage1\",package = \"wooldridge\")\n",
        "str(wage1)"
      ],
      "metadata": {
        "id": "jPNbYQTkZwBq"
      },
      "execution_count": null,
      "outputs": []
    },
    {
      "cell_type": "markdown",
      "source": [
        " a) Muestre la tabla de salida de la regresión por medio del comando ‘Stargazer’ Nómbrela con un tı́tulo. En lugar de mostrar el error estándar de cada coeficiente, mostrar el intervalo de confianza al 95% y por comodidad el intercepto debe quedar arriba de la tabla y no abajo."
      ],
      "metadata": {
        "id": "lIJb2ztsRDem"
      }
    },
    {
      "cell_type": "code",
      "source": [
        "modelo<-lm(log(wage)~female+nonwhite+married+educ+exper+tenure,data=wage1)\n"
      ],
      "metadata": {
        "id": "EaeZh9boAbFo"
      },
      "execution_count": null,
      "outputs": []
    },
    {
      "cell_type": "code",
      "source": [
        "stargazer(modelo,type=\"text\", title=\"diferencia salarial\",intercept.bottom=FALSE,intercept.top = TRUE,ci=TRUE)"
      ],
      "metadata": {
        "colab": {
          "base_uri": "https://localhost:8080/"
        },
        "id": "Wf2L7wmpQi-G",
        "outputId": "b3507cf3-8eb7-4a9c-f662-e7615a7ed2f5"
      },
      "execution_count": null,
      "outputs": [
        {
          "output_type": "stream",
          "name": "stdout",
          "text": [
            "\n",
            "diferencia salarial\n",
            "===============================================\n",
            "                        Dependent variable:    \n",
            "                    ---------------------------\n",
            "                             log(wage)         \n",
            "-----------------------------------------------\n",
            "Constant                     0.491***          \n",
            "                          (0.290, 0.691)       \n",
            "                                               \n",
            "female                       -0.286***         \n",
            "                         (-0.359, -0.212)      \n",
            "                                               \n",
            "nonwhite                      -0.003           \n",
            "                          (-0.119, 0.114)      \n",
            "                                               \n",
            "married                      0.126***          \n",
            "                          (0.047, 0.204)       \n",
            "                                               \n",
            "educ                         0.084***          \n",
            "                          (0.070, 0.098)       \n",
            "                                               \n",
            "exper                         0.003*           \n",
            "                         (-0.0002, 0.006)      \n",
            "                                               \n",
            "tenure                       0.017***          \n",
            "                          (0.011, 0.023)       \n",
            "                                               \n",
            "-----------------------------------------------\n",
            "Observations                    526            \n",
            "R2                             0.404           \n",
            "Adjusted R2                    0.397           \n",
            "Residual Std. Error      0.413 (df = 519)      \n",
            "F Statistic           58.540*** (df = 6; 519)  \n",
            "===============================================\n",
            "Note:               *p<0.1; **p<0.05; ***p<0.01\n"
          ]
        }
      ]
    },
    {
      "cell_type": "markdown",
      "source": [
        "$\\hat{ln(wage_i)}=0.491-0.286female_i-0.003nonwhite_i+0.126married_i+0.084educ_i+0.03exper_i+0.017tenure_i$"
      ],
      "metadata": {
        "id": "xP561rr_WeVi"
      }
    },
    {
      "cell_type": "markdown",
      "source": [
        "b) ¿Qué tan grande es el salario de un hombre a comparación de una mujer? ¿Es esta diferencia estadı́sticamente significativa? Muestre una gráfica que le permita validar esta información"
      ],
      "metadata": {
        "id": "UjcKcRWOViZj"
      }
    },
    {
      "cell_type": "markdown",
      "source": [
        "Una  mujer gana en comparación con un hombre un $28.6\\%$ menos. \n",
        "\n",
        "La diferencia es estadísticamente significativa con un nivel de significancia del $5\\%$"
      ],
      "metadata": {
        "id": "Mng1kDVkTbwy"
      }
    },
    {
      "cell_type": "code",
      "source": [
        "boxplot(log(wage)~female,data = wage1,xlab='Genero',ylab='Salario')\n",
        "legend('bottomright',legend=c('1: Mujer','0: Hombre'))\n",
        "\n",
        "hip1<-matrix(c(0,1,0,0,0,0,0),ncol=7,nrow = 1,byrow = TRUE)\n",
        "linearHypothesis(modelo,hypothesis.matrix = hip1,rhs = 0)\n"
      ],
      "metadata": {
        "colab": {
          "base_uri": "https://localhost:8080/",
          "height": 581
        },
        "id": "OLkVnX1oPmwT",
        "outputId": "c27f4c82-f29c-4e70-881d-c480b1d9411a"
      },
      "execution_count": null,
      "outputs": [
        {
          "output_type": "display_data",
          "data": {
            "text/plain": [
              "  Res.Df RSS      Df Sum of Sq F        Pr(>F)      \n",
              "1 520    98.44646 NA       NA        NA           NA\n",
              "2 519    88.46190  1 9.984561  58.57875 9.589777e-14"
            ],
            "text/latex": "A anova: 2 × 6\n\\begin{tabular}{r|llllll}\n  & Res.Df & RSS & Df & Sum of Sq & F & Pr(>F)\\\\\n  & <dbl> & <dbl> & <dbl> & <dbl> & <dbl> & <dbl>\\\\\n\\hline\n\t1 & 520 & 98.44646 & NA &       NA &       NA &           NA\\\\\n\t2 & 519 & 88.46190 &  1 & 9.984561 & 58.57875 & 9.589777e-14\\\\\n\\end{tabular}\n",
            "text/markdown": "\nA anova: 2 × 6\n\n| <!--/--> | Res.Df &lt;dbl&gt; | RSS &lt;dbl&gt; | Df &lt;dbl&gt; | Sum of Sq &lt;dbl&gt; | F &lt;dbl&gt; | Pr(&gt;F) &lt;dbl&gt; |\n|---|---|---|---|---|---|---|\n| 1 | 520 | 98.44646 | NA |       NA |       NA |           NA |\n| 2 | 519 | 88.46190 |  1 | 9.984561 | 58.57875 | 9.589777e-14 |\n\n",
            "text/html": [
              "<table class=\"dataframe\">\n",
              "<caption>A anova: 2 × 6</caption>\n",
              "<thead>\n",
              "\t<tr><th></th><th scope=col>Res.Df</th><th scope=col>RSS</th><th scope=col>Df</th><th scope=col>Sum of Sq</th><th scope=col>F</th><th scope=col>Pr(&gt;F)</th></tr>\n",
              "\t<tr><th></th><th scope=col>&lt;dbl&gt;</th><th scope=col>&lt;dbl&gt;</th><th scope=col>&lt;dbl&gt;</th><th scope=col>&lt;dbl&gt;</th><th scope=col>&lt;dbl&gt;</th><th scope=col>&lt;dbl&gt;</th></tr>\n",
              "</thead>\n",
              "<tbody>\n",
              "\t<tr><th scope=row>1</th><td>520</td><td>98.44646</td><td>NA</td><td>      NA</td><td>      NA</td><td>          NA</td></tr>\n",
              "\t<tr><th scope=row>2</th><td>519</td><td>88.46190</td><td> 1</td><td>9.984561</td><td>58.57875</td><td>9.589777e-14</td></tr>\n",
              "</tbody>\n",
              "</table>\n"
            ]
          },
          "metadata": {}
        },
        {
          "output_type": "display_data",
          "data": {
            "image/png": "[encoded data removed]",
            "text/plain": [
              "plot without title"
            ]
          },
          "metadata": {
            "image/png": {
              "width": 420,
              "height": 420
            }
          }
        }
      ]
    },
    {
      "cell_type": "markdown",
      "source": [
        "c) ¿Qué tan grande es el salario de alguien caucásico a comparación de alguien no caucásico? ¿Es esta diferencia estadı́sticamente significativa? Muestre una gráfica que le permita validar esta información."
      ],
      "metadata": {
        "id": "Ez4uT1qvWAne"
      }
    },
    {
      "cell_type": "markdown",
      "source": [
        "Una persona no caucásica gana $0.3\\%$ menos que alguien caucásico.\n",
        "\n",
        "La diferencia no es estadísticamente significativa a un nivel de significancia del $5\\%$"
      ],
      "metadata": {
        "id": "twx5PGO2T-xL"
      }
    },
    {
      "cell_type": "code",
      "source": [
        "boxplot(log(wage)~nonwhite,data = wage1,xlab='Raza',ylab='Salario')\n",
        "legend('bottomright',legend=c('1: No Caucásico','0: Caucásico'))\n",
        "\n",
        "hip2<-matrix(c(0,0,1,0,0,0,0),ncol=7,nrow = 1,byrow = TRUE)\n",
        "linearHypothesis(modelo,hypothesis.matrix = hip2,rhs = 0)\n"
      ],
      "metadata": {
        "colab": {
          "base_uri": "https://localhost:8080/",
          "height": 581
        },
        "id": "ASZmH8rYPopz",
        "outputId": "9a7cf547-cf4c-4d97-9486-2fca9cdaaa3b"
      },
      "execution_count": null,
      "outputs": [
        {
          "output_type": "display_data",
          "data": {
            "text/plain": [
              "  Res.Df RSS      Df Sum of Sq    F           Pr(>F)   \n",
              "1 520    88.46221 NA           NA          NA        NA\n",
              "2 519    88.46190  1 0.0003060024 0.001795296 0.9662193"
            ],
            "text/latex": "A anova: 2 × 6\n\\begin{tabular}{r|llllll}\n  & Res.Df & RSS & Df & Sum of Sq & F & Pr(>F)\\\\\n  & <dbl> & <dbl> & <dbl> & <dbl> & <dbl> & <dbl>\\\\\n\\hline\n\t1 & 520 & 88.46221 & NA &           NA &          NA &        NA\\\\\n\t2 & 519 & 88.46190 &  1 & 0.0003060024 & 0.001795296 & 0.9662193\\\\\n\\end{tabular}\n",
            "text/markdown": "\nA anova: 2 × 6\n\n| <!--/--> | Res.Df &lt;dbl&gt; | RSS &lt;dbl&gt; | Df &lt;dbl&gt; | Sum of Sq &lt;dbl&gt; | F &lt;dbl&gt; | Pr(&gt;F) &lt;dbl&gt; |\n|---|---|---|---|---|---|---|\n| 1 | 520 | 88.46221 | NA |           NA |          NA |        NA |\n| 2 | 519 | 88.46190 |  1 | 0.0003060024 | 0.001795296 | 0.9662193 |\n\n",
            "text/html": [
              "<table class=\"dataframe\">\n",
              "<caption>A anova: 2 × 6</caption>\n",
              "<thead>\n",
              "\t<tr><th></th><th scope=col>Res.Df</th><th scope=col>RSS</th><th scope=col>Df</th><th scope=col>Sum of Sq</th><th scope=col>F</th><th scope=col>Pr(&gt;F)</th></tr>\n",
              "\t<tr><th></th><th scope=col>&lt;dbl&gt;</th><th scope=col>&lt;dbl&gt;</th><th scope=col>&lt;dbl&gt;</th><th scope=col>&lt;dbl&gt;</th><th scope=col>&lt;dbl&gt;</th><th scope=col>&lt;dbl&gt;</th></tr>\n",
              "</thead>\n",
              "<tbody>\n",
              "\t<tr><th scope=row>1</th><td>520</td><td>88.46221</td><td>NA</td><td>          NA</td><td>         NA</td><td>       NA</td></tr>\n",
              "\t<tr><th scope=row>2</th><td>519</td><td>88.46190</td><td> 1</td><td>0.0003060024</td><td>0.001795296</td><td>0.9662193</td></tr>\n",
              "</tbody>\n",
              "</table>\n"
            ]
          },
          "metadata": {}
        },
        {
          "output_type": "display_data",
          "data": {
            "image/png": "[encoded data removed]",
            "text/plain": [
              "plot without title"
            ]
          },
          "metadata": {
            "image/png": {
              "width": 420,
              "height": 420
            }
          }
        }
      ]
    },
    {
      "cell_type": "markdown",
      "source": [
        "d) ¿Qué tan grande es el salario de un individuo casado a comparación de alguien que no está casado? ¿Es esta diferencia estadı́sticamente significativa?Muestre una gráfica que le permita validar esta información."
      ],
      "metadata": {
        "id": "ma2Lizw1WFTl"
      }
    },
    {
      "cell_type": "markdown",
      "source": [
        "Una persona casada gana $12.6\\%$ más que alguien soltero.\n",
        "\n",
        "La diferencia  es estadísticamente significativa a un nivel de significancia del $5\\%$"
      ],
      "metadata": {
        "id": "VMzG1Cr-UU_Q"
      }
    },
    {
      "cell_type": "code",
      "source": [
        "boxplot(log(wage)~married,data=wage1,xlab='Estado Civil',ylab='Salario')\n",
        "legend('bottomright',legend=c('1: Casado','0: Soltero'))\n",
        "\n",
        "hip3<-matrix(c(0,0,0,1,0,0,0),ncol=7,nrow = 1,byrow = TRUE)\n",
        "linearHypothesis(modelo,hypothesis.matrix = hip3,rhs = 0)\n"
      ],
      "metadata": {
        "colab": {
          "base_uri": "https://localhost:8080/",
          "height": 581
        },
        "id": "fFBiZNTUPtfq",
        "outputId": "18c8ee11-c715-4230-850c-20becb0d78cf"
      },
      "execution_count": null,
      "outputs": [
        {
          "output_type": "display_data",
          "data": {
            "text/plain": [
              "  Res.Df RSS      Df Sum of Sq F        Pr(>F)     \n",
              "1 520    90.13525 NA       NA        NA          NA\n",
              "2 519    88.46190  1 1.673352  9.817445 0.001826314"
            ],
            "text/latex": "A anova: 2 × 6\n\\begin{tabular}{r|llllll}\n  & Res.Df & RSS & Df & Sum of Sq & F & Pr(>F)\\\\\n  & <dbl> & <dbl> & <dbl> & <dbl> & <dbl> & <dbl>\\\\\n\\hline\n\t1 & 520 & 90.13525 & NA &       NA &       NA &          NA\\\\\n\t2 & 519 & 88.46190 &  1 & 1.673352 & 9.817445 & 0.001826314\\\\\n\\end{tabular}\n",
            "text/markdown": "\nA anova: 2 × 6\n\n| <!--/--> | Res.Df &lt;dbl&gt; | RSS &lt;dbl&gt; | Df &lt;dbl&gt; | Sum of Sq &lt;dbl&gt; | F &lt;dbl&gt; | Pr(&gt;F) &lt;dbl&gt; |\n|---|---|---|---|---|---|---|\n| 1 | 520 | 90.13525 | NA |       NA |       NA |          NA |\n| 2 | 519 | 88.46190 |  1 | 1.673352 | 9.817445 | 0.001826314 |\n\n",
            "text/html": [
              "<table class=\"dataframe\">\n",
              "<caption>A anova: 2 × 6</caption>\n",
              "<thead>\n",
              "\t<tr><th></th><th scope=col>Res.Df</th><th scope=col>RSS</th><th scope=col>Df</th><th scope=col>Sum of Sq</th><th scope=col>F</th><th scope=col>Pr(&gt;F)</th></tr>\n",
              "\t<tr><th></th><th scope=col>&lt;dbl&gt;</th><th scope=col>&lt;dbl&gt;</th><th scope=col>&lt;dbl&gt;</th><th scope=col>&lt;dbl&gt;</th><th scope=col>&lt;dbl&gt;</th><th scope=col>&lt;dbl&gt;</th></tr>\n",
              "</thead>\n",
              "<tbody>\n",
              "\t<tr><th scope=row>1</th><td>520</td><td>90.13525</td><td>NA</td><td>      NA</td><td>      NA</td><td>         NA</td></tr>\n",
              "\t<tr><th scope=row>2</th><td>519</td><td>88.46190</td><td> 1</td><td>1.673352</td><td>9.817445</td><td>0.001826314</td></tr>\n",
              "</tbody>\n",
              "</table>\n"
            ]
          },
          "metadata": {}
        },
        {
          "output_type": "display_data",
          "data": {
            "image/png": "[encoded data removed]",
            "text/plain": [
              "plot without title"
            ]
          },
          "metadata": {
            "image/png": {
              "width": 420,
              "height": 420
            }
          }
        }
      ]
    },
    {
      "cell_type": "markdown",
      "source": [
        "e) ¿Qué tan grande es el salario de un hombre casado a comparación de una mujer no casada? ¿Es esta diferencia estadı́sticamente significativa?"
      ],
      "metadata": {
        "id": "4Sg3JMftWJzV"
      }
    },
    {
      "cell_type": "markdown",
      "source": [
        "$E(wage|female=0,married=1)-E(wage|female=1,married=0)=(0.491+0.126)-(0.491-0.286)=0.412$.\n",
        "\n",
        "Es decir, un hombre casado gana $41.2\\%$ más que una mujer soltera"
      ],
      "metadata": {
        "id": "_bF3MPOIXSMX"
      }
    },
    {
      "cell_type": "markdown",
      "source": [
        "f ) ¿Qué tan grande es el salario de una mujer caucásica y casada a comparación con un hombre no caucásico ni casado? ¿Es esta diferencia estadı́sticamente significativa?"
      ],
      "metadata": {
        "id": "TliBVSN_WOKG"
      }
    },
    {
      "cell_type": "markdown",
      "source": [
        "$E(wage|nonwhite=0,female=1,married=1)-E(wage|female=0,nonwhite=1,married=1)=(0.491-0.286+0.126)-(0.491-0.003+0.126)=-0.283$.\n",
        "\n",
        "Es decir, una mujer caucásica y casada gana $28.3\\%$ menos que un hombre no caucásico y soltero."
      ],
      "metadata": {
        "id": "QPbjGb-DYAl5"
      }
    },
    {
      "cell_type": "markdown",
      "source": [
        "g) Calcule:\\\n",
        "*i*)Suma de Residuos al Cuadrado,\\\n",
        "ii) varianza y desviación estándar de los residuos,\\\n",
        "iii) Matriz X ′ X y su inversa (incluya el intercepto),\\\n",
        "iv)‘t’ tabulado/crı́tico a dos colas con α = 5%."
      ],
      "metadata": {
        "id": "MZDMqt9LWRmN"
      }
    },
    {
      "cell_type": "code",
      "source": [
        "SSE<-sum((modelo$residuals)^2)\n",
        "SSE"
      ],
      "metadata": {
        "colab": {
          "base_uri": "https://localhost:8080/",
          "height": 35
        },
        "id": "2aRdnkYUPwh7",
        "outputId": "17563854-973f-414c-ad3d-95b5077bfb57"
      },
      "execution_count": null,
      "outputs": [
        {
          "output_type": "display_data",
          "data": {
            "text/plain": [
              "[1] 88.4619"
            ],
            "text/latex": "88.4618999979467",
            "text/markdown": "88.4618999979467",
            "text/html": [
              "88.4618999979467"
            ]
          },
          "metadata": {}
        }
      ]
    },
    {
      "cell_type": "code",
      "source": [
        "var_res<-SSE/(526-6-1)\n",
        "var_res"
      ],
      "metadata": {
        "colab": {
          "base_uri": "https://localhost:8080/",
          "height": 35
        },
        "id": "E8YI-sWmPz_6",
        "outputId": "6901d6a7-aa07-452f-dabc-43dec8b3bee4"
      },
      "execution_count": null,
      "outputs": [
        {
          "output_type": "display_data",
          "data": {
            "text/plain": [
              "[1] 0.1704468"
            ],
            "text/latex": "0.170446820805292",
            "text/markdown": "0.170446820805292",
            "text/html": [
              "0.170446820805292"
            ]
          },
          "metadata": {}
        }
      ]
    },
    {
      "cell_type": "code",
      "source": [
        "sd_res<-sqrt(var_res)\n",
        "sd_res"
      ],
      "metadata": {
        "colab": {
          "base_uri": "https://localhost:8080/",
          "height": 35
        },
        "id": "Zj0LIgqkQpzq",
        "outputId": "353f4e98-a545-45b4-f899-a763f2fc3c10"
      },
      "execution_count": null,
      "outputs": [
        {
          "output_type": "display_data",
          "data": {
            "text/plain": [
              "[1] 0.4128521"
            ],
            "text/latex": "0.412852056801577",
            "text/markdown": "0.412852056801577",
            "text/html": [
              "0.412852056801577"
            ]
          },
          "metadata": {}
        }
      ]
    },
    {
      "cell_type": "code",
      "source": [
        "x<-model.matrix(modelo)"
      ],
      "metadata": {
        "id": "-wsRvwkZP5m7"
      },
      "execution_count": null,
      "outputs": []
    },
    {
      "cell_type": "code",
      "source": [
        "xtx<-t(x)%*%x\n",
        "xtx"
      ],
      "metadata": {
        "colab": {
          "base_uri": "https://localhost:8080/",
          "height": 286
        },
        "id": "eAPywwIDQ0Rr",
        "outputId": "583db60d-b5e2-4f00-cba9-af9b22e737c2"
      },
      "execution_count": null,
      "outputs": [
        {
          "output_type": "display_data",
          "data": {
            "text/plain": [
              "            (Intercept) female nonwhite married educ   exper  tenure\n",
              "(Intercept)  526         252    54       320      6608   8951  2685 \n",
              "female       252         252    25       132      3104   4140   911 \n",
              "nonwhite      54          25    54        28       641    950   289 \n",
              "married      320         132    28       320      4069   6549  2078 \n",
              "educ        6608        3104   641      4069     87040 106539 33141 \n",
              "exper       8951        4140   950      6549    106539 249027 71393 \n",
              "tenure      2685         911   289      2078     33141  71393 41107 "
            ],
            "text/latex": "A matrix: 7 × 7 of type dbl\n\\begin{tabular}{r|lllllll}\n  & (Intercept) & female & nonwhite & married & educ & exper & tenure\\\\\n\\hline\n\t(Intercept) &  526 &  252 &  54 &  320 &   6608 &   8951 &  2685\\\\\n\tfemale &  252 &  252 &  25 &  132 &   3104 &   4140 &   911\\\\\n\tnonwhite &   54 &   25 &  54 &   28 &    641 &    950 &   289\\\\\n\tmarried &  320 &  132 &  28 &  320 &   4069 &   6549 &  2078\\\\\n\teduc & 6608 & 3104 & 641 & 4069 &  87040 & 106539 & 33141\\\\\n\texper & 8951 & 4140 & 950 & 6549 & 106539 & 249027 & 71393\\\\\n\ttenure & 2685 &  911 & 289 & 2078 &  33141 &  71393 & 41107\\\\\n\\end{tabular}\n",
            "text/markdown": "\nA matrix: 7 × 7 of type dbl\n\n| <!--/--> | (Intercept) | female | nonwhite | married | educ | exper | tenure |\n|---|---|---|---|---|---|---|---|\n| (Intercept) |  526 |  252 |  54 |  320 |   6608 |   8951 |  2685 |\n| female |  252 |  252 |  25 |  132 |   3104 |   4140 |   911 |\n| nonwhite |   54 |   25 |  54 |   28 |    641 |    950 |   289 |\n| married |  320 |  132 |  28 |  320 |   4069 |   6549 |  2078 |\n| educ | 6608 | 3104 | 641 | 4069 |  87040 | 106539 | 33141 |\n| exper | 8951 | 4140 | 950 | 6549 | 106539 | 249027 | 71393 |\n| tenure | 2685 |  911 | 289 | 2078 |  33141 |  71393 | 41107 |\n\n",
            "text/html": [
              "<table class=\"dataframe\">\n",
              "<caption>A matrix: 7 × 7 of type dbl</caption>\n",
              "<thead>\n",
              "\t<tr><th></th><th scope=col>(Intercept)</th><th scope=col>female</th><th scope=col>nonwhite</th><th scope=col>married</th><th scope=col>educ</th><th scope=col>exper</th><th scope=col>tenure</th></tr>\n",
              "</thead>\n",
              "<tbody>\n",
              "\t<tr><th scope=row>(Intercept)</th><td> 526</td><td> 252</td><td> 54</td><td> 320</td><td>  6608</td><td>  8951</td><td> 2685</td></tr>\n",
              "\t<tr><th scope=row>female</th><td> 252</td><td> 252</td><td> 25</td><td> 132</td><td>  3104</td><td>  4140</td><td>  911</td></tr>\n",
              "\t<tr><th scope=row>nonwhite</th><td>  54</td><td>  25</td><td> 54</td><td>  28</td><td>   641</td><td>   950</td><td>  289</td></tr>\n",
              "\t<tr><th scope=row>married</th><td> 320</td><td> 132</td><td> 28</td><td> 320</td><td>  4069</td><td>  6549</td><td> 2078</td></tr>\n",
              "\t<tr><th scope=row>educ</th><td>6608</td><td>3104</td><td>641</td><td>4069</td><td> 87040</td><td>106539</td><td>33141</td></tr>\n",
              "\t<tr><th scope=row>exper</th><td>8951</td><td>4140</td><td>950</td><td>6549</td><td>106539</td><td>249027</td><td>71393</td></tr>\n",
              "\t<tr><th scope=row>tenure</th><td>2685</td><td> 911</td><td>289</td><td>2078</td><td> 33141</td><td> 71393</td><td>41107</td></tr>\n",
              "</tbody>\n",
              "</table>\n"
            ]
          },
          "metadata": {}
        }
      ]
    },
    {
      "cell_type": "code",
      "source": [
        "xtx_inv<-solve(xtx)\n",
        "xtx_inv"
      ],
      "metadata": {
        "id": "xJlUk1phP-C7"
      },
      "execution_count": null,
      "outputs": []
    },
    {
      "cell_type": "code",
      "source": [
        "Cov_betas<-var_res*xtx_inv\n",
        "Cov_betas"
      ],
      "metadata": {
        "colab": {
          "base_uri": "https://localhost:8080/",
          "height": 286
        },
        "id": "9Vo5z-L1Q8qh",
        "outputId": "87b273cb-9ecb-44ac-8d0d-eb16fa2017c3"
      },
      "execution_count": null,
      "outputs": [
        {
          "output_type": "display_data",
          "data": {
            "text/plain": [
              "            (Intercept)   female        nonwhite      married      \n",
              "(Intercept)  1.045117e-02 -1.015753e-03 -8.617481e-04 -1.788599e-04\n",
              "female      -1.015753e-03  1.392131e-03  5.452671e-05  2.011686e-04\n",
              "nonwhite    -8.617481e-04  5.452671e-05  3.558156e-03  1.446257e-04\n",
              "married     -1.788599e-04  2.011686e-04  1.446257e-04  1.607802e-03\n",
              "educ        -6.581368e-04  1.557930e-05  3.160857e-05 -4.403393e-05\n",
              "exper       -7.250958e-05 -4.674110e-06 -9.768116e-08 -1.905530e-05\n",
              "tenure       1.149861e-05  2.049927e-05 -2.561250e-06 -6.473142e-06\n",
              "            educ          exper         tenure       \n",
              "(Intercept) -6.581368e-04 -7.250958e-05  1.149861e-05\n",
              "female       1.557930e-05 -4.674110e-06  2.049927e-05\n",
              "nonwhite     3.160857e-05 -9.768116e-08 -2.561250e-06\n",
              "married     -4.403393e-05 -1.905530e-05 -6.473142e-06\n",
              "educ         4.899463e-05  3.979693e-06 -1.765666e-06\n",
              "exper        3.979693e-06  2.834786e-06 -2.328152e-06\n",
              "tenure      -1.765666e-06 -2.328152e-06  8.753238e-06"
            ],
            "text/latex": "A matrix: 7 × 7 of type dbl\n\\begin{tabular}{r|lllllll}\n  & (Intercept) & female & nonwhite & married & educ & exper & tenure\\\\\n\\hline\n\t(Intercept) &  1.045117e-02 & -1.015753e-03 & -8.617481e-04 & -1.788599e-04 & -6.581368e-04 & -7.250958e-05 &  1.149861e-05\\\\\n\tfemale & -1.015753e-03 &  1.392131e-03 &  5.452671e-05 &  2.011686e-04 &  1.557930e-05 & -4.674110e-06 &  2.049927e-05\\\\\n\tnonwhite & -8.617481e-04 &  5.452671e-05 &  3.558156e-03 &  1.446257e-04 &  3.160857e-05 & -9.768116e-08 & -2.561250e-06\\\\\n\tmarried & -1.788599e-04 &  2.011686e-04 &  1.446257e-04 &  1.607802e-03 & -4.403393e-05 & -1.905530e-05 & -6.473142e-06\\\\\n\teduc & -6.581368e-04 &  1.557930e-05 &  3.160857e-05 & -4.403393e-05 &  4.899463e-05 &  3.979693e-06 & -1.765666e-06\\\\\n\texper & -7.250958e-05 & -4.674110e-06 & -9.768116e-08 & -1.905530e-05 &  3.979693e-06 &  2.834786e-06 & -2.328152e-06\\\\\n\ttenure &  1.149861e-05 &  2.049927e-05 & -2.561250e-06 & -6.473142e-06 & -1.765666e-06 & -2.328152e-06 &  8.753238e-06\\\\\n\\end{tabular}\n",
            "text/markdown": "\nA matrix: 7 × 7 of type dbl\n\n| <!--/--> | (Intercept) | female | nonwhite | married | educ | exper | tenure |\n|---|---|---|---|---|---|---|---|\n| (Intercept) |  1.045117e-02 | -1.015753e-03 | -8.617481e-04 | -1.788599e-04 | -6.581368e-04 | -7.250958e-05 |  1.149861e-05 |\n| female | -1.015753e-03 |  1.392131e-03 |  5.452671e-05 |  2.011686e-04 |  1.557930e-05 | -4.674110e-06 |  2.049927e-05 |\n| nonwhite | -8.617481e-04 |  5.452671e-05 |  3.558156e-03 |  1.446257e-04 |  3.160857e-05 | -9.768116e-08 | -2.561250e-06 |\n| married | -1.788599e-04 |  2.011686e-04 |  1.446257e-04 |  1.607802e-03 | -4.403393e-05 | -1.905530e-05 | -6.473142e-06 |\n| educ | -6.581368e-04 |  1.557930e-05 |  3.160857e-05 | -4.403393e-05 |  4.899463e-05 |  3.979693e-06 | -1.765666e-06 |\n| exper | -7.250958e-05 | -4.674110e-06 | -9.768116e-08 | -1.905530e-05 |  3.979693e-06 |  2.834786e-06 | -2.328152e-06 |\n| tenure |  1.149861e-05 |  2.049927e-05 | -2.561250e-06 | -6.473142e-06 | -1.765666e-06 | -2.328152e-06 |  8.753238e-06 |\n\n",
            "text/html": [
              "<table class=\"dataframe\">\n",
              "<caption>A matrix: 7 × 7 of type dbl</caption>\n",
              "<thead>\n",
              "\t<tr><th></th><th scope=col>(Intercept)</th><th scope=col>female</th><th scope=col>nonwhite</th><th scope=col>married</th><th scope=col>educ</th><th scope=col>exper</th><th scope=col>tenure</th></tr>\n",
              "</thead>\n",
              "<tbody>\n",
              "\t<tr><th scope=row>(Intercept)</th><td> 1.045117e-02</td><td>-1.015753e-03</td><td>-8.617481e-04</td><td>-1.788599e-04</td><td>-6.581368e-04</td><td>-7.250958e-05</td><td> 1.149861e-05</td></tr>\n",
              "\t<tr><th scope=row>female</th><td>-1.015753e-03</td><td> 1.392131e-03</td><td> 5.452671e-05</td><td> 2.011686e-04</td><td> 1.557930e-05</td><td>-4.674110e-06</td><td> 2.049927e-05</td></tr>\n",
              "\t<tr><th scope=row>nonwhite</th><td>-8.617481e-04</td><td> 5.452671e-05</td><td> 3.558156e-03</td><td> 1.446257e-04</td><td> 3.160857e-05</td><td>-9.768116e-08</td><td>-2.561250e-06</td></tr>\n",
              "\t<tr><th scope=row>married</th><td>-1.788599e-04</td><td> 2.011686e-04</td><td> 1.446257e-04</td><td> 1.607802e-03</td><td>-4.403393e-05</td><td>-1.905530e-05</td><td>-6.473142e-06</td></tr>\n",
              "\t<tr><th scope=row>educ</th><td>-6.581368e-04</td><td> 1.557930e-05</td><td> 3.160857e-05</td><td>-4.403393e-05</td><td> 4.899463e-05</td><td> 3.979693e-06</td><td>-1.765666e-06</td></tr>\n",
              "\t<tr><th scope=row>exper</th><td>-7.250958e-05</td><td>-4.674110e-06</td><td>-9.768116e-08</td><td>-1.905530e-05</td><td> 3.979693e-06</td><td> 2.834786e-06</td><td>-2.328152e-06</td></tr>\n",
              "\t<tr><th scope=row>tenure</th><td> 1.149861e-05</td><td> 2.049927e-05</td><td>-2.561250e-06</td><td>-6.473142e-06</td><td>-1.765666e-06</td><td>-2.328152e-06</td><td> 8.753238e-06</td></tr>\n",
              "</tbody>\n",
              "</table>\n"
            ]
          },
          "metadata": {}
        }
      ]
    },
    {
      "cell_type": "code",
      "source": [
        "t_tab<-qt(0.975,df = 526-6-1,lower.tail = TRUE)\n",
        "t_tab\n"
      ],
      "metadata": {
        "colab": {
          "base_uri": "https://localhost:8080/",
          "height": 35
        },
        "id": "KILKGCoGQCZy",
        "outputId": "31352333-33cb-42a2-fde5-ac46d506bded"
      },
      "execution_count": null,
      "outputs": [
        {
          "output_type": "display_data",
          "data": {
            "text/plain": [
              "[1] 1.964545"
            ],
            "text/latex": "1.96454533149679",
            "text/markdown": "1.96454533149679",
            "text/html": [
              "1.96454533149679"
            ]
          },
          "metadata": {}
        }
      ]
    },
    {
      "cell_type": "code",
      "source": [
        "t_critico<-modelo$coefficients/sqrt(diag(Cov_betas))\n",
        "as.data.frame(t_critico)"
      ],
      "metadata": {
        "colab": {
          "base_uri": "https://localhost:8080/",
          "height": 317
        },
        "id": "0kWsYIUqRK_F",
        "outputId": "efdc829a-65a2-4904-810a-ced5e874dcd1"
      },
      "execution_count": null,
      "outputs": [
        {
          "output_type": "display_data",
          "data": {
            "text/plain": [
              "            t_critico  \n",
              "(Intercept)  4.79962562\n",
              "female      -7.65367537\n",
              "nonwhite    -0.04237093\n",
              "married      3.13328021\n",
              "educ        11.98389728\n",
              "exper        1.86143328\n",
              "tenure       5.70166137"
            ],
            "text/latex": "A data.frame: 7 × 1\n\\begin{tabular}{r|l}\n  & t\\_critico\\\\\n  & <dbl>\\\\\n\\hline\n\t(Intercept) &  4.79962562\\\\\n\tfemale & -7.65367537\\\\\n\tnonwhite & -0.04237093\\\\\n\tmarried &  3.13328021\\\\\n\teduc & 11.98389728\\\\\n\texper &  1.86143328\\\\\n\ttenure &  5.70166137\\\\\n\\end{tabular}\n",
            "text/markdown": "\nA data.frame: 7 × 1\n\n| <!--/--> | t_critico &lt;dbl&gt; |\n|---|---|\n| (Intercept) |  4.79962562 |\n| female | -7.65367537 |\n| nonwhite | -0.04237093 |\n| married |  3.13328021 |\n| educ | 11.98389728 |\n| exper |  1.86143328 |\n| tenure |  5.70166137 |\n\n",
            "text/html": [
              "<table class=\"dataframe\">\n",
              "<caption>A data.frame: 7 × 1</caption>\n",
              "<thead>\n",
              "\t<tr><th></th><th scope=col>t_critico</th></tr>\n",
              "\t<tr><th></th><th scope=col>&lt;dbl&gt;</th></tr>\n",
              "</thead>\n",
              "<tbody>\n",
              "\t<tr><th scope=row>(Intercept)</th><td> 4.79962562</td></tr>\n",
              "\t<tr><th scope=row>female</th><td>-7.65367537</td></tr>\n",
              "\t<tr><th scope=row>nonwhite</th><td>-0.04237093</td></tr>\n",
              "\t<tr><th scope=row>married</th><td> 3.13328021</td></tr>\n",
              "\t<tr><th scope=row>educ</th><td>11.98389728</td></tr>\n",
              "\t<tr><th scope=row>exper</th><td> 1.86143328</td></tr>\n",
              "\t<tr><th scope=row>tenure</th><td> 5.70166137</td></tr>\n",
              "</tbody>\n",
              "</table>\n"
            ]
          },
          "metadata": {}
        }
      ]
    },
    {
      "cell_type": "markdown",
      "source": [
        "$H_o: \\beta_j=0$   vs   $H_a: \\beta_j\\neq0\\quad$ Nivel de significancia $\\alpha=5\\%$"
      ],
      "metadata": {
        "id": "Y43TBU4HRyTi"
      }
    },
    {
      "cell_type": "code",
      "source": [
        "as.data.frame(ifelse(abs(t_critico)>t_tab,\"Se rechaza Ho\",\"No se rechaza Ho\"))"
      ],
      "metadata": {
        "colab": {
          "base_uri": "https://localhost:8080/",
          "height": 317
        },
        "id": "448VnYM_RPAK",
        "outputId": "2b59c187-e5c2-466c-e9b9-2c55c9a345e5"
      },
      "execution_count": null,
      "outputs": [
        {
          "output_type": "display_data",
          "data": {
            "text/plain": [
              "            ifelse(abs(t_critico) > t_tab, \"Se rechaza Ho\", \"No se rechaza Ho\")\n",
              "(Intercept) Se rechaza Ho                                                      \n",
              "female      Se rechaza Ho                                                      \n",
              "nonwhite    No se rechaza Ho                                                   \n",
              "married     Se rechaza Ho                                                      \n",
              "educ        Se rechaza Ho                                                      \n",
              "exper       No se rechaza Ho                                                   \n",
              "tenure      Se rechaza Ho                                                      "
            ],
            "text/latex": "A data.frame: 7 × 1\n\\begin{tabular}{r|l}\n  & ifelse(abs(t\\_critico) > t\\_tab, \"Se rechaza Ho\", \"No se rechaza Ho\")\\\\\n  & <chr>\\\\\n\\hline\n\t(Intercept) & Se rechaza Ho   \\\\\n\tfemale & Se rechaza Ho   \\\\\n\tnonwhite & No se rechaza Ho\\\\\n\tmarried & Se rechaza Ho   \\\\\n\teduc & Se rechaza Ho   \\\\\n\texper & No se rechaza Ho\\\\\n\ttenure & Se rechaza Ho   \\\\\n\\end{tabular}\n",
            "text/markdown": "\nA data.frame: 7 × 1\n\n| <!--/--> | ifelse(abs(t_critico) &gt; t_tab, \"Se rechaza Ho\", \"No se rechaza Ho\") &lt;chr&gt; |\n|---|---|\n| (Intercept) | Se rechaza Ho    |\n| female | Se rechaza Ho    |\n| nonwhite | No se rechaza Ho |\n| married | Se rechaza Ho    |\n| educ | Se rechaza Ho    |\n| exper | No se rechaza Ho |\n| tenure | Se rechaza Ho    |\n\n",
            "text/html": [
              "<table class=\"dataframe\">\n",
              "<caption>A data.frame: 7 × 1</caption>\n",
              "<thead>\n",
              "\t<tr><th></th><th scope=col>ifelse(abs(t_critico) &gt; t_tab, \"Se rechaza Ho\", \"No se rechaza Ho\")</th></tr>\n",
              "\t<tr><th></th><th scope=col>&lt;chr&gt;</th></tr>\n",
              "</thead>\n",
              "<tbody>\n",
              "\t<tr><th scope=row>(Intercept)</th><td>Se rechaza Ho   </td></tr>\n",
              "\t<tr><th scope=row>female</th><td>Se rechaza Ho   </td></tr>\n",
              "\t<tr><th scope=row>nonwhite</th><td>No se rechaza Ho</td></tr>\n",
              "\t<tr><th scope=row>married</th><td>Se rechaza Ho   </td></tr>\n",
              "\t<tr><th scope=row>educ</th><td>Se rechaza Ho   </td></tr>\n",
              "\t<tr><th scope=row>exper</th><td>No se rechaza Ho</td></tr>\n",
              "\t<tr><th scope=row>tenure</th><td>Se rechaza Ho   </td></tr>\n",
              "</tbody>\n",
              "</table>\n"
            ]
          },
          "metadata": {}
        }
      ]
    },
    {
      "cell_type": "markdown",
      "source": [
        "h) Cree un intervalo de confianza para el salario mensual medio de una mujer caucásica y casada con 16 años de educación, 4 años y medio de experiencia laboral y que hace 6 meses empezó a trabajar en una nueva empresa."
      ],
      "metadata": {
        "id": "oZD3yfyRWtOA"
      }
    },
    {
      "cell_type": "markdown",
      "source": [
        "*Predicción media"
      ],
      "metadata": {
        "id": "VUkCdKqWY62I"
      }
    },
    {
      "cell_type": "code",
      "source": [
        "predict(object=modelo, newdata = data.frame(female=1,nonwhite=0,married=1,educ=16,exper=4.5,tenure=0.5),interval = 'confidence')"
      ],
      "metadata": {
        "colab": {
          "base_uri": "https://localhost:8080/",
          "height": 98
        },
        "id": "K69DS77iP4zz",
        "outputId": "e151b1fb-f2fa-45cf-e7f5-6b438806f891"
      },
      "execution_count": null,
      "outputs": [
        {
          "output_type": "display_data",
          "data": {
            "text/plain": [
              "  fit      lwr    upr     \n",
              "1 1.695399 1.6123 1.778498"
            ],
            "text/latex": "A matrix: 1 × 3 of type dbl\n\\begin{tabular}{r|lll}\n  & fit & lwr & upr\\\\\n\\hline\n\t1 & 1.695399 & 1.6123 & 1.778498\\\\\n\\end{tabular}\n",
            "text/markdown": "\nA matrix: 1 × 3 of type dbl\n\n| <!--/--> | fit | lwr | upr |\n|---|---|---|---|\n| 1 | 1.695399 | 1.6123 | 1.778498 |\n\n",
            "text/html": [
              "<table class=\"dataframe\">\n",
              "<caption>A matrix: 1 × 3 of type dbl</caption>\n",
              "<thead>\n",
              "\t<tr><th></th><th scope=col>fit</th><th scope=col>lwr</th><th scope=col>upr</th></tr>\n",
              "</thead>\n",
              "<tbody>\n",
              "\t<tr><th scope=row>1</th><td>1.695399</td><td>1.6123</td><td>1.778498</td></tr>\n",
              "</tbody>\n",
              "</table>\n"
            ]
          },
          "metadata": {}
        }
      ]
    },
    {
      "cell_type": "markdown",
      "source": [
        "*Predicción individual"
      ],
      "metadata": {
        "id": "_9POGCtVY_rp"
      }
    },
    {
      "cell_type": "code",
      "source": [
        "predict(object=modelo, newdata = data.frame(female=1,nonwhite=0,married=1,educ=16,exper=4.5,tenure=0.5),interval = 'prediction')"
      ],
      "metadata": {
        "colab": {
          "base_uri": "https://localhost:8080/",
          "height": 98
        },
        "id": "N1IqjPyNQLLq",
        "outputId": "ca76fd33-61f4-437c-c7db-83180adbc20c"
      },
      "execution_count": null,
      "outputs": [
        {
          "output_type": "display_data",
          "data": {
            "text/plain": [
              "  fit      lwr       upr     \n",
              "1 1.695399 0.8800866 2.510712"
            ],
            "text/latex": "A matrix: 1 × 3 of type dbl\n\\begin{tabular}{r|lll}\n  & fit & lwr & upr\\\\\n\\hline\n\t1 & 1.695399 & 0.8800866 & 2.510712\\\\\n\\end{tabular}\n",
            "text/markdown": "\nA matrix: 1 × 3 of type dbl\n\n| <!--/--> | fit | lwr | upr |\n|---|---|---|---|\n| 1 | 1.695399 | 0.8800866 | 2.510712 |\n\n",
            "text/html": [
              "<table class=\"dataframe\">\n",
              "<caption>A matrix: 1 × 3 of type dbl</caption>\n",
              "<thead>\n",
              "\t<tr><th></th><th scope=col>fit</th><th scope=col>lwr</th><th scope=col>upr</th></tr>\n",
              "</thead>\n",
              "<tbody>\n",
              "\t<tr><th scope=row>1</th><td>1.695399</td><td>0.8800866</td><td>2.510712</td></tr>\n",
              "</tbody>\n",
              "</table>\n"
            ]
          },
          "metadata": {}
        }
      ]
    },
    {
      "cell_type": "markdown",
      "source": [
        "i) Cree un intervalo de confianza para el salario mensual medio de un hombre no caucásico y casado con 5 años de educación, 15 años de experiencia laboral y que siempre ha trabajado en la misma empresa."
      ],
      "metadata": {
        "id": "PfzmJcdEW0j1"
      }
    },
    {
      "cell_type": "markdown",
      "source": [
        "*Predicción media"
      ],
      "metadata": {
        "id": "5uhGQ0tiZC3R"
      }
    },
    {
      "cell_type": "code",
      "source": [
        "predict(object=modelo, newdata = data.frame(female=0,nonwhite=1,married=1,educ=5,exper=15,tenure=15),interval = 'confidence')\n"
      ],
      "metadata": {
        "colab": {
          "base_uri": "https://localhost:8080/",
          "height": 98
        },
        "id": "rVcIZNMuQSQz",
        "outputId": "c2c08911-7b4c-4b00-a9b5-c216b0ca967b"
      },
      "execution_count": null,
      "outputs": [
        {
          "output_type": "display_data",
          "data": {
            "text/plain": [
              "  fit      lwr      upr     \n",
              "1 1.333237 1.162421 1.504053"
            ],
            "text/latex": "A matrix: 1 × 3 of type dbl\n\\begin{tabular}{r|lll}\n  & fit & lwr & upr\\\\\n\\hline\n\t1 & 1.333237 & 1.162421 & 1.504053\\\\\n\\end{tabular}\n",
            "text/markdown": "\nA matrix: 1 × 3 of type dbl\n\n| <!--/--> | fit | lwr | upr |\n|---|---|---|---|\n| 1 | 1.333237 | 1.162421 | 1.504053 |\n\n",
            "text/html": [
              "<table class=\"dataframe\">\n",
              "<caption>A matrix: 1 × 3 of type dbl</caption>\n",
              "<thead>\n",
              "\t<tr><th></th><th scope=col>fit</th><th scope=col>lwr</th><th scope=col>upr</th></tr>\n",
              "</thead>\n",
              "<tbody>\n",
              "\t<tr><th scope=row>1</th><td>1.333237</td><td>1.162421</td><td>1.504053</td></tr>\n",
              "</tbody>\n",
              "</table>\n"
            ]
          },
          "metadata": {}
        }
      ]
    },
    {
      "cell_type": "markdown",
      "source": [
        "*Predicción individual"
      ],
      "metadata": {
        "id": "-YO-tUmHZE6h"
      }
    },
    {
      "cell_type": "code",
      "source": [
        "predict(object=modelo, newdata = data.frame(female=0,nonwhite=1,married=1,educ=5,exper=15,tenure=15),interval = 'prediction')\n"
      ],
      "metadata": {
        "colab": {
          "base_uri": "https://localhost:8080/",
          "height": 98
        },
        "id": "Uvd0xJ1CQS_y",
        "outputId": "76508205-2bca-41cf-930e-4b98b29e89ca"
      },
      "execution_count": null,
      "outputs": [
        {
          "output_type": "display_data",
          "data": {
            "text/plain": [
              "  fit      lwr       upr     \n",
              "1 1.333237 0.5043776 2.162095"
            ],
            "text/latex": "A matrix: 1 × 3 of type dbl\n\\begin{tabular}{r|lll}\n  & fit & lwr & upr\\\\\n\\hline\n\t1 & 1.333237 & 0.5043776 & 2.162095\\\\\n\\end{tabular}\n",
            "text/markdown": "\nA matrix: 1 × 3 of type dbl\n\n| <!--/--> | fit | lwr | upr |\n|---|---|---|---|\n| 1 | 1.333237 | 0.5043776 | 2.162095 |\n\n",
            "text/html": [
              "<table class=\"dataframe\">\n",
              "<caption>A matrix: 1 × 3 of type dbl</caption>\n",
              "<thead>\n",
              "\t<tr><th></th><th scope=col>fit</th><th scope=col>lwr</th><th scope=col>upr</th></tr>\n",
              "</thead>\n",
              "<tbody>\n",
              "\t<tr><th scope=row>1</th><td>1.333237</td><td>0.5043776</td><td>2.162095</td></tr>\n",
              "</tbody>\n",
              "</table>\n"
            ]
          },
          "metadata": {}
        }
      ]
    },
    {
      "cell_type": "markdown",
      "source": [
        "j) ¿Por qué puede darse esta diferencia entre ambos individuos?"
      ],
      "metadata": {
        "id": "luGj3TAtW4RY"
      }
    },
    {
      "cell_type": "markdown",
      "source": [
        "Se diferencia porque estadisticamente se encontro una diferencia significativa entre las variables de Genero, Estado Civil, Años de Educacion y el Tiempo de trabajo en la empresa."
      ],
      "metadata": {
        "id": "-lz04pDwa8RR"
      }
    }
  ]
}