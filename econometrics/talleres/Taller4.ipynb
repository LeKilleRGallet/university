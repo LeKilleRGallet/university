{
 "cells": [
  {
   "cell_type": "markdown",
   "metadata": {},
   "source": [
    "2"
   ]
  },
  {
   "cell_type": "markdown",
   "metadata": {},
   "source": [
    "A"
   ]
  },
  {
   "cell_type": "code",
   "execution_count": 156,
   "metadata": {
    "vscode": {
     "languageId": "r"
    }
   },
   "outputs": [],
   "source": [
    "library(lmtest)\n",
    "library(wooldridge)\n",
    "library(stargazer)\n",
    "library(tseries)\n",
    "library(car)"
   ]
  },
  {
   "cell_type": "code",
   "execution_count": 157,
   "metadata": {
    "vscode": {
     "languageId": "r"
    }
   },
   "outputs": [],
   "source": [
    "data('hprice1')\n",
    "df<-hprice1\n",
    "fit1<-lm(price~lotsize+sqrft+bdrms, data=df)\n",
    "fit2<-lm(lprice~lotsize+sqrft+bdrms, data=df)"
   ]
  },
  {
   "cell_type": "code",
   "execution_count": 158,
   "metadata": {
    "vscode": {
     "languageId": "r"
    }
   },
   "outputs": [
    {
     "data": {
      "text/plain": [
       "\n",
       "\tstudentized Breusch-Pagan test\n",
       "\n",
       "data:  fit1\n",
       "BP = 14.092, df = 3, p-value = 0.002782\n"
      ]
     },
     "metadata": {},
     "output_type": "display_data"
    },
    {
     "data": {
      "text/plain": [
       "\n",
       "\tstudentized Breusch-Pagan test\n",
       "\n",
       "data:  fit2\n",
       "BP = 3.5427, df = 3, p-value = 0.3153\n"
      ]
     },
     "metadata": {},
     "output_type": "display_data"
    }
   ],
   "source": [
    "bptest(fit1)\n",
    "bptest(fit2)"
   ]
  },
  {
   "cell_type": "markdown",
   "metadata": {},
   "source": [
    "ya que el pvalue del fit1 es menor a 0.05 tenemos suficiente evidencia para afirmar que existe hetereoceasticidad utilizando el test de Breusch-Pagan."
   ]
  },
  {
   "cell_type": "code",
   "execution_count": 159,
   "metadata": {
    "vscode": {
     "languageId": "r"
    }
   },
   "outputs": [
    {
     "data": {
      "text/plain": [
       "\n",
       "\tstudentized Breusch-Pagan test\n",
       "\n",
       "data:  fit1\n",
       "BP = 33.732, df = 9, p-value = 9.953e-05\n"
      ]
     },
     "metadata": {},
     "output_type": "display_data"
    },
    {
     "data": {
      "text/plain": [
       "\n",
       "\tstudentized Breusch-Pagan test\n",
       "\n",
       "data:  fit2\n",
       "BP = 7.1926, df = 9, p-value = 0.6171\n"
      ]
     },
     "metadata": {},
     "output_type": "display_data"
    }
   ],
   "source": [
    "bptest(fit1, ~lotsize*sqrft+lotsize*bdrms+sqrft*bdrms+I(lotsize^2)+I(sqrft^2)+I(bdrms^2), data=df)\n",
    "bptest(fit2, ~lotsize*sqrft+lotsize*bdrms+sqrft*bdrms+I(lotsize^2)+I(sqrft^2)+I(bdrms^2), data=df)"
   ]
  },
  {
   "cell_type": "markdown",
   "metadata": {},
   "source": [
    "ya que el pvalue del fit1 es menor a 0.05 tenemos suficiente evidencia para afirmar que existe hetereoceasticidad utilizando el test de white."
   ]
  },
  {
   "cell_type": "markdown",
   "metadata": {},
   "source": [
    "B"
   ]
  },
  {
   "cell_type": "markdown",
   "metadata": {},
   "source": [
    "La varianza de los $\\beta$ ya no son mínimas, generado errores en el calculo de la matriz de Varianzas y covarianzas de los estimadores de mínimos cuadrados.\n",
    " Los estimadores MCO siguen siguiendo insesgados y consistentes.\\\n",
    "    1. Bajo heterocedasticidad, los errores estándar de los estimadores están sesgados\\\n",
    "    2. en presencia de heterocedasticidad los estadísticos habituales empleados en las pruebas de hipótesis bajo los supuestos de Gauss-Markov ya no son válidos.\\\n",
    "    3. Como $Var(u|X)$ ya no es constante, el estimador MCO ya no ya no es asintóticamente eficiente."
   ]
  },
  {
   "cell_type": "markdown",
   "metadata": {},
   "source": [
    "C"
   ]
  },
  {
   "cell_type": "markdown",
   "metadata": {},
   "source": [
    " Modelo general para la explicación\n",
    "\n",
    "$ Y_i = \\beta_1 + \\beta_2 X_i + u_i $\n",
    "\n",
    "Cuando la heterocedasticidad no es conocida, una forma de solucionarla es estimar el modelo por mínimos cuadrados generalizados, pero asumiendo ciertos supuestos.\n",
    "\n",
    "1. Si por razones de especulación o por lo métodos gráficos se asume que la varianza del error es proporcional a $X_i^2$, se puede transformar el modelo original dividiéndolo entre $ X_i $, de allí se obtiene un $v_i $ que representa el término de perturbación transformado, igual a $\\frac{u_i}{x_i} $ , ahora se puede verificar que:\n",
    "$ E ( v_i ^2) = E \\left ( \\frac{u_i}{X_i} \\right)^2 = \\frac{1}{X^2_i} E ( u_i ^2) = \\sigma^2 $\n",
    "Por lo tanto la varianza de $v_i$ es ahora homoscedástica y se puede aplicar MCO a la ecuación transformada.\n",
    "\n",
    "2. Si se asume que la varianza de $u_i$ es proporcional a la misma $X_i$ , entonces el modelo original se transforma dividiéndolo entre $ \\sqrt{X_i}$, donde $v_i = \\frac{u_i}{\\sqrt{X_i}}$  y donde $ X_i > 0$,   con este supuesto se puede verificar que   $ E(u_i) = \\sigma ^2 $ ,una situación homoscedástica que se puede estimar por MCO\n",
    "\n",
    "3. Se asume que la varianza de $ u_i $ es proporcional al cuadrado del valor esperado de $Y_i$, ahora el modelo original se puede transformar dividiéndolo entre $ E(Y_i) $, donde $v_i = \\frac{u_i} {E(Y_i)}$, aquí $ E ( v_i^2) = \\sigma^2$, es decir que las perturbaciones $ v_i $ son homoscedásticas, en este caso es la regresión de la ecuación transformada la que satisfacerá el supuesto de homoscedasticidad del modelo clásico de regresión lineal.\n",
    "Sin embargo, la transformación no funciona ya que $ E(Y_i)$ depende de los betas del modelo, que son desconocidos. Por esta razón el proceso de estimación se debe realizar en dos etapas: primero, se debe efectuar la regresión MCO usual sin considerar el problema de heteroscedasticidad, obteniendo $\\hat{Y_i}$, luego transformamos en modelo dividiéndolo entre el $\\hat{Y_i}$, donde $v_i = (\\frac{u_i}{\\hat{Y_i}})$, en este paso se efectúa la regresión. Aunque $\\hat{Y_i}$, no es exactamente igual a $E (Y_i)$ estos estimadores son consistentes; es decir, a medida que el tamaño de la muestra aumenta indefinidamente, éstos convergen hacia el verdadero $E(Y:_i)$. Por tanto, la transformación del modelo original tendrá un desempeño adecuado en la práctica si el tamaño de la muestra es razonablemente grande.\n",
    "\n",
    "4. aplicar una transformación logorítmica con frecuencia reduce la heteroscedasticidad comparada con el modelo original. Este resultado surge porque la transformación logarítmica comprime las escalas en las cuales se miden las variables, y por tanto reduce una diferencia entre dos valores de diez veces a una diferencia de dos veces."
   ]
  },
  {
   "cell_type": "markdown",
   "metadata": {},
   "source": [
    "D"
   ]
  },
  {
   "cell_type": "markdown",
   "metadata": {},
   "source": [
    "Cuando la heterocedasticidad es desconocida, el estimador MCO cumple algunas propiedades deseables: es lineal, insesgado y consistente. El problema surge porque el estimador es ineficiente y, en consecuencia, los estadísticos t y F estarán sesgados. White demostró que la matriz de varianzas y covarianzas\n",
    "\n",
    "$ Var ( \\beta) = ( X'X)^{-1} X'  \\sigma ^2_u \\Omega X ( XX)^{-1}$\n",
    "\n",
    "Puede estimarse consistentemente reemplazando la matriz desconocida $\\Omega$ por una matriz diagonal que contiene los residuos al cuadrado de la estimación MCO, $\\hat{\\Omega} = diag (\\hat{u_i^2}, ..... ,\\hat{u_n^2} )$"
   ]
  },
  {
   "cell_type": "markdown",
   "metadata": {},
   "source": [
    "6"
   ]
  },
  {
   "cell_type": "code",
   "execution_count": 160,
   "metadata": {
    "vscode": {
     "languageId": "r"
    }
   },
   "outputs": [],
   "source": [
    "data(\"wage1\")\n",
    "df<-wage1\n",
    "fit1<-lm(wage~educ+exper+tenure, data=df)\n",
    "fit2<-lm(lwage~educ+exper+tenure, data=df)\n",
    "fit3<-lm(wage~educ+exper+tenure+I(educ^2)+I(exper^2)+I(tenure^2), data=df)\n",
    "fit4<-lm(lwage~educ+exper+tenure+I(educ^2)+I(exper^2)+I(tenure^2), data=df)"
   ]
  },
  {
   "cell_type": "code",
   "execution_count": 161,
   "metadata": {
    "vscode": {
     "languageId": "r"
    }
   },
   "outputs": [
    {
     "name": "stdout",
     "output_type": "stream",
     "text": [
      "\n",
      "===============================================\n",
      "                        Dependent variable:    \n",
      "                    ---------------------------\n",
      "                               wage            \n",
      "-----------------------------------------------\n",
      "educ                         0.599***          \n",
      "                              (0.051)          \n",
      "                                               \n",
      "exper                         0.022*           \n",
      "                              (0.012)          \n",
      "                                               \n",
      "tenure                       0.169***          \n",
      "                              (0.022)          \n",
      "                                               \n",
      "Constant                     -2.873***         \n",
      "                              (0.729)          \n",
      "                                               \n",
      "-----------------------------------------------\n",
      "Observations                    526            \n",
      "R2                             0.306           \n",
      "Adjusted R2                    0.302           \n",
      "Residual Std. Error      3.084 (df = 522)      \n",
      "F Statistic           76.873*** (df = 3; 522)  \n",
      "===============================================\n",
      "Note:               *p<0.1; **p<0.05; ***p<0.01\n",
      "\n",
      "===============================================\n",
      "                        Dependent variable:    \n",
      "                    ---------------------------\n",
      "                               lwage           \n",
      "-----------------------------------------------\n",
      "educ                         0.092***          \n",
      "                              (0.007)          \n",
      "                                               \n",
      "exper                         0.004**          \n",
      "                              (0.002)          \n",
      "                                               \n",
      "tenure                       0.022***          \n",
      "                              (0.003)          \n",
      "                                               \n",
      "Constant                     0.284***          \n",
      "                              (0.104)          \n",
      "                                               \n",
      "-----------------------------------------------\n",
      "Observations                    526            \n",
      "R2                             0.316           \n",
      "Adjusted R2                    0.312           \n",
      "Residual Std. Error      0.441 (df = 522)      \n",
      "F Statistic           80.391*** (df = 3; 522)  \n",
      "===============================================\n",
      "Note:               *p<0.1; **p<0.05; ***p<0.01\n",
      "\n",
      "===============================================\n",
      "                        Dependent variable:    \n",
      "                    ---------------------------\n",
      "                               wage            \n",
      "-----------------------------------------------\n",
      "educ                         -0.499**          \n",
      "                              (0.218)          \n",
      "                                               \n",
      "exper                        0.199***          \n",
      "                              (0.037)          \n",
      "                                               \n",
      "tenure                       0.230***          \n",
      "                              (0.050)          \n",
      "                                               \n",
      "I(educ2)                     0.045***          \n",
      "                              (0.009)          \n",
      "                                               \n",
      "I(exper2)                    -0.004***         \n",
      "                              (0.001)          \n",
      "                                               \n",
      "I(tenure2)                    -0.003           \n",
      "                              (0.002)          \n",
      "                                               \n",
      "Constant                      2.438*           \n",
      "                              (1.373)          \n",
      "                                               \n",
      "-----------------------------------------------\n",
      "Observations                    526            \n",
      "R2                             0.376           \n",
      "Adjusted R2                    0.369           \n",
      "Residual Std. Error      2.934 (df = 519)      \n",
      "F Statistic           52.165*** (df = 6; 519)  \n",
      "===============================================\n",
      "Note:               *p<0.1; **p<0.05; ***p<0.01\n",
      "\n",
      "===============================================\n",
      "                        Dependent variable:    \n",
      "                    ---------------------------\n",
      "                               lwage           \n",
      "-----------------------------------------------\n",
      "educ                          -0.052*          \n",
      "                              (0.031)          \n",
      "                                               \n",
      "exper                        0.031***          \n",
      "                              (0.005)          \n",
      "                                               \n",
      "tenure                       0.035***          \n",
      "                              (0.007)          \n",
      "                                               \n",
      "I(educ2)                     0.006***          \n",
      "                              (0.001)          \n",
      "                                               \n",
      "I(exper2)                    -0.001***         \n",
      "                             (0.0001)          \n",
      "                                               \n",
      "I(tenure2)                   -0.001**          \n",
      "                             (0.0002)          \n",
      "                                               \n",
      "Constant                     0.959***          \n",
      "                              (0.195)          \n",
      "                                               \n",
      "-----------------------------------------------\n",
      "Observations                    526            \n",
      "R2                             0.391           \n",
      "Adjusted R2                    0.384           \n",
      "Residual Std. Error      0.417 (df = 519)      \n",
      "F Statistic           55.471*** (df = 6; 519)  \n",
      "===============================================\n",
      "Note:               *p<0.1; **p<0.05; ***p<0.01\n"
     ]
    }
   ],
   "source": [
    "stargazer(fit1,type=\"text\")\n",
    "stargazer(fit2,type=\"text\")\n",
    "stargazer(fit3,type=\"text\")\n",
    "stargazer(fit4,type=\"text\")"
   ]
  },
  {
   "cell_type": "markdown",
   "metadata": {},
   "source": [
    "B"
   ]
  },
  {
   "cell_type": "markdown",
   "metadata": {},
   "source": [
    "Interpretaciones de los coeficiente del modelo 3\n",
    "\n",
    "1. $ \\beta_1$ El salario promedio de un trabajador sin nivel educativo y sin experiencia laboral es 2,438\n",
    "2. $ \\beta_2$ por cada año que disminuya el nivel educativo el salario disminuye en promedio 0,499\n",
    "3. $\\beta_3$ Por cada año que aumente la experiencia el salario aumentará en promedio 0,199\n",
    "4. $\\beta_4$ Por cada año que permanezca el individuo en el empleo actual, el salario aumentará en promedio 0,230\n",
    "5. $\\beta_5$ Existirá un punto tal, en el que por cada año que aumenté el nivel educativo del individuo su salario en promedio aumentará 0,045\n",
    "6. $\\beta_6$ Existirá un punto tal, en el que por cada año que aumente la experiencia el salario  disminuirá en  0,004\n",
    "7. $\\beta_7$ Existirá un punto tal, en el cual por cada año que el individuo permanezca en su lugar actual de trabajo, su salario disminuirá en 0,003"
   ]
  },
  {
   "cell_type": "markdown",
   "metadata": {},
   "source": [
    "Interpretaciones de los coeficiente del modelo 4\n",
    "\n",
    "1. $\\beta_1$si el individuo no cuenta con un nivel educativo, ni con experiencia laboral, el salario promedio que podría recibir es 0,959\n",
    "2. $\\beta_2$ si el nivel educativo disminuye un año el salario en promedio disminuye en  5,2%\n",
    "3. $ \\beta_3$ Por cada año que aumente la experiencia se estima que en promedio el salario aumente 3,1% \n",
    "4. $\\beta_4$ Por cada año que el individuo permanezca en su trabajo actual, se estima que en promedio el salario aumente 3,5%\n",
    "5. $\\beta_5$ Existirá un punto tal, en el que por cada año que aumenté el nivel educativo del individuo su salario en promedio aumentará 0,6%\n",
    "6. $ \\beta_6$ Existirá un punto tal, en el que por cada año que aumente la experiencia el salario  disminuirá en  0,1%\n",
    "7. $ \\beta_7$ Existirá un punto tal, en el cual por cada año que el individuo permanezca en su lugar actual de trabajo, su salario disminuirá en 0,1%"
   ]
  },
  {
   "cell_type": "markdown",
   "metadata": {},
   "source": [
    "C"
   ]
  },
  {
   "cell_type": "code",
   "execution_count": 162,
   "metadata": {
    "vscode": {
     "languageId": "r"
    }
   },
   "outputs": [
    {
     "data": {
      "text/plain": [
       "\n",
       "\tstudentized Breusch-Pagan test\n",
       "\n",
       "data:  fit1\n",
       "BP = 43.096, df = 3, p-value = 2.349e-09\n"
      ]
     },
     "metadata": {},
     "output_type": "display_data"
    },
    {
     "data": {
      "text/plain": [
       "\n",
       "\tstudentized Breusch-Pagan test\n",
       "\n",
       "data:  fit2\n",
       "BP = 10.761, df = 3, p-value = 0.01309\n"
      ]
     },
     "metadata": {},
     "output_type": "display_data"
    },
    {
     "data": {
      "text/plain": [
       "\n",
       "\tstudentized Breusch-Pagan test\n",
       "\n",
       "data:  fit3\n",
       "BP = 58.842, df = 6, p-value = 7.732e-11\n"
      ]
     },
     "metadata": {},
     "output_type": "display_data"
    },
    {
     "data": {
      "text/plain": [
       "\n",
       "\tstudentized Breusch-Pagan test\n",
       "\n",
       "data:  fit4\n",
       "BP = 19.055, df = 6, p-value = 0.004072\n"
      ]
     },
     "metadata": {},
     "output_type": "display_data"
    }
   ],
   "source": [
    "bptest(fit1)\n",
    "bptest(fit2)\n",
    "bptest(fit3)\n",
    "bptest(fit4)"
   ]
  },
  {
   "cell_type": "markdown",
   "metadata": {},
   "source": [
    "los cuatro modelos rompen el supuesto de homoceasticidad."
   ]
  },
  {
   "cell_type": "code",
   "execution_count": 163,
   "metadata": {
    "vscode": {
     "languageId": "r"
    }
   },
   "outputs": [
    {
     "data": {
      "text/plain": [
       "\n",
       "\tJarque Bera Test\n",
       "\n",
       "data:  residuals(fit1)\n",
       "X-squared = 650.81, df = 2, p-value < 2.2e-16\n"
      ]
     },
     "metadata": {},
     "output_type": "display_data"
    },
    {
     "data": {
      "text/plain": [
       "\n",
       "\tJarque Bera Test\n",
       "\n",
       "data:  residuals(fit2)\n",
       "X-squared = 20.941, df = 2, p-value = 2.836e-05\n"
      ]
     },
     "metadata": {},
     "output_type": "display_data"
    },
    {
     "data": {
      "text/plain": [
       "\n",
       "\tJarque Bera Test\n",
       "\n",
       "data:  residuals(fit3)\n",
       "X-squared = 582.13, df = 2, p-value < 2.2e-16\n"
      ]
     },
     "metadata": {},
     "output_type": "display_data"
    },
    {
     "data": {
      "text/plain": [
       "\n",
       "\tJarque Bera Test\n",
       "\n",
       "data:  residuals(fit4)\n",
       "X-squared = 30.321, df = 2, p-value = 2.605e-07\n"
      ]
     },
     "metadata": {},
     "output_type": "display_data"
    }
   ],
   "source": [
    "jarque.bera.test(residuals(fit1))\n",
    "jarque.bera.test(residuals(fit2))\n",
    "jarque.bera.test(residuals(fit3))\n",
    "jarque.bera.test(residuals(fit4))"
   ]
  },
  {
   "cell_type": "markdown",
   "metadata": {},
   "source": [
    "los cuatro modelos rompen el supuesto de normalidad."
   ]
  },
  {
   "cell_type": "code",
   "execution_count": 164,
   "metadata": {
    "vscode": {
     "languageId": "r"
    }
   },
   "outputs": [
    {
     "data": {
      "text/html": [
       "<style>\n",
       ".dl-inline {width: auto; margin:0; padding: 0}\n",
       ".dl-inline>dt, .dl-inline>dd {float: none; width: auto; display: inline-block}\n",
       ".dl-inline>dt::after {content: \":\\0020\"; padding-right: .5ex}\n",
       ".dl-inline>dt:not(:first-of-type) {padding-left: .5ex}\n",
       "</style><dl class=dl-inline><dt>educ</dt><dd>1.11277075028388</dd><dt>exper</dt><dd>1.47761777263178</dd><dt>tenure</dt><dd>1.34929556056118</dd></dl>\n"
      ],
      "text/latex": [
       "\\begin{description*}\n",
       "\\item[educ] 1.11277075028388\n",
       "\\item[exper] 1.47761777263178\n",
       "\\item[tenure] 1.34929556056118\n",
       "\\end{description*}\n"
      ],
      "text/markdown": [
       "educ\n",
       ":   1.11277075028388exper\n",
       ":   1.47761777263178tenure\n",
       ":   1.34929556056118\n",
       "\n"
      ],
      "text/plain": [
       "    educ    exper   tenure \n",
       "1.112771 1.477618 1.349296 "
      ]
     },
     "metadata": {},
     "output_type": "display_data"
    },
    {
     "data": {
      "text/html": [
       "<style>\n",
       ".dl-inline {width: auto; margin:0; padding: 0}\n",
       ".dl-inline>dt, .dl-inline>dd {float: none; width: auto; display: inline-block}\n",
       ".dl-inline>dt::after {content: \":\\0020\"; padding-right: .5ex}\n",
       ".dl-inline>dt:not(:first-of-type) {padding-left: .5ex}\n",
       "</style><dl class=dl-inline><dt>educ</dt><dd>1.11277075028388</dd><dt>exper</dt><dd>1.47761777263178</dd><dt>tenure</dt><dd>1.34929556056118</dd></dl>\n"
      ],
      "text/latex": [
       "\\begin{description*}\n",
       "\\item[educ] 1.11277075028388\n",
       "\\item[exper] 1.47761777263178\n",
       "\\item[tenure] 1.34929556056118\n",
       "\\end{description*}\n"
      ],
      "text/markdown": [
       "educ\n",
       ":   1.11277075028388exper\n",
       ":   1.47761777263178tenure\n",
       ":   1.34929556056118\n",
       "\n"
      ],
      "text/plain": [
       "    educ    exper   tenure \n",
       "1.112771 1.477618 1.349296 "
      ]
     },
     "metadata": {},
     "output_type": "display_data"
    },
    {
     "data": {
      "text/html": [
       "<style>\n",
       ".dl-inline {width: auto; margin:0; padding: 0}\n",
       ".dl-inline>dt, .dl-inline>dd {float: none; width: auto; display: inline-block}\n",
       ".dl-inline>dt::after {content: \":\\0020\"; padding-right: .5ex}\n",
       ".dl-inline>dt:not(:first-of-type) {padding-left: .5ex}\n",
       "</style><dl class=dl-inline><dt>educ</dt><dd>22.3032475418059</dd><dt>exper</dt><dd>15.0402724982855</dd><dt>tenure</dt><dd>7.98588273739472</dd><dt>I(educ^2)</dt><dd>21.8501329849349</dd><dt>I(exper^2)</dt><dd>14.4616619875658</dd><dt>I(tenure^2)</dt><dd>7.20861636378933</dd></dl>\n"
      ],
      "text/latex": [
       "\\begin{description*}\n",
       "\\item[educ] 22.3032475418059\n",
       "\\item[exper] 15.0402724982855\n",
       "\\item[tenure] 7.98588273739472\n",
       "\\item[I(educ\\textbackslash{}textasciicircum\\{\\}2)] 21.8501329849349\n",
       "\\item[I(exper\\textbackslash{}textasciicircum\\{\\}2)] 14.4616619875658\n",
       "\\item[I(tenure\\textbackslash{}textasciicircum\\{\\}2)] 7.20861636378933\n",
       "\\end{description*}\n"
      ],
      "text/markdown": [
       "educ\n",
       ":   22.3032475418059exper\n",
       ":   15.0402724982855tenure\n",
       ":   7.98588273739472I(educ^2)\n",
       ":   21.8501329849349I(exper^2)\n",
       ":   14.4616619875658I(tenure^2)\n",
       ":   7.20861636378933\n",
       "\n"
      ],
      "text/plain": [
       "       educ       exper      tenure   I(educ^2)  I(exper^2) I(tenure^2) \n",
       "  22.303248   15.040272    7.985883   21.850133   14.461662    7.208616 "
      ]
     },
     "metadata": {},
     "output_type": "display_data"
    },
    {
     "data": {
      "text/html": [
       "<style>\n",
       ".dl-inline {width: auto; margin:0; padding: 0}\n",
       ".dl-inline>dt, .dl-inline>dd {float: none; width: auto; display: inline-block}\n",
       ".dl-inline>dt::after {content: \":\\0020\"; padding-right: .5ex}\n",
       ".dl-inline>dt:not(:first-of-type) {padding-left: .5ex}\n",
       "</style><dl class=dl-inline><dt>educ</dt><dd>22.3032475418058</dd><dt>exper</dt><dd>15.0402724982854</dd><dt>tenure</dt><dd>7.98588273739472</dd><dt>I(educ^2)</dt><dd>21.8501329849347</dd><dt>I(exper^2)</dt><dd>14.4616619875657</dd><dt>I(tenure^2)</dt><dd>7.20861636378935</dd></dl>\n"
      ],
      "text/latex": [
       "\\begin{description*}\n",
       "\\item[educ] 22.3032475418058\n",
       "\\item[exper] 15.0402724982854\n",
       "\\item[tenure] 7.98588273739472\n",
       "\\item[I(educ\\textbackslash{}textasciicircum\\{\\}2)] 21.8501329849347\n",
       "\\item[I(exper\\textbackslash{}textasciicircum\\{\\}2)] 14.4616619875657\n",
       "\\item[I(tenure\\textbackslash{}textasciicircum\\{\\}2)] 7.20861636378935\n",
       "\\end{description*}\n"
      ],
      "text/markdown": [
       "educ\n",
       ":   22.3032475418058exper\n",
       ":   15.0402724982854tenure\n",
       ":   7.98588273739472I(educ^2)\n",
       ":   21.8501329849347I(exper^2)\n",
       ":   14.4616619875657I(tenure^2)\n",
       ":   7.20861636378935\n",
       "\n"
      ],
      "text/plain": [
       "       educ       exper      tenure   I(educ^2)  I(exper^2) I(tenure^2) \n",
       "  22.303248   15.040272    7.985883   21.850133   14.461662    7.208616 "
      ]
     },
     "metadata": {},
     "output_type": "display_data"
    }
   ],
   "source": [
    "vif(fit1)\n",
    "vif(fit2)\n",
    "vif(fit3)\n",
    "vif(fit4)"
   ]
  },
  {
   "cell_type": "markdown",
   "metadata": {},
   "source": [
    "el modelo 3 y 4 rompen los supuestos de multicolinealidad."
   ]
  },
  {
   "cell_type": "markdown",
   "metadata": {},
   "source": [
    "D"
   ]
  },
  {
   "cell_type": "code",
   "execution_count": 165,
   "metadata": {
    "vscode": {
     "languageId": "r"
    }
   },
   "outputs": [
    {
     "data": {
      "text/plain": [
       "\n",
       "\tRESET test\n",
       "\n",
       "data:  fit1\n",
       "RESET = 11.566, df1 = 2, df2 = 520, p-value = 1.217e-05\n"
      ]
     },
     "metadata": {},
     "output_type": "display_data"
    },
    {
     "data": {
      "text/plain": [
       "\n",
       "\tRESET test\n",
       "\n",
       "data:  fit2\n",
       "RESET = 6.5566, df1 = 2, df2 = 520, p-value = 0.001541\n"
      ]
     },
     "metadata": {},
     "output_type": "display_data"
    },
    {
     "data": {
      "text/plain": [
       "\n",
       "\tRESET test\n",
       "\n",
       "data:  fit3\n",
       "RESET = 12.753, df1 = 2, df2 = 517, p-value = 3.925e-06\n"
      ]
     },
     "metadata": {},
     "output_type": "display_data"
    },
    {
     "data": {
      "text/plain": [
       "\n",
       "\tRESET test\n",
       "\n",
       "data:  fit4\n",
       "RESET = 0.34542, df1 = 2, df2 = 517, p-value = 0.7081\n"
      ]
     },
     "metadata": {},
     "output_type": "display_data"
    }
   ],
   "source": [
    "resettest(fit1)\n",
    "resettest(fit2)\n",
    "resettest(fit3)\n",
    "resettest(fit4)"
   ]
  },
  {
   "cell_type": "markdown",
   "metadata": {},
   "source": [
    "el modelo con mejor especificacion es el fit4 ya que es el unico modelo con un pvalue superior a 0.05"
   ]
  },
  {
   "cell_type": "markdown",
   "metadata": {},
   "source": [
    "8"
   ]
  },
  {
   "cell_type": "code",
   "execution_count": 166,
   "metadata": {
    "vscode": {
     "languageId": "r"
    }
   },
   "outputs": [
    {
     "data": {
      "text/html": [
       "<style>\n",
       ".list-inline {list-style: none; margin:0; padding: 0}\n",
       ".list-inline>li {display: inline-block}\n",
       ".list-inline>li:not(:last-child)::after {content: \"\\00b7\"; padding: 0 .5ex}\n",
       "</style>\n",
       "<ol class=list-inline><li>'wage'</li><li>'educ'</li><li>'exper'</li><li>'tenure'</li><li>'nonwhite'</li><li>'female'</li><li>'married'</li><li>'numdep'</li><li>'smsa'</li><li>'northcen'</li><li>'south'</li><li>'west'</li><li>'construc'</li><li>'ndurman'</li><li>'trcommpu'</li><li>'trade'</li><li>'services'</li><li>'profserv'</li><li>'profocc'</li><li>'clerocc'</li><li>'servocc'</li><li>'lwage'</li><li>'expersq'</li><li>'tenursq'</li></ol>\n"
      ],
      "text/latex": [
       "\\begin{enumerate*}\n",
       "\\item 'wage'\n",
       "\\item 'educ'\n",
       "\\item 'exper'\n",
       "\\item 'tenure'\n",
       "\\item 'nonwhite'\n",
       "\\item 'female'\n",
       "\\item 'married'\n",
       "\\item 'numdep'\n",
       "\\item 'smsa'\n",
       "\\item 'northcen'\n",
       "\\item 'south'\n",
       "\\item 'west'\n",
       "\\item 'construc'\n",
       "\\item 'ndurman'\n",
       "\\item 'trcommpu'\n",
       "\\item 'trade'\n",
       "\\item 'services'\n",
       "\\item 'profserv'\n",
       "\\item 'profocc'\n",
       "\\item 'clerocc'\n",
       "\\item 'servocc'\n",
       "\\item 'lwage'\n",
       "\\item 'expersq'\n",
       "\\item 'tenursq'\n",
       "\\end{enumerate*}\n"
      ],
      "text/markdown": [
       "1. 'wage'\n",
       "2. 'educ'\n",
       "3. 'exper'\n",
       "4. 'tenure'\n",
       "5. 'nonwhite'\n",
       "6. 'female'\n",
       "7. 'married'\n",
       "8. 'numdep'\n",
       "9. 'smsa'\n",
       "10. 'northcen'\n",
       "11. 'south'\n",
       "12. 'west'\n",
       "13. 'construc'\n",
       "14. 'ndurman'\n",
       "15. 'trcommpu'\n",
       "16. 'trade'\n",
       "17. 'services'\n",
       "18. 'profserv'\n",
       "19. 'profocc'\n",
       "20. 'clerocc'\n",
       "21. 'servocc'\n",
       "22. 'lwage'\n",
       "23. 'expersq'\n",
       "24. 'tenursq'\n",
       "\n",
       "\n"
      ],
      "text/plain": [
       " [1] \"wage\"     \"educ\"     \"exper\"    \"tenure\"   \"nonwhite\" \"female\"  \n",
       " [7] \"married\"  \"numdep\"   \"smsa\"     \"northcen\" \"south\"    \"west\"    \n",
       "[13] \"construc\" \"ndurman\"  \"trcommpu\" \"trade\"    \"services\" \"profserv\"\n",
       "[19] \"profocc\"  \"clerocc\"  \"servocc\"  \"lwage\"    \"expersq\"  \"tenursq\" "
      ]
     },
     "metadata": {},
     "output_type": "display_data"
    }
   ],
   "source": [
    "colnames(df)"
   ]
  },
  {
   "cell_type": "code",
   "execution_count": 167,
   "metadata": {
    "vscode": {
     "languageId": "r"
    }
   },
   "outputs": [
    {
     "name": "stdout",
     "output_type": "stream",
     "text": [
      "\n",
      "===============================================\n",
      "                        Dependent variable:    \n",
      "                    ---------------------------\n",
      "                               lwage           \n",
      "-----------------------------------------------\n",
      "female                       -0.286***         \n",
      "                              (0.037)          \n",
      "                                               \n",
      "nonwhite                      -0.003           \n",
      "                              (0.060)          \n",
      "                                               \n",
      "married                      0.126***          \n",
      "                              (0.040)          \n",
      "                                               \n",
      "educ                         0.084***          \n",
      "                              (0.007)          \n",
      "                                               \n",
      "exper                         0.003*           \n",
      "                              (0.002)          \n",
      "                                               \n",
      "tenure                       0.017***          \n",
      "                              (0.003)          \n",
      "                                               \n",
      "Constant                     0.491***          \n",
      "                              (0.102)          \n",
      "                                               \n",
      "-----------------------------------------------\n",
      "Observations                    526            \n",
      "R2                             0.404           \n",
      "Adjusted R2                    0.397           \n",
      "Residual Std. Error      0.413 (df = 519)      \n",
      "F Statistic           58.540*** (df = 6; 519)  \n",
      "===============================================\n",
      "Note:               *p<0.1; **p<0.05; ***p<0.01\n"
     ]
    }
   ],
   "source": [
    "fit <- lm(lwage~female+nonwhite+married+educ+exper+tenure,data = df)\n",
    "\n",
    "stargazer(fit,type = \"text\")"
   ]
  },
  {
   "cell_type": "markdown",
   "metadata": {},
   "source": [
    "dado que el individuo es una mujer su salario disminuye en 28.6% respecto al salario de un hombre. este beta es significativo.\\\n",
    "dado que el individuo no es caucasico su salario disminuye en 0.3%. este beta no es significativo.\\\n",
    "dado que el indivuo es un hombre casado su salario va a a ser 41.2% mayor al de una mujer no casada. este beta es significativo.\\\n",
    "dado que el individuo es una mujer caucasica casada va a tener un salario igual que un hombre no caucasico no casado. este beta no es significativo.\n"
   ]
  },
  {
   "cell_type": "markdown",
   "metadata": {},
   "source": [
    "Test de Jarque-Bera"
   ]
  },
  {
   "cell_type": "code",
   "execution_count": 168,
   "metadata": {
    "vscode": {
     "languageId": "r"
    }
   },
   "outputs": [
    {
     "data": {
      "image/png": "[encoded data removed]",
      "text/plain": [
       "Plot with title “”"
      ]
     },
     "metadata": {
      "image/png": {
       "height": 420,
       "width": 420
      }
     },
     "output_type": "display_data"
    }
   ],
   "source": [
    "plot(fit,1)"
   ]
  },
  {
   "cell_type": "code",
   "execution_count": 169,
   "metadata": {
    "vscode": {
     "languageId": "r"
    }
   },
   "outputs": [
    {
     "data": {
      "text/plain": [
       "\n",
       "\tJarque Bera Test\n",
       "\n",
       "data:  residuals(fit)\n",
       "X-squared = 21.132, df = 2, p-value = 2.578e-05\n"
      ]
     },
     "metadata": {},
     "output_type": "display_data"
    }
   ],
   "source": [
    "jarque.bera.test(residuals(fit))"
   ]
  },
  {
   "cell_type": "markdown",
   "metadata": {},
   "source": [
    "ya que el pvalue es inferior a 0.05 y como se nota en la grafica de residuos, el modelo no dsitribuye de forma normal los residuos. por ende se puede consedirar que no se cumple elo supuesto de normalidad en el modelo.\\\n",
    "ya que no se cumple con la normalidad cualquier prueba de hipotesis puede fallar ademas que es completamente inutil el modelo para realizar una estimacion con intervalos de confianza."
   ]
  }
 ],
 "metadata": {
  "kernelspec": {
   "display_name": "R",
   "language": "R",
   "name": "ir"
  },
  "language_info": {
   "codemirror_mode": "r",
   "file_extension": ".r",
   "mimetype": "text/x-r-source",
   "name": "R",
   "pygments_lexer": "r",
   "version": "4.2.0"
  },
  "orig_nbformat": 4,
  "vscode": {
   "interpreter": {
    "hash": "aee8b7b246df8f9039afb4144a1f6fd8d2ca17a180786b69acc140d282b71a49"
   }
  }
 },
 "nbformat": 4,
 "nbformat_minor": 2
}
