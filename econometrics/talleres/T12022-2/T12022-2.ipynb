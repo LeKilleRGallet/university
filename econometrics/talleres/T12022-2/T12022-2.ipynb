{
 "cells": [
  {
   "cell_type": "code",
   "execution_count": 57,
   "metadata": {
    "vscode": {
     "languageId": "r"
    }
   },
   "outputs": [],
   "source": [
    "library(readr)"
   ]
  },
  {
   "cell_type": "code",
   "execution_count": 58,
   "metadata": {
    "vscode": {
     "languageId": "r"
    }
   },
   "outputs": [
    {
     "name": "stderr",
     "output_type": "stream",
     "text": [
      "\u001b[36mℹ\u001b[39m Using \u001b[34m\u001b[34m\"','\"\u001b[34m\u001b[39m as decimal and \u001b[34m\u001b[34m\"'.'\"\u001b[34m\u001b[39m as grouping mark. Use `read_delim()` for more control.\n",
      "\n",
      "Warning message:\n",
      "“One or more parsing issues, see `problems()` for details”\n",
      "\u001b[1mRows: \u001b[22m\u001b[34m32522\u001b[39m \u001b[1mColumns: \u001b[22m\u001b[34m200\u001b[39m\n",
      "\u001b[36m──\u001b[39m \u001b[1mColumn specification\u001b[22m \u001b[36m────────────────────────────────────────────────────────\u001b[39m\n",
      "\u001b[1mDelimiter:\u001b[22m \";\"\n",
      "\u001b[31mchr\u001b[39m   (9): MES, AREA, DPTO, P6810S1, P6830S1, P6880S1, P1880S1, RAMA2D_R4, R...\n",
      "\u001b[32mdbl\u001b[39m (183): PERIODO, PER, DIRECTORIO, SECUENCIA_P, ORDEN, HOGAR, REGIS, CLASE...\n",
      "\u001b[33mlgl\u001b[39m   (7): P6430S1, P6585S4A1, P6585S4A2, P6765S1, P6780S1, P6915S1, P7028S1\n",
      "\n",
      "\u001b[36mℹ\u001b[39m Use `spec()` to retrieve the full column specification for this data.\n",
      "\u001b[36mℹ\u001b[39m Specify the column types or set `show_col_types = FALSE` to quiet this message.\n",
      "\u001b[36mℹ\u001b[39m Using \u001b[34m\u001b[34m\"','\"\u001b[34m\u001b[39m as decimal and \u001b[34m\u001b[34m\"'.'\"\u001b[34m\u001b[39m as grouping mark. Use `read_delim()` for more control.\n",
      "\n",
      "\u001b[1mRows: \u001b[22m\u001b[34m77999\u001b[39m \u001b[1mColumns: \u001b[22m\u001b[34m74\u001b[39m\n",
      "\u001b[36m──\u001b[39m \u001b[1mColumn specification\u001b[22m \u001b[36m────────────────────────────────────────────────────────\u001b[39m\n",
      "\u001b[1mDelimiter:\u001b[22m \";\"\n",
      "\u001b[31mchr\u001b[39m  (5): MES, AREA, DPTO, P6080S1, P3147S10A1\n",
      "\u001b[32mdbl\u001b[39m (67): PERIODO, PER, DIRECTORIO, SECUENCIA_P, ORDEN, HOGAR, REGIS, CLASE,...\n",
      "\u001b[33mlgl\u001b[39m  (1): P6080S1A1\n",
      "\n",
      "\u001b[36mℹ\u001b[39m Use `spec()` to retrieve the full column specification for this data.\n",
      "\u001b[36mℹ\u001b[39m Specify the column types or set `show_col_types = FALSE` to quiet this message.\n"
     ]
    }
   ],
   "source": [
    "df_ocupados <- read_csv2(\"Microdata/Ocupados.CSV\")\n",
    "df_general <- read_csv2(\"Microdata/General.CSV\")"
   ]
  },
  {
   "cell_type": "code",
   "execution_count": 59,
   "metadata": {
    "vscode": {
     "languageId": "r"
    }
   },
   "outputs": [
    {
     "data": {
      "text/html": [
       "<style>\n",
       ".list-inline {list-style: none; margin:0; padding: 0}\n",
       ".list-inline>li {display: inline-block}\n",
       ".list-inline>li:not(:last-child)::after {content: \"\\00b7\"; padding: 0 .5ex}\n",
       "</style>\n",
       "<ol class=list-inline><li>'PERIODO'</li><li>'MES'</li><li>'PER'</li><li>'DIRECTORIO'</li><li>'SECUENCIA_P'</li><li>'ORDEN'</li><li>'HOGAR'</li><li>'REGIS'</li><li>'AREA'</li><li>'CLASE'</li><li>'FEX_C18'</li><li>'DPTO'</li><li>'PT'</li><li>'P6016'</li><li>'P3271'</li><li>'P6040'</li><li>'P6030S1'</li><li>'P6030S3'</li><li>'P6050'</li><li>'P6083'</li><li>'P6083S1'</li><li>'P6081'</li><li>'P6081S1'</li><li>'P2057'</li><li>'P2059'</li><li>'P2061'</li><li>'P6080'</li><li>'P6080S1'</li><li>'P6080S1A1'</li><li>'P6070'</li><li>'P6071'</li><li>'P6071S1'</li><li>'P3147S1'</li><li>'P3147S2'</li><li>'P3147S3'</li><li>'P3147S4'</li><li>'P3147S5'</li><li>'P3147S6'</li><li>'P3147S7'</li><li>'P3147S8'</li><li>'P3147S9'</li><li>'P3147S10'</li><li>'P3147S11'</li><li>'P3147S10A1'</li><li>'P6090'</li><li>'P6100'</li><li>'P6110'</li><li>'P6120'</li><li>'P1906S1'</li><li>'P1906S2'</li><li>'P1906S3'</li><li>'P1906S4'</li><li>'P1906S5'</li><li>'P1906S6'</li><li>'P1906S7'</li><li>'P1906S8'</li><li>'P6160'</li><li>'P6170'</li><li>'P3041'</li><li>'P3042'</li><li>'P3042S1'</li><li>'P3042S2'</li><li>'P3043'</li><li>'P3043S1'</li><li>'P3038'</li><li>'P3039'</li><li>'POB_MAY18'</li><li>'LGB_Numerica'</li><li>'LGB_sectores'</li><li>'LGBT_Numerica'</li><li>'Trans_numerica'</li><li>'Discapacidad'</li><li>'Dificultad'</li><li>'Campesina'</li></ol>\n"
      ],
      "text/latex": [
       "\\begin{enumerate*}\n",
       "\\item 'PERIODO'\n",
       "\\item 'MES'\n",
       "\\item 'PER'\n",
       "\\item 'DIRECTORIO'\n",
       "\\item 'SECUENCIA\\_P'\n",
       "\\item 'ORDEN'\n",
       "\\item 'HOGAR'\n",
       "\\item 'REGIS'\n",
       "\\item 'AREA'\n",
       "\\item 'CLASE'\n",
       "\\item 'FEX\\_C18'\n",
       "\\item 'DPTO'\n",
       "\\item 'PT'\n",
       "\\item 'P6016'\n",
       "\\item 'P3271'\n",
       "\\item 'P6040'\n",
       "\\item 'P6030S1'\n",
       "\\item 'P6030S3'\n",
       "\\item 'P6050'\n",
       "\\item 'P6083'\n",
       "\\item 'P6083S1'\n",
       "\\item 'P6081'\n",
       "\\item 'P6081S1'\n",
       "\\item 'P2057'\n",
       "\\item 'P2059'\n",
       "\\item 'P2061'\n",
       "\\item 'P6080'\n",
       "\\item 'P6080S1'\n",
       "\\item 'P6080S1A1'\n",
       "\\item 'P6070'\n",
       "\\item 'P6071'\n",
       "\\item 'P6071S1'\n",
       "\\item 'P3147S1'\n",
       "\\item 'P3147S2'\n",
       "\\item 'P3147S3'\n",
       "\\item 'P3147S4'\n",
       "\\item 'P3147S5'\n",
       "\\item 'P3147S6'\n",
       "\\item 'P3147S7'\n",
       "\\item 'P3147S8'\n",
       "\\item 'P3147S9'\n",
       "\\item 'P3147S10'\n",
       "\\item 'P3147S11'\n",
       "\\item 'P3147S10A1'\n",
       "\\item 'P6090'\n",
       "\\item 'P6100'\n",
       "\\item 'P6110'\n",
       "\\item 'P6120'\n",
       "\\item 'P1906S1'\n",
       "\\item 'P1906S2'\n",
       "\\item 'P1906S3'\n",
       "\\item 'P1906S4'\n",
       "\\item 'P1906S5'\n",
       "\\item 'P1906S6'\n",
       "\\item 'P1906S7'\n",
       "\\item 'P1906S8'\n",
       "\\item 'P6160'\n",
       "\\item 'P6170'\n",
       "\\item 'P3041'\n",
       "\\item 'P3042'\n",
       "\\item 'P3042S1'\n",
       "\\item 'P3042S2'\n",
       "\\item 'P3043'\n",
       "\\item 'P3043S1'\n",
       "\\item 'P3038'\n",
       "\\item 'P3039'\n",
       "\\item 'POB\\_MAY18'\n",
       "\\item 'LGB\\_Numerica'\n",
       "\\item 'LGB\\_sectores'\n",
       "\\item 'LGBT\\_Numerica'\n",
       "\\item 'Trans\\_numerica'\n",
       "\\item 'Discapacidad'\n",
       "\\item 'Dificultad'\n",
       "\\item 'Campesina'\n",
       "\\end{enumerate*}\n"
      ],
      "text/markdown": [
       "1. 'PERIODO'\n",
       "2. 'MES'\n",
       "3. 'PER'\n",
       "4. 'DIRECTORIO'\n",
       "5. 'SECUENCIA_P'\n",
       "6. 'ORDEN'\n",
       "7. 'HOGAR'\n",
       "8. 'REGIS'\n",
       "9. 'AREA'\n",
       "10. 'CLASE'\n",
       "11. 'FEX_C18'\n",
       "12. 'DPTO'\n",
       "13. 'PT'\n",
       "14. 'P6016'\n",
       "15. 'P3271'\n",
       "16. 'P6040'\n",
       "17. 'P6030S1'\n",
       "18. 'P6030S3'\n",
       "19. 'P6050'\n",
       "20. 'P6083'\n",
       "21. 'P6083S1'\n",
       "22. 'P6081'\n",
       "23. 'P6081S1'\n",
       "24. 'P2057'\n",
       "25. 'P2059'\n",
       "26. 'P2061'\n",
       "27. 'P6080'\n",
       "28. 'P6080S1'\n",
       "29. 'P6080S1A1'\n",
       "30. 'P6070'\n",
       "31. 'P6071'\n",
       "32. 'P6071S1'\n",
       "33. 'P3147S1'\n",
       "34. 'P3147S2'\n",
       "35. 'P3147S3'\n",
       "36. 'P3147S4'\n",
       "37. 'P3147S5'\n",
       "38. 'P3147S6'\n",
       "39. 'P3147S7'\n",
       "40. 'P3147S8'\n",
       "41. 'P3147S9'\n",
       "42. 'P3147S10'\n",
       "43. 'P3147S11'\n",
       "44. 'P3147S10A1'\n",
       "45. 'P6090'\n",
       "46. 'P6100'\n",
       "47. 'P6110'\n",
       "48. 'P6120'\n",
       "49. 'P1906S1'\n",
       "50. 'P1906S2'\n",
       "51. 'P1906S3'\n",
       "52. 'P1906S4'\n",
       "53. 'P1906S5'\n",
       "54. 'P1906S6'\n",
       "55. 'P1906S7'\n",
       "56. 'P1906S8'\n",
       "57. 'P6160'\n",
       "58. 'P6170'\n",
       "59. 'P3041'\n",
       "60. 'P3042'\n",
       "61. 'P3042S1'\n",
       "62. 'P3042S2'\n",
       "63. 'P3043'\n",
       "64. 'P3043S1'\n",
       "65. 'P3038'\n",
       "66. 'P3039'\n",
       "67. 'POB_MAY18'\n",
       "68. 'LGB_Numerica'\n",
       "69. 'LGB_sectores'\n",
       "70. 'LGBT_Numerica'\n",
       "71. 'Trans_numerica'\n",
       "72. 'Discapacidad'\n",
       "73. 'Dificultad'\n",
       "74. 'Campesina'\n",
       "\n",
       "\n"
      ],
      "text/plain": [
       " [1] \"PERIODO\"        \"MES\"            \"PER\"            \"DIRECTORIO\"    \n",
       " [5] \"SECUENCIA_P\"    \"ORDEN\"          \"HOGAR\"          \"REGIS\"         \n",
       " [9] \"AREA\"           \"CLASE\"          \"FEX_C18\"        \"DPTO\"          \n",
       "[13] \"PT\"             \"P6016\"          \"P3271\"          \"P6040\"         \n",
       "[17] \"P6030S1\"        \"P6030S3\"        \"P6050\"          \"P6083\"         \n",
       "[21] \"P6083S1\"        \"P6081\"          \"P6081S1\"        \"P2057\"         \n",
       "[25] \"P2059\"          \"P2061\"          \"P6080\"          \"P6080S1\"       \n",
       "[29] \"P6080S1A1\"      \"P6070\"          \"P6071\"          \"P6071S1\"       \n",
       "[33] \"P3147S1\"        \"P3147S2\"        \"P3147S3\"        \"P3147S4\"       \n",
       "[37] \"P3147S5\"        \"P3147S6\"        \"P3147S7\"        \"P3147S8\"       \n",
       "[41] \"P3147S9\"        \"P3147S10\"       \"P3147S11\"       \"P3147S10A1\"    \n",
       "[45] \"P6090\"          \"P6100\"          \"P6110\"          \"P6120\"         \n",
       "[49] \"P1906S1\"        \"P1906S2\"        \"P1906S3\"        \"P1906S4\"       \n",
       "[53] \"P1906S5\"        \"P1906S6\"        \"P1906S7\"        \"P1906S8\"       \n",
       "[57] \"P6160\"          \"P6170\"          \"P3041\"          \"P3042\"         \n",
       "[61] \"P3042S1\"        \"P3042S2\"        \"P3043\"          \"P3043S1\"       \n",
       "[65] \"P3038\"          \"P3039\"          \"POB_MAY18\"      \"LGB_Numerica\"  \n",
       "[69] \"LGB_sectores\"   \"LGBT_Numerica\"  \"Trans_numerica\" \"Discapacidad\"  \n",
       "[73] \"Dificultad\"     \"Campesina\"     "
      ]
     },
     "metadata": {},
     "output_type": "display_data"
    }
   ],
   "source": [
    "# colnames(df_ocupados)\n",
    "colnames(df_general)"
   ]
  },
  {
   "cell_type": "code",
   "execution_count": 60,
   "metadata": {
    "vscode": {
     "languageId": "r"
    }
   },
   "outputs": [],
   "source": [
    "df_ocupados <- df_ocupados[c('DIRECTORIO','SECUENCIA_P','ORDEN','INGLABO')]\n",
    "df_general <- df_general[c('DIRECTORIO','SECUENCIA_P','ORDEN','P3271','P3042')]"
   ]
  },
  {
   "cell_type": "code",
   "execution_count": 61,
   "metadata": {
    "vscode": {
     "languageId": "r"
    }
   },
   "outputs": [],
   "source": [
    "df <- merge(df_ocupados, df_general, by=c('DIRECTORIO','SECUENCIA_P','ORDEN'))"
   ]
  },
  {
   "cell_type": "code",
   "execution_count": 62,
   "metadata": {
    "vscode": {
     "languageId": "r"
    }
   },
   "outputs": [],
   "source": [
    "df[c('DIRECTORIO','SECUENCIA_P','ORDEN')] <- NULL"
   ]
  },
  {
   "cell_type": "code",
   "execution_count": 63,
   "metadata": {
    "vscode": {
     "languageId": "r"
    }
   },
   "outputs": [],
   "source": [
    "colnames(df)[colnames(df) == 'P3271'] <- \"SEXO\"\n",
    "colnames(df)[colnames(df) == 'P3042'] <- \"EDUCACION\"\n",
    "colnames(df)[colnames(df) == 'INGLABO'] <- \"INGRESOS\""
   ]
  },
  {
   "cell_type": "code",
   "execution_count": 64,
   "metadata": {
    "vscode": {
     "languageId": "r"
    }
   },
   "outputs": [],
   "source": [
    "df$SEXO <- ifelse(df$SEXO == 1, \"HOMBRE\", \"MUJER\")"
   ]
  },
  {
   "cell_type": "code",
   "execution_count": 65,
   "metadata": {
    "vscode": {
     "languageId": "r"
    }
   },
   "outputs": [
    {
     "data": {
      "text/html": [
       "<style>\n",
       ".dl-inline {width: auto; margin:0; padding: 0}\n",
       ".dl-inline>dt, .dl-inline>dd {float: none; width: auto; display: inline-block}\n",
       ".dl-inline>dt::after {content: \":\\0020\"; padding-right: .5ex}\n",
       ".dl-inline>dt:not(:first-of-type) {padding-left: .5ex}\n",
       "</style><dl class=dl-inline><dt>INGRESOS</dt><dd>1089</dd><dt>SEXO</dt><dd>0</dd><dt>EDUCACION</dt><dd>0</dd></dl>\n"
      ],
      "text/latex": [
       "\\begin{description*}\n",
       "\\item[INGRESOS] 1089\n",
       "\\item[SEXO] 0\n",
       "\\item[EDUCACION] 0\n",
       "\\end{description*}\n"
      ],
      "text/markdown": [
       "INGRESOS\n",
       ":   1089SEXO\n",
       ":   0EDUCACION\n",
       ":   0\n",
       "\n"
      ],
      "text/plain": [
       " INGRESOS      SEXO EDUCACION \n",
       "     1089         0         0 "
      ]
     },
     "metadata": {},
     "output_type": "display_data"
    }
   ],
   "source": [
    "colSums(is.na(df))"
   ]
  },
  {
   "cell_type": "code",
   "execution_count": 66,
   "metadata": {
    "vscode": {
     "languageId": "r"
    }
   },
   "outputs": [],
   "source": [
    "df <- df[!is.na(df$INGRESOS),]"
   ]
  },
  {
   "cell_type": "code",
   "execution_count": 67,
   "metadata": {
    "vscode": {
     "languageId": "r"
    }
   },
   "outputs": [
    {
     "data": {
      "text/html": [
       "<style>\n",
       ".dl-inline {width: auto; margin:0; padding: 0}\n",
       ".dl-inline>dt, .dl-inline>dd {float: none; width: auto; display: inline-block}\n",
       ".dl-inline>dt::after {content: \":\\0020\"; padding-right: .5ex}\n",
       ".dl-inline>dt:not(:first-of-type) {padding-left: .5ex}\n",
       "</style><dl class=dl-inline><dt>INGRESOS</dt><dd>0</dd><dt>SEXO</dt><dd>0</dd><dt>EDUCACION</dt><dd>0</dd></dl>\n"
      ],
      "text/latex": [
       "\\begin{description*}\n",
       "\\item[INGRESOS] 0\n",
       "\\item[SEXO] 0\n",
       "\\item[EDUCACION] 0\n",
       "\\end{description*}\n"
      ],
      "text/markdown": [
       "INGRESOS\n",
       ":   0SEXO\n",
       ":   0EDUCACION\n",
       ":   0\n",
       "\n"
      ],
      "text/plain": [
       " INGRESOS      SEXO EDUCACION \n",
       "        0         0         0 "
      ]
     },
     "metadata": {},
     "output_type": "display_data"
    }
   ],
   "source": [
    "colSums(is.na(df))"
   ]
  },
  {
   "cell_type": "code",
   "execution_count": 68,
   "metadata": {
    "vscode": {
     "languageId": "r"
    }
   },
   "outputs": [
    {
     "data": {
      "text/html": [
       "409"
      ],
      "text/latex": [
       "409"
      ],
      "text/markdown": [
       "409"
      ],
      "text/plain": [
       "[1] 409"
      ]
     },
     "metadata": {},
     "output_type": "display_data"
    }
   ],
   "source": [
    "sum(df$INGRESOS == 0)\n"
   ]
  },
  {
   "cell_type": "code",
   "execution_count": 69,
   "metadata": {
    "vscode": {
     "languageId": "r"
    }
   },
   "outputs": [
    {
     "data": {
      "text/html": [
       "269"
      ],
      "text/latex": [
       "269"
      ],
      "text/markdown": [
       "269"
      ],
      "text/plain": [
       "[1] 269"
      ]
     },
     "metadata": {},
     "output_type": "display_data"
    },
    {
     "data": {
      "text/html": [
       "140"
      ],
      "text/latex": [
       "140"
      ],
      "text/markdown": [
       "140"
      ],
      "text/plain": [
       "[1] 140"
      ]
     },
     "metadata": {},
     "output_type": "display_data"
    }
   ],
   "source": [
    "sum(df[df$SEXO==\"HOMBRE\",]$INGRESOS == 0)\n",
    "sum(df[df$SEXO==\"MUJER\",]$INGRESOS == 0)"
   ]
  },
  {
   "cell_type": "code",
   "execution_count": 70,
   "metadata": {
    "vscode": {
     "languageId": "r"
    }
   },
   "outputs": [],
   "source": [
    "df <- df[!df$INGRESOS == 0,]"
   ]
  },
  {
   "cell_type": "code",
   "execution_count": 71,
   "metadata": {
    "vscode": {
     "languageId": "r"
    }
   },
   "outputs": [
    {
     "data": {
      "text/html": [
       "0"
      ],
      "text/latex": [
       "0"
      ],
      "text/markdown": [
       "0"
      ],
      "text/plain": [
       "[1] 0"
      ]
     },
     "metadata": {},
     "output_type": "display_data"
    }
   ],
   "source": [
    "sum(df$INGRESOS == 0)"
   ]
  },
  {
   "cell_type": "code",
   "execution_count": 72,
   "metadata": {
    "vscode": {
     "languageId": "r"
    }
   },
   "outputs": [],
   "source": [
    "df_h <- df[df$SEXO == \"HOMBRE\",]\n",
    "df_m <- df[df$SEXO == \"MUJER\",]"
   ]
  },
  {
   "cell_type": "code",
   "execution_count": 73,
   "metadata": {
    "vscode": {
     "languageId": "r"
    }
   },
   "outputs": [
    {
     "data": {
      "text/html": [
       "<style>\n",
       ".list-inline {list-style: none; margin:0; padding: 0}\n",
       ".list-inline>li {display: inline-block}\n",
       ".list-inline>li:not(:last-child)::after {content: \"\\00b7\"; padding: 0 .5ex}\n",
       "</style>\n",
       "<ol class=list-inline><li>TRUE</li><li>TRUE</li><li>TRUE</li><li>TRUE</li><li>TRUE</li><li>TRUE</li><li>TRUE</li><li>TRUE</li><li>TRUE</li><li>TRUE</li><li>TRUE</li><li>TRUE</li><li>TRUE</li><li>TRUE</li><li>TRUE</li><li>TRUE</li><li>TRUE</li><li>TRUE</li><li>TRUE</li><li>TRUE</li><li>TRUE</li><li>TRUE</li><li>TRUE</li><li>TRUE</li></ol>\n"
      ],
      "text/latex": [
       "\\begin{enumerate*}\n",
       "\\item TRUE\n",
       "\\item TRUE\n",
       "\\item TRUE\n",
       "\\item TRUE\n",
       "\\item TRUE\n",
       "\\item TRUE\n",
       "\\item TRUE\n",
       "\\item TRUE\n",
       "\\item TRUE\n",
       "\\item TRUE\n",
       "\\item TRUE\n",
       "\\item TRUE\n",
       "\\item TRUE\n",
       "\\item TRUE\n",
       "\\item TRUE\n",
       "\\item TRUE\n",
       "\\item TRUE\n",
       "\\item TRUE\n",
       "\\item TRUE\n",
       "\\item TRUE\n",
       "\\item TRUE\n",
       "\\item TRUE\n",
       "\\item TRUE\n",
       "\\item TRUE\n",
       "\\end{enumerate*}\n"
      ],
      "text/markdown": [
       "1. TRUE\n",
       "2. TRUE\n",
       "3. TRUE\n",
       "4. TRUE\n",
       "5. TRUE\n",
       "6. TRUE\n",
       "7. TRUE\n",
       "8. TRUE\n",
       "9. TRUE\n",
       "10. TRUE\n",
       "11. TRUE\n",
       "12. TRUE\n",
       "13. TRUE\n",
       "14. TRUE\n",
       "15. TRUE\n",
       "16. TRUE\n",
       "17. TRUE\n",
       "18. TRUE\n",
       "19. TRUE\n",
       "20. TRUE\n",
       "21. TRUE\n",
       "22. TRUE\n",
       "23. TRUE\n",
       "24. TRUE\n",
       "\n",
       "\n"
      ],
      "text/plain": [
       " [1] TRUE TRUE TRUE TRUE TRUE TRUE TRUE TRUE TRUE TRUE TRUE TRUE TRUE TRUE TRUE\n",
       "[16] TRUE TRUE TRUE TRUE TRUE TRUE TRUE TRUE TRUE"
      ]
     },
     "metadata": {},
     "output_type": "display_data"
    }
   ],
   "source": [
    "descriptive <- rbind(summary(df_h$INGRESOS), summary(df_h$EDUCACION), summary(df_m$INGRESOS), summary(df_m$EDUCACION))\n",
    "unlist(lapply(descriptive, is.numeric))\n",
    "\n",
    "descriptive <- cbind(descriptive, c(lapply(df_h[,unlist(lapply(df_h, is.numeric))],var), lapply(df_m[,unlist(lapply(df_m, is.numeric))],var)), c(lapply(df_h[,unlist(lapply(df_h, is.numeric))],sd), lapply(df_m[,unlist(lapply(df_m, is.numeric))],sd)))\n",
    "colnames(descriptive) <- c(\"Min.\",\"1st Qu.\", \"Median\",\"Mean\",\"3rd Qu.\",\"Max.\",\"Var\",\"SD\")\n",
    "rownames(descriptive) <- c(\"INGRESO_Hombres\",\"EDUCACION_Hombres\",\"INGRESO_Mujeres\",\"EDUCACION_Mujeres\")"
   ]
  },
  {
   "cell_type": "code",
   "execution_count": 74,
   "metadata": {
    "vscode": {
     "languageId": "r"
    }
   },
   "outputs": [
    {
     "data": {
      "text/html": [
       "<table class=\"dataframe\">\n",
       "<caption>A matrix: 4 × 8</caption>\n",
       "<thead>\n",
       "\t<tr><th></th><th scope=col>Min.</th><th scope=col>1st Qu.</th><th scope=col>Median</th><th scope=col>Mean</th><th scope=col>3rd Qu.</th><th scope=col>Max.</th><th scope=col>Var</th><th scope=col>SD</th></tr>\n",
       "\t<tr><th></th><th scope=col>&lt;dbl&gt;</th><th scope=col>&lt;dbl&gt;</th><th scope=col>&lt;dbl&gt;</th><th scope=col>&lt;dbl&gt;</th><th scope=col>&lt;dbl&gt;</th><th scope=col>&lt;dbl&gt;</th><th scope=col>&lt;dbl&gt;</th><th scope=col>&lt;dbl&gt;</th><th scope=col>&lt;dbl&gt;</th><th scope=col>&lt;dbl&gt;</th><th scope=col>⋯</th><th scope=col>&lt;dbl&gt;</th><th scope=col>&lt;dbl&gt;</th><th scope=col>&lt;dbl&gt;</th><th scope=col>&lt;dbl&gt;</th><th scope=col>&lt;dbl&gt;</th><th scope=col>&lt;dbl&gt;</th><th scope=col>&lt;dbl&gt;</th><th scope=col>&lt;dbl&gt;</th><th scope=col>&lt;dbl&gt;</th><th scope=col>&lt;dbl&gt;</th></tr>\n",
       "</thead>\n",
       "<tbody>\n",
       "\t<tr><th scope=row>INGRESO_Hombres</th><td>100</td><td>680000</td><td>1e+06</td><td>1438099</td><td>1500000</td><td>1e+08</td><td>6.262205e+12</td><td>2502440</td></tr>\n",
       "\t<tr><th scope=row>EDUCACION_Hombres</th><td>1</td><td>4</td><td>5</td><td>5.631385</td><td>8</td><td>13</td><td>7.315268</td><td>2.704675</td></tr>\n",
       "\t<tr><th scope=row>INGRESO_Mujeres</th><td>3000</td><td>450000</td><td>1e+06</td><td>1278845</td><td>1387250</td><td>9e+07</td><td>3.512849e+12</td><td>1874260</td></tr>\n",
       "\t<tr><th scope=row>EDUCACION_Mujeres</th><td>1</td><td>5</td><td>5</td><td>6.558432</td><td>10</td><td>13</td><td>7.953301</td><td>2.82016</td></tr>\n",
       "</tbody>\n",
       "</table>\n"
      ],
      "text/latex": [
       "A matrix: 4 × 8\n",
       "\\begin{tabular}{r|llllllll}\n",
       "  & Min. & 1st Qu. & Median & Mean & 3rd Qu. & Max. & Var & SD\\\\\n",
       "  & <dbl> & <dbl> & <dbl> & <dbl> & <dbl> & <dbl> & <dbl> & <dbl> & <dbl> & <dbl> & ⋯ & <dbl> & <dbl> & <dbl> & <dbl> & <dbl> & <dbl> & <dbl> & <dbl> & <dbl> & <dbl>\\\\\n",
       "\\hline\n",
       "\tINGRESO\\_Hombres & 100 & 680000 & 1e+06 & 1438099 & 1500000 & 1e+08 & 6.262205e+12 & 2502440\\\\\n",
       "\tEDUCACION\\_Hombres & 1 & 4 & 5 & 5.631385 & 8 & 13 & 7.315268 & 2.704675\\\\\n",
       "\tINGRESO\\_Mujeres & 3000 & 450000 & 1e+06 & 1278845 & 1387250 & 9e+07 & 3.512849e+12 & 1874260\\\\\n",
       "\tEDUCACION\\_Mujeres & 1 & 5 & 5 & 6.558432 & 10 & 13 & 7.953301 & 2.82016\\\\\n",
       "\\end{tabular}\n"
      ],
      "text/markdown": [
       "\n",
       "A matrix: 4 × 8\n",
       "\n",
       "| <!--/--> | Min. &lt;dbl&gt; | 1st Qu. &lt;dbl&gt; | Median &lt;dbl&gt; | Mean &lt;dbl&gt; | 3rd Qu. &lt;dbl&gt; | Max. &lt;dbl&gt; | Var &lt;dbl&gt; | SD &lt;dbl&gt; | Min. &lt;dbl&gt; | 1st Qu. &lt;dbl&gt; | Median ⋯ | Mean &lt;dbl&gt; | 3rd Qu. &lt;dbl&gt; | Max. &lt;dbl&gt; | Var &lt;dbl&gt; | SD &lt;dbl&gt; | Min. &lt;dbl&gt; | 1st Qu. &lt;dbl&gt; | Median &lt;dbl&gt; | Mean &lt;dbl&gt; | 3rd Qu. &lt;dbl&gt; |\n",
       "|---|---|---|---|---|---|---|---|---|\n",
       "| INGRESO_Hombres | 100 | 680000 | 1e+06 | 1438099 | 1500000 | 1e+08 | 6.262205e+12 | 2502440 |\n",
       "| EDUCACION_Hombres | 1 | 4 | 5 | 5.631385 | 8 | 13 | 7.315268 | 2.704675 |\n",
       "| INGRESO_Mujeres | 3000 | 450000 | 1e+06 | 1278845 | 1387250 | 9e+07 | 3.512849e+12 | 1874260 |\n",
       "| EDUCACION_Mujeres | 1 | 5 | 5 | 6.558432 | 10 | 13 | 7.953301 | 2.82016 |\n",
       "\n"
      ],
      "text/plain": [
       "                  Min. 1st Qu. Median Mean     3rd Qu. Max.  Var         \n",
       "INGRESO_Hombres   100  680000  1e+06  1438099  1500000 1e+08 6.262205e+12\n",
       "EDUCACION_Hombres 1    4       5      5.631385 8       13    7.315268    \n",
       "INGRESO_Mujeres   3000 450000  1e+06  1278845  1387250 9e+07 3.512849e+12\n",
       "EDUCACION_Mujeres 1    5       5      6.558432 10      13    7.953301    \n",
       "                  SD      \n",
       "INGRESO_Hombres   2502440 \n",
       "EDUCACION_Hombres 2.704675\n",
       "INGRESO_Mujeres   1874260 \n",
       "EDUCACION_Mujeres 2.82016 "
      ]
     },
     "metadata": {},
     "output_type": "display_data"
    }
   ],
   "source": [
    "descriptive"
   ]
  },
  {
   "cell_type": "code",
   "execution_count": 75,
   "metadata": {
    "vscode": {
     "languageId": "r"
    }
   },
   "outputs": [],
   "source": [
    "library(xtable)"
   ]
  },
  {
   "cell_type": "code",
   "execution_count": 76,
   "metadata": {
    "vscode": {
     "languageId": "r"
    }
   },
   "outputs": [
    {
     "name": "stdout",
     "output_type": "stream",
     "text": [
      "% latex table generated in R 4.2.1 by xtable 1.8-4 package\n",
      "% Thu Sep  8 16:36:05 2022\n",
      "\\begin{table}[ht]\n",
      "\\centering\n",
      "\\begin{tabular}{rrrrrrrrr}\n",
      "  \\hline\n",
      " & Min. & 1st Qu. & Median & Mean & 3rd Qu. & Max. & Var & SD \\\\ \n",
      "  \\hline\n",
      "INGRESO\\_Hombres & 100.00 & 680000.00 & 1000000.00 & 1438099.15 & 1500000.00 & 100000000.00 & 6262205036218.50 & 2502439.82 \\\\ \n",
      "  EDUCACION\\_Hombres & 1.00 & 4.00 & 5.00 & 5.63 & 8.00 & 13.00 & 7.32 & 2.70 \\\\ \n",
      "  INGRESO\\_Mujeres & 3000.00 & 450000.00 & 1000000.00 & 1278844.88 & 1387250.00 & 90000000.00 & 3512848756250.00 & 1874259.52 \\\\ \n",
      "  EDUCACION\\_Mujeres & 1.00 & 5.00 & 5.00 & 6.56 & 10.00 & 13.00 & 7.95 & 2.82 \\\\ \n",
      "   \\hline\n",
      "\\end{tabular}\n",
      "\\end{table}\n"
     ]
    }
   ],
   "source": [
    "print(xtable(descriptive))"
   ]
  },
  {
   "cell_type": "code",
   "execution_count": 77,
   "metadata": {
    "vscode": {
     "languageId": "r"
    }
   },
   "outputs": [
    {
     "name": "stdout",
     "output_type": "stream",
     "text": [
      "% latex table generated in R 4.2.1 by xtable 1.8-4 package\n",
      "% Thu Sep  8 16:36:05 2022\n",
      "\\begin{table}[ht]\n",
      "\\centering\n",
      "\\begin{tabular}{rr}\n",
      "  \\hline\n",
      " & V1 \\\\ \n",
      "  \\hline\n",
      "HOMBRE & 0.57 \\\\ \n",
      "  MUJER & 0.43 \\\\ \n",
      "   \\hline\n",
      "\\end{tabular}\n",
      "\\end{table}\n"
     ]
    }
   ],
   "source": [
    "print(xtable(prop.table(table(df$SEXO))))"
   ]
  },
  {
   "cell_type": "code",
   "execution_count": 78,
   "metadata": {
    "vscode": {
     "languageId": "r"
    }
   },
   "outputs": [
    {
     "data": {
      "text/plain": [
       "\n",
       "\tWelch Two Sample t-test\n",
       "\n",
       "data:  df_m$INGRESOS and df_h$INGRESOS\n",
       "t = -6.409, df = 31019, p-value = 1.486e-10\n",
       "alternative hypothesis: true difference in means is not equal to 0\n",
       "95 percent confidence interval:\n",
       " -207958.7 -110549.8\n",
       "sample estimates:\n",
       "mean of x mean of y \n",
       "  1278845   1438099 \n"
      ]
     },
     "metadata": {},
     "output_type": "display_data"
    }
   ],
   "source": [
    "t.test(df_m$INGRESOS, df_h$INGRESOS, var.equal = FALSE, alternative = \"two.sided\", conf.level = 0.95)"
   ]
  },
  {
   "cell_type": "code",
   "execution_count": 79,
   "metadata": {
    "vscode": {
     "languageId": "r"
    }
   },
   "outputs": [
    {
     "data": {
      "text/plain": [
       "\n",
       "\tWelch Two Sample t-test\n",
       "\n",
       "data:  df_m$INGRESOS and df_h$INGRESOS\n",
       "t = -6.409, df = 31019, p-value = 7.431e-11\n",
       "alternative hypothesis: true difference in means is less than 0\n",
       "95 percent confidence interval:\n",
       "      -Inf -118380.6\n",
       "sample estimates:\n",
       "mean of x mean of y \n",
       "  1278845   1438099 \n"
      ]
     },
     "metadata": {},
     "output_type": "display_data"
    }
   ],
   "source": [
    "t.test(df_m$INGRESOS, df_h$INGRESOS, var.equal = FALSE, alternative = \"less\", conf.level = 0.95)"
   ]
  },
  {
   "cell_type": "code",
   "execution_count": 80,
   "metadata": {
    "vscode": {
     "languageId": "r"
    }
   },
   "outputs": [],
   "source": [
    "library(dplyr)"
   ]
  },
  {
   "cell_type": "code",
   "execution_count": 81,
   "metadata": {
    "vscode": {
     "languageId": "r"
    }
   },
   "outputs": [],
   "source": [
    "df = mutate(df, decil_ING = ntile(df$INGRESOS,10))"
   ]
  },
  {
   "cell_type": "code",
   "execution_count": 82,
   "metadata": {
    "vscode": {
     "languageId": "r"
    }
   },
   "outputs": [
    {
     "data": {
      "text/plain": [
       "    \n",
       "     HOMBRE MUJER\n",
       "  1    1151  1952\n",
       "  2    1565  1538\n",
       "  3    1756  1347\n",
       "  4    2083  1020\n",
       "  5    1920  1182\n",
       "  6    1842  1260\n",
       "  7    1845  1257\n",
       "  8    1921  1181\n",
       "  9    1826  1276\n",
       "  10   1749  1353"
      ]
     },
     "metadata": {},
     "output_type": "display_data"
    }
   ],
   "source": [
    "tab_sex_decil <- table(df$decil_ING, df$SEXO)\n",
    "tab_sex_decil"
   ]
  },
  {
   "cell_type": "code",
   "execution_count": 83,
   "metadata": {
    "vscode": {
     "languageId": "r"
    }
   },
   "outputs": [],
   "source": [
    "chisq <- chisq.test(tab_sex_decil)"
   ]
  },
  {
   "cell_type": "code",
   "execution_count": 84,
   "metadata": {
    "vscode": {
     "languageId": "r"
    }
   },
   "outputs": [
    {
     "name": "stdout",
     "output_type": "stream",
     "text": [
      "% latex table generated in R 4.2.1 by xtable 1.8-4 package\n",
      "% Thu Sep  8 16:36:06 2022\n",
      "\\begin{table}[ht]\n",
      "\\centering\n",
      "\\begin{tabular}{rrr}\n",
      "  \\hline\n",
      " & HOMBRE & MUJER \\\\ \n",
      "  \\hline\n",
      "1 & -23.51 & 23.51 \\\\ \n",
      "  2 & -7.69 & 7.69 \\\\ \n",
      "  3 & -0.39 & 0.39 \\\\ \n",
      "  4 & 12.11 & -12.11 \\\\ \n",
      "  5 & 5.90 & -5.90 \\\\ \n",
      "  6 & 2.92 & -2.92 \\\\ \n",
      "  7 & 3.04 & -3.04 \\\\ \n",
      "  8 & 5.94 & -5.94 \\\\ \n",
      "  9 & 2.31 & -2.31 \\\\ \n",
      "  10 & -0.63 & 0.63 \\\\ \n",
      "   \\hline\n",
      "\\end{tabular}\n",
      "\\end{table}\n"
     ]
    }
   ],
   "source": [
    "print(xtable(round(chisq$stdres,2)))"
   ]
  },
  {
   "cell_type": "code",
   "execution_count": 85,
   "metadata": {
    "vscode": {
     "languageId": "r"
    }
   },
   "outputs": [
    {
     "data": {
      "image/png": "[encoded data removed]",
      "text/plain": [
       "Plot with title “Histogram of df$EDUCACION”"
      ]
     },
     "metadata": {
      "image/png": {
       "height": 420,
       "width": 420
      }
     },
     "output_type": "display_data"
    }
   ],
   "source": [
    "hist(df$EDUCACION)"
   ]
  },
  {
   "cell_type": "code",
   "execution_count": 86,
   "metadata": {
    "vscode": {
     "languageId": "r"
    }
   },
   "outputs": [],
   "source": [
    "tab_gnl_educ_decil <- table(df$EDUCACION, df$decil_ING)\n",
    "tab_hmb_educ_decil <- table(df[df$SEXO == \"HOMBRE\",]$EDUCACION, df[df$SEXO == \"HOMBRE\",]$decil_ING)\n",
    "tab_mjr_educ_decil <- table(df[df$SEXO == \"MUJER\",]$EDUCACION, df[df$SEXO == \"MUJER\",]$decil_ING)"
   ]
  },
  {
   "cell_type": "code",
   "execution_count": 87,
   "metadata": {
    "vscode": {
     "languageId": "r"
    }
   },
   "outputs": [
    {
     "name": "stderr",
     "output_type": "stream",
     "text": [
      "Warning message in chisq.test(tab_gnl_educ_decil):\n",
      "“Chi-squared approximation may be incorrect”\n",
      "Warning message in chisq.test(tab_hmb_educ_decil):\n",
      "“Chi-squared approximation may be incorrect”\n",
      "Warning message in chisq.test(tab_mjr_educ_decil):\n",
      "“Chi-squared approximation may be incorrect”\n"
     ]
    }
   ],
   "source": [
    "chisq_gnl <- chisq.test(tab_gnl_educ_decil)\n",
    "chisq_hmb <- chisq.test(tab_hmb_educ_decil)\n",
    "chisq_mjr <- chisq.test(tab_mjr_educ_decil)"
   ]
  },
  {
   "cell_type": "code",
   "execution_count": 88,
   "metadata": {
    "vscode": {
     "languageId": "r"
    }
   },
   "outputs": [
    {
     "data": {
      "text/plain": [
       "    \n",
       "        1    2    3    4    5    6    7    8    9   10\n",
       "  1   228  191  145   78   49   26   37   23    2    3\n",
       "  2     1    0    0    0    0    0    0    0    0    0\n",
       "  3  1030  904  791  764  500  438  391  337  176   67\n",
       "  4   491  527  554  599  384  310  348  239  118   52\n",
       "  5   945  996 1040 1136 1331 1318 1201 1003  579  227\n",
       "  6    43   55   61   44   84   94  126  108   55   28\n",
       "  7     5    6    3    0    1    3    7    4    9    5\n",
       "  8   166  180  215  215  350  408  457  445  358  121\n",
       "  9    48   57   65   52  111  160  149  219  230  131\n",
       "  10  138  181  219  203  273  330  368  660 1252 1289\n",
       "  11    6    6    8   10   16   12   11   51  234  736\n",
       "  12    2    0    2    2    2    3    7   13   88  387\n",
       "  13    0    0    0    0    1    0    0    0    1   56"
      ]
     },
     "metadata": {},
     "output_type": "display_data"
    },
    {
     "data": {
      "text/plain": [
       "    \n",
       "       1   2   3   4   5   6   7   8   9  10\n",
       "  1  124 142 107  64  42  22  31  18   2   3\n",
       "  2    1   0   0   0   0   0   0   0   0   0\n",
       "  3  433 542 540 570 394 352 291 276 148  55\n",
       "  4  197 278 353 445 271 228 262 186 103  38\n",
       "  5  285 429 540 757 846 831 773 727 463 179\n",
       "  6   11  27  27  26  55  56  72  73  50  21\n",
       "  7    0   1   1   0   0   1   0   2   2   1\n",
       "  8   31  50  62  93 136 151 180 195 202  88\n",
       "  9   17  19  29  31  52  70  72 109 134 101\n",
       "  10  48  75  94  90 118 123 155 308 599 684\n",
       "  11   2   2   3   6   4   6   5  19  81 351\n",
       "  12   2   0   0   1   1   2   4   8  41 196\n",
       "  13   0   0   0   0   1   0   0   0   1  32"
      ]
     },
     "metadata": {},
     "output_type": "display_data"
    },
    {
     "data": {
      "text/plain": [
       "    \n",
       "       1   2   3   4   5   6   7   8   9  10\n",
       "  1  104  49  38  14   7   4   6   5   0   0\n",
       "  3  597 362 251 194 106  86 100  61  28  12\n",
       "  4  294 249 201 154 113  82  86  53  15  14\n",
       "  5  660 567 500 379 485 487 428 276 116  48\n",
       "  6   32  28  34  18  29  38  54  35   5   7\n",
       "  7    5   5   2   0   1   2   7   2   7   4\n",
       "  8  135 130 153 122 214 257 277 250 156  33\n",
       "  9   31  38  36  21  59  90  77 110  96  30\n",
       "  10  90 106 125 113 155 207 213 352 653 605\n",
       "  11   4   4   5   4  12   6   6  32 153 385\n",
       "  12   0   0   2   1   1   1   3   5  47 191\n",
       "  13   0   0   0   0   0   0   0   0   0  24"
      ]
     },
     "metadata": {},
     "output_type": "display_data"
    }
   ],
   "source": [
    "chisq_gnl$observed\n",
    "chisq_hmb$observed\n",
    "chisq_mjr$observed"
   ]
  },
  {
   "cell_type": "code",
   "execution_count": 89,
   "metadata": {
    "vscode": {
     "languageId": "r"
    }
   },
   "outputs": [
    {
     "data": {
      "text/html": [
       "<table class=\"dataframe\">\n",
       "<caption>A matrix: 13 × 10 of type dbl</caption>\n",
       "<thead>\n",
       "\t<tr><th></th><th scope=col>1</th><th scope=col>2</th><th scope=col>3</th><th scope=col>4</th><th scope=col>5</th><th scope=col>6</th><th scope=col>7</th><th scope=col>8</th><th scope=col>9</th><th scope=col>10</th></tr>\n",
       "</thead>\n",
       "<tbody>\n",
       "\t<tr><th scope=row>1</th><td> 78.22</td><td> 78.22</td><td> 78.22</td><td> 78.22</td><td> 78.19</td><td> 78.19</td><td> 78.19</td><td> 78.19</td><td> 78.19</td><td> 78.19</td></tr>\n",
       "\t<tr><th scope=row>2</th><td>  0.10</td><td>  0.10</td><td>  0.10</td><td>  0.10</td><td>  0.10</td><td>  0.10</td><td>  0.10</td><td>  0.10</td><td>  0.10</td><td>  0.10</td></tr>\n",
       "\t<tr><th scope=row>3</th><td>539.90</td><td>539.90</td><td>539.90</td><td>539.90</td><td>539.73</td><td>539.73</td><td>539.73</td><td>539.73</td><td>539.73</td><td>539.73</td></tr>\n",
       "\t<tr><th scope=row>4</th><td>362.27</td><td>362.27</td><td>362.27</td><td>362.27</td><td>362.15</td><td>362.15</td><td>362.15</td><td>362.15</td><td>362.15</td><td>362.15</td></tr>\n",
       "\t<tr><th scope=row>5</th><td>977.79</td><td>977.79</td><td>977.79</td><td>977.79</td><td>977.47</td><td>977.47</td><td>977.47</td><td>977.47</td><td>977.47</td><td>977.47</td></tr>\n",
       "\t<tr><th scope=row>6</th><td> 69.81</td><td> 69.81</td><td> 69.81</td><td> 69.81</td><td> 69.79</td><td> 69.79</td><td> 69.79</td><td> 69.79</td><td> 69.79</td><td> 69.79</td></tr>\n",
       "\t<tr><th scope=row>7</th><td>  4.30</td><td>  4.30</td><td>  4.30</td><td>  4.30</td><td>  4.30</td><td>  4.30</td><td>  4.30</td><td>  4.30</td><td>  4.30</td><td>  4.30</td></tr>\n",
       "\t<tr><th scope=row>8</th><td>291.56</td><td>291.56</td><td>291.56</td><td>291.56</td><td>291.46</td><td>291.46</td><td>291.46</td><td>291.46</td><td>291.46</td><td>291.46</td></tr>\n",
       "\t<tr><th scope=row>9</th><td>122.22</td><td>122.22</td><td>122.22</td><td>122.22</td><td>122.18</td><td>122.18</td><td>122.18</td><td>122.18</td><td>122.18</td><td>122.18</td></tr>\n",
       "\t<tr><th scope=row>10</th><td>491.40</td><td>491.40</td><td>491.40</td><td>491.40</td><td>491.24</td><td>491.24</td><td>491.24</td><td>491.24</td><td>491.24</td><td>491.24</td></tr>\n",
       "\t<tr><th scope=row>11</th><td>109.02</td><td>109.02</td><td>109.02</td><td>109.02</td><td>108.99</td><td>108.99</td><td>108.99</td><td>108.99</td><td>108.99</td><td>108.99</td></tr>\n",
       "\t<tr><th scope=row>12</th><td> 50.61</td><td> 50.61</td><td> 50.61</td><td> 50.61</td><td> 50.59</td><td> 50.59</td><td> 50.59</td><td> 50.59</td><td> 50.59</td><td> 50.59</td></tr>\n",
       "\t<tr><th scope=row>13</th><td>  5.80</td><td>  5.80</td><td>  5.80</td><td>  5.80</td><td>  5.80</td><td>  5.80</td><td>  5.80</td><td>  5.80</td><td>  5.80</td><td>  5.80</td></tr>\n",
       "</tbody>\n",
       "</table>\n"
      ],
      "text/latex": [
       "A matrix: 13 × 10 of type dbl\n",
       "\\begin{tabular}{r|llllllllll}\n",
       "  & 1 & 2 & 3 & 4 & 5 & 6 & 7 & 8 & 9 & 10\\\\\n",
       "\\hline\n",
       "\t1 &  78.22 &  78.22 &  78.22 &  78.22 &  78.19 &  78.19 &  78.19 &  78.19 &  78.19 &  78.19\\\\\n",
       "\t2 &   0.10 &   0.10 &   0.10 &   0.10 &   0.10 &   0.10 &   0.10 &   0.10 &   0.10 &   0.10\\\\\n",
       "\t3 & 539.90 & 539.90 & 539.90 & 539.90 & 539.73 & 539.73 & 539.73 & 539.73 & 539.73 & 539.73\\\\\n",
       "\t4 & 362.27 & 362.27 & 362.27 & 362.27 & 362.15 & 362.15 & 362.15 & 362.15 & 362.15 & 362.15\\\\\n",
       "\t5 & 977.79 & 977.79 & 977.79 & 977.79 & 977.47 & 977.47 & 977.47 & 977.47 & 977.47 & 977.47\\\\\n",
       "\t6 &  69.81 &  69.81 &  69.81 &  69.81 &  69.79 &  69.79 &  69.79 &  69.79 &  69.79 &  69.79\\\\\n",
       "\t7 &   4.30 &   4.30 &   4.30 &   4.30 &   4.30 &   4.30 &   4.30 &   4.30 &   4.30 &   4.30\\\\\n",
       "\t8 & 291.56 & 291.56 & 291.56 & 291.56 & 291.46 & 291.46 & 291.46 & 291.46 & 291.46 & 291.46\\\\\n",
       "\t9 & 122.22 & 122.22 & 122.22 & 122.22 & 122.18 & 122.18 & 122.18 & 122.18 & 122.18 & 122.18\\\\\n",
       "\t10 & 491.40 & 491.40 & 491.40 & 491.40 & 491.24 & 491.24 & 491.24 & 491.24 & 491.24 & 491.24\\\\\n",
       "\t11 & 109.02 & 109.02 & 109.02 & 109.02 & 108.99 & 108.99 & 108.99 & 108.99 & 108.99 & 108.99\\\\\n",
       "\t12 &  50.61 &  50.61 &  50.61 &  50.61 &  50.59 &  50.59 &  50.59 &  50.59 &  50.59 &  50.59\\\\\n",
       "\t13 &   5.80 &   5.80 &   5.80 &   5.80 &   5.80 &   5.80 &   5.80 &   5.80 &   5.80 &   5.80\\\\\n",
       "\\end{tabular}\n"
      ],
      "text/markdown": [
       "\n",
       "A matrix: 13 × 10 of type dbl\n",
       "\n",
       "| <!--/--> | 1 | 2 | 3 | 4 | 5 | 6 | 7 | 8 | 9 | 10 |\n",
       "|---|---|---|---|---|---|---|---|---|---|---|\n",
       "| 1 |  78.22 |  78.22 |  78.22 |  78.22 |  78.19 |  78.19 |  78.19 |  78.19 |  78.19 |  78.19 |\n",
       "| 2 |   0.10 |   0.10 |   0.10 |   0.10 |   0.10 |   0.10 |   0.10 |   0.10 |   0.10 |   0.10 |\n",
       "| 3 | 539.90 | 539.90 | 539.90 | 539.90 | 539.73 | 539.73 | 539.73 | 539.73 | 539.73 | 539.73 |\n",
       "| 4 | 362.27 | 362.27 | 362.27 | 362.27 | 362.15 | 362.15 | 362.15 | 362.15 | 362.15 | 362.15 |\n",
       "| 5 | 977.79 | 977.79 | 977.79 | 977.79 | 977.47 | 977.47 | 977.47 | 977.47 | 977.47 | 977.47 |\n",
       "| 6 |  69.81 |  69.81 |  69.81 |  69.81 |  69.79 |  69.79 |  69.79 |  69.79 |  69.79 |  69.79 |\n",
       "| 7 |   4.30 |   4.30 |   4.30 |   4.30 |   4.30 |   4.30 |   4.30 |   4.30 |   4.30 |   4.30 |\n",
       "| 8 | 291.56 | 291.56 | 291.56 | 291.56 | 291.46 | 291.46 | 291.46 | 291.46 | 291.46 | 291.46 |\n",
       "| 9 | 122.22 | 122.22 | 122.22 | 122.22 | 122.18 | 122.18 | 122.18 | 122.18 | 122.18 | 122.18 |\n",
       "| 10 | 491.40 | 491.40 | 491.40 | 491.40 | 491.24 | 491.24 | 491.24 | 491.24 | 491.24 | 491.24 |\n",
       "| 11 | 109.02 | 109.02 | 109.02 | 109.02 | 108.99 | 108.99 | 108.99 | 108.99 | 108.99 | 108.99 |\n",
       "| 12 |  50.61 |  50.61 |  50.61 |  50.61 |  50.59 |  50.59 |  50.59 |  50.59 |  50.59 |  50.59 |\n",
       "| 13 |   5.80 |   5.80 |   5.80 |   5.80 |   5.80 |   5.80 |   5.80 |   5.80 |   5.80 |   5.80 |\n",
       "\n"
      ],
      "text/plain": [
       "    \n",
       "     1      2      3      4      5      6      7      8      9      10    \n",
       "  1   78.22  78.22  78.22  78.22  78.19  78.19  78.19  78.19  78.19  78.19\n",
       "  2    0.10   0.10   0.10   0.10   0.10   0.10   0.10   0.10   0.10   0.10\n",
       "  3  539.90 539.90 539.90 539.90 539.73 539.73 539.73 539.73 539.73 539.73\n",
       "  4  362.27 362.27 362.27 362.27 362.15 362.15 362.15 362.15 362.15 362.15\n",
       "  5  977.79 977.79 977.79 977.79 977.47 977.47 977.47 977.47 977.47 977.47\n",
       "  6   69.81  69.81  69.81  69.81  69.79  69.79  69.79  69.79  69.79  69.79\n",
       "  7    4.30   4.30   4.30   4.30   4.30   4.30   4.30   4.30   4.30   4.30\n",
       "  8  291.56 291.56 291.56 291.56 291.46 291.46 291.46 291.46 291.46 291.46\n",
       "  9  122.22 122.22 122.22 122.22 122.18 122.18 122.18 122.18 122.18 122.18\n",
       "  10 491.40 491.40 491.40 491.40 491.24 491.24 491.24 491.24 491.24 491.24\n",
       "  11 109.02 109.02 109.02 109.02 108.99 108.99 108.99 108.99 108.99 108.99\n",
       "  12  50.61  50.61  50.61  50.61  50.59  50.59  50.59  50.59  50.59  50.59\n",
       "  13   5.80   5.80   5.80   5.80   5.80   5.80   5.80   5.80   5.80   5.80"
      ]
     },
     "metadata": {},
     "output_type": "display_data"
    },
    {
     "data": {
      "text/html": [
       "<table class=\"dataframe\">\n",
       "<caption>A matrix: 13 × 10 of type dbl</caption>\n",
       "<thead>\n",
       "\t<tr><th></th><th scope=col>1</th><th scope=col>2</th><th scope=col>3</th><th scope=col>4</th><th scope=col>5</th><th scope=col>6</th><th scope=col>7</th><th scope=col>8</th><th scope=col>9</th><th scope=col>10</th></tr>\n",
       "</thead>\n",
       "<tbody>\n",
       "\t<tr><th scope=row>1</th><td> 36.18</td><td> 49.19</td><td> 55.19</td><td> 65.47</td><td> 60.35</td><td> 57.90</td><td> 57.99</td><td> 60.38</td><td> 57.39</td><td> 54.97</td></tr>\n",
       "\t<tr><th scope=row>2</th><td>  0.07</td><td>  0.09</td><td>  0.10</td><td>  0.12</td><td>  0.11</td><td>  0.10</td><td>  0.10</td><td>  0.11</td><td>  0.10</td><td>  0.10</td></tr>\n",
       "\t<tr><th scope=row>3</th><td>234.72</td><td>319.15</td><td>358.10</td><td>424.79</td><td>391.55</td><td>375.64</td><td>376.25</td><td>391.75</td><td>372.38</td><td>356.67</td></tr>\n",
       "\t<tr><th scope=row>4</th><td>153.90</td><td>209.25</td><td>234.79</td><td>278.51</td><td>256.72</td><td>246.29</td><td>246.69</td><td>256.85</td><td>244.15</td><td>233.85</td></tr>\n",
       "\t<tr><th scope=row>5</th><td>380.02</td><td>516.70</td><td>579.76</td><td>687.73</td><td>633.91</td><td>608.16</td><td>609.15</td><td>634.24</td><td>602.88</td><td>577.45</td></tr>\n",
       "\t<tr><th scope=row>6</th><td> 27.25</td><td> 37.05</td><td> 41.57</td><td> 49.31</td><td> 45.45</td><td> 43.60</td><td> 43.67</td><td> 45.47</td><td> 43.23</td><td> 41.40</td></tr>\n",
       "\t<tr><th scope=row>7</th><td>  0.52</td><td>  0.71</td><td>  0.80</td><td>  0.94</td><td>  0.87</td><td>  0.83</td><td>  0.84</td><td>  0.87</td><td>  0.83</td><td>  0.79</td></tr>\n",
       "\t<tr><th scope=row>8</th><td> 77.44</td><td>105.29</td><td>118.14</td><td>140.14</td><td>129.17</td><td>123.93</td><td>124.13</td><td>129.24</td><td>122.85</td><td>117.67</td></tr>\n",
       "\t<tr><th scope=row>9</th><td> 41.33</td><td> 56.19</td><td> 63.05</td><td> 74.79</td><td> 68.94</td><td> 66.14</td><td> 66.24</td><td> 68.97</td><td> 65.56</td><td> 62.80</td></tr>\n",
       "\t<tr><th scope=row>10</th><td>149.53</td><td>203.31</td><td>228.13</td><td>270.61</td><td>249.43</td><td>239.30</td><td>239.69</td><td>249.56</td><td>237.22</td><td>227.22</td></tr>\n",
       "\t<tr><th scope=row>11</th><td> 31.22</td><td> 42.45</td><td> 47.63</td><td> 56.50</td><td> 52.08</td><td> 49.97</td><td> 50.05</td><td> 52.11</td><td> 49.53</td><td> 47.44</td></tr>\n",
       "\t<tr><th scope=row>12</th><td> 16.62</td><td> 22.60</td><td> 25.36</td><td> 30.08</td><td> 27.73</td><td> 26.60</td><td> 26.64</td><td> 27.74</td><td> 26.37</td><td> 25.26</td></tr>\n",
       "\t<tr><th scope=row>13</th><td>  2.22</td><td>  3.01</td><td>  3.38</td><td>  4.01</td><td>  3.70</td><td>  3.55</td><td>  3.55</td><td>  3.70</td><td>  3.52</td><td>  3.37</td></tr>\n",
       "</tbody>\n",
       "</table>\n"
      ],
      "text/latex": [
       "A matrix: 13 × 10 of type dbl\n",
       "\\begin{tabular}{r|llllllllll}\n",
       "  & 1 & 2 & 3 & 4 & 5 & 6 & 7 & 8 & 9 & 10\\\\\n",
       "\\hline\n",
       "\t1 &  36.18 &  49.19 &  55.19 &  65.47 &  60.35 &  57.90 &  57.99 &  60.38 &  57.39 &  54.97\\\\\n",
       "\t2 &   0.07 &   0.09 &   0.10 &   0.12 &   0.11 &   0.10 &   0.10 &   0.11 &   0.10 &   0.10\\\\\n",
       "\t3 & 234.72 & 319.15 & 358.10 & 424.79 & 391.55 & 375.64 & 376.25 & 391.75 & 372.38 & 356.67\\\\\n",
       "\t4 & 153.90 & 209.25 & 234.79 & 278.51 & 256.72 & 246.29 & 246.69 & 256.85 & 244.15 & 233.85\\\\\n",
       "\t5 & 380.02 & 516.70 & 579.76 & 687.73 & 633.91 & 608.16 & 609.15 & 634.24 & 602.88 & 577.45\\\\\n",
       "\t6 &  27.25 &  37.05 &  41.57 &  49.31 &  45.45 &  43.60 &  43.67 &  45.47 &  43.23 &  41.40\\\\\n",
       "\t7 &   0.52 &   0.71 &   0.80 &   0.94 &   0.87 &   0.83 &   0.84 &   0.87 &   0.83 &   0.79\\\\\n",
       "\t8 &  77.44 & 105.29 & 118.14 & 140.14 & 129.17 & 123.93 & 124.13 & 129.24 & 122.85 & 117.67\\\\\n",
       "\t9 &  41.33 &  56.19 &  63.05 &  74.79 &  68.94 &  66.14 &  66.24 &  68.97 &  65.56 &  62.80\\\\\n",
       "\t10 & 149.53 & 203.31 & 228.13 & 270.61 & 249.43 & 239.30 & 239.69 & 249.56 & 237.22 & 227.22\\\\\n",
       "\t11 &  31.22 &  42.45 &  47.63 &  56.50 &  52.08 &  49.97 &  50.05 &  52.11 &  49.53 &  47.44\\\\\n",
       "\t12 &  16.62 &  22.60 &  25.36 &  30.08 &  27.73 &  26.60 &  26.64 &  27.74 &  26.37 &  25.26\\\\\n",
       "\t13 &   2.22 &   3.01 &   3.38 &   4.01 &   3.70 &   3.55 &   3.55 &   3.70 &   3.52 &   3.37\\\\\n",
       "\\end{tabular}\n"
      ],
      "text/markdown": [
       "\n",
       "A matrix: 13 × 10 of type dbl\n",
       "\n",
       "| <!--/--> | 1 | 2 | 3 | 4 | 5 | 6 | 7 | 8 | 9 | 10 |\n",
       "|---|---|---|---|---|---|---|---|---|---|---|\n",
       "| 1 |  36.18 |  49.19 |  55.19 |  65.47 |  60.35 |  57.90 |  57.99 |  60.38 |  57.39 |  54.97 |\n",
       "| 2 |   0.07 |   0.09 |   0.10 |   0.12 |   0.11 |   0.10 |   0.10 |   0.11 |   0.10 |   0.10 |\n",
       "| 3 | 234.72 | 319.15 | 358.10 | 424.79 | 391.55 | 375.64 | 376.25 | 391.75 | 372.38 | 356.67 |\n",
       "| 4 | 153.90 | 209.25 | 234.79 | 278.51 | 256.72 | 246.29 | 246.69 | 256.85 | 244.15 | 233.85 |\n",
       "| 5 | 380.02 | 516.70 | 579.76 | 687.73 | 633.91 | 608.16 | 609.15 | 634.24 | 602.88 | 577.45 |\n",
       "| 6 |  27.25 |  37.05 |  41.57 |  49.31 |  45.45 |  43.60 |  43.67 |  45.47 |  43.23 |  41.40 |\n",
       "| 7 |   0.52 |   0.71 |   0.80 |   0.94 |   0.87 |   0.83 |   0.84 |   0.87 |   0.83 |   0.79 |\n",
       "| 8 |  77.44 | 105.29 | 118.14 | 140.14 | 129.17 | 123.93 | 124.13 | 129.24 | 122.85 | 117.67 |\n",
       "| 9 |  41.33 |  56.19 |  63.05 |  74.79 |  68.94 |  66.14 |  66.24 |  68.97 |  65.56 |  62.80 |\n",
       "| 10 | 149.53 | 203.31 | 228.13 | 270.61 | 249.43 | 239.30 | 239.69 | 249.56 | 237.22 | 227.22 |\n",
       "| 11 |  31.22 |  42.45 |  47.63 |  56.50 |  52.08 |  49.97 |  50.05 |  52.11 |  49.53 |  47.44 |\n",
       "| 12 |  16.62 |  22.60 |  25.36 |  30.08 |  27.73 |  26.60 |  26.64 |  27.74 |  26.37 |  25.26 |\n",
       "| 13 |   2.22 |   3.01 |   3.38 |   4.01 |   3.70 |   3.55 |   3.55 |   3.70 |   3.52 |   3.37 |\n",
       "\n"
      ],
      "text/plain": [
       "    \n",
       "     1      2      3      4      5      6      7      8      9      10    \n",
       "  1   36.18  49.19  55.19  65.47  60.35  57.90  57.99  60.38  57.39  54.97\n",
       "  2    0.07   0.09   0.10   0.12   0.11   0.10   0.10   0.11   0.10   0.10\n",
       "  3  234.72 319.15 358.10 424.79 391.55 375.64 376.25 391.75 372.38 356.67\n",
       "  4  153.90 209.25 234.79 278.51 256.72 246.29 246.69 256.85 244.15 233.85\n",
       "  5  380.02 516.70 579.76 687.73 633.91 608.16 609.15 634.24 602.88 577.45\n",
       "  6   27.25  37.05  41.57  49.31  45.45  43.60  43.67  45.47  43.23  41.40\n",
       "  7    0.52   0.71   0.80   0.94   0.87   0.83   0.84   0.87   0.83   0.79\n",
       "  8   77.44 105.29 118.14 140.14 129.17 123.93 124.13 129.24 122.85 117.67\n",
       "  9   41.33  56.19  63.05  74.79  68.94  66.14  66.24  68.97  65.56  62.80\n",
       "  10 149.53 203.31 228.13 270.61 249.43 239.30 239.69 249.56 237.22 227.22\n",
       "  11  31.22  42.45  47.63  56.50  52.08  49.97  50.05  52.11  49.53  47.44\n",
       "  12  16.62  22.60  25.36  30.08  27.73  26.60  26.64  27.74  26.37  25.26\n",
       "  13   2.22   3.01   3.38   4.01   3.70   3.55   3.55   3.70   3.52   3.37"
      ]
     },
     "metadata": {},
     "output_type": "display_data"
    },
    {
     "data": {
      "text/html": [
       "<table class=\"dataframe\">\n",
       "<caption>A matrix: 12 × 10 of type dbl</caption>\n",
       "<thead>\n",
       "\t<tr><th></th><th scope=col>1</th><th scope=col>2</th><th scope=col>3</th><th scope=col>4</th><th scope=col>5</th><th scope=col>6</th><th scope=col>7</th><th scope=col>8</th><th scope=col>9</th><th scope=col>10</th></tr>\n",
       "</thead>\n",
       "<tbody>\n",
       "\t<tr><th scope=row>1</th><td> 33.15</td><td> 26.12</td><td> 22.88</td><td> 17.32</td><td> 20.07</td><td> 21.40</td><td> 21.35</td><td> 20.06</td><td> 21.67</td><td> 22.98</td></tr>\n",
       "\t<tr><th scope=row>3</th><td>262.44</td><td>206.78</td><td>181.10</td><td>137.13</td><td>158.91</td><td>169.40</td><td>169.00</td><td>158.78</td><td>171.55</td><td>181.90</td></tr>\n",
       "\t<tr><th scope=row>4</th><td>184.16</td><td>145.10</td><td>127.08</td><td> 96.23</td><td>111.51</td><td>118.87</td><td>118.59</td><td>111.42</td><td>120.38</td><td>127.65</td></tr>\n",
       "\t<tr><th scope=row>5</th><td>576.28</td><td>454.06</td><td>397.67</td><td>301.13</td><td>348.96</td><td>371.99</td><td>371.10</td><td>348.66</td><td>376.71</td><td>399.44</td></tr>\n",
       "\t<tr><th scope=row>6</th><td> 40.89</td><td> 32.22</td><td> 28.22</td><td> 21.37</td><td> 24.76</td><td> 26.40</td><td> 26.33</td><td> 24.74</td><td> 26.73</td><td> 28.34</td></tr>\n",
       "\t<tr><th scope=row>7</th><td>  5.11</td><td>  4.03</td><td>  3.53</td><td>  2.67</td><td>  3.10</td><td>  3.30</td><td>  3.29</td><td>  3.09</td><td>  3.34</td><td>  3.54</td></tr>\n",
       "\t<tr><th scope=row>8</th><td>252.21</td><td>198.72</td><td>174.04</td><td>131.79</td><td>152.72</td><td>162.80</td><td>162.42</td><td>152.60</td><td>164.87</td><td>174.82</td></tr>\n",
       "\t<tr><th scope=row>9</th><td> 85.87</td><td> 67.66</td><td> 59.26</td><td> 44.87</td><td> 52.00</td><td> 55.43</td><td> 55.30</td><td> 51.95</td><td> 56.13</td><td> 59.52</td></tr>\n",
       "\t<tr><th scope=row>10</th><td>382.48</td><td>301.36</td><td>263.94</td><td>199.86</td><td>231.61</td><td>246.89</td><td>246.30</td><td>231.41</td><td>250.03</td><td>265.11</td></tr>\n",
       "\t<tr><th scope=row>11</th><td> 89.23</td><td> 70.31</td><td> 61.58</td><td> 46.63</td><td> 54.03</td><td> 57.60</td><td> 57.46</td><td> 53.99</td><td> 58.33</td><td> 61.85</td></tr>\n",
       "\t<tr><th scope=row>12</th><td> 36.66</td><td> 28.88</td><td> 25.30</td><td> 19.15</td><td> 22.20</td><td> 23.66</td><td> 23.61</td><td> 22.18</td><td> 23.96</td><td> 25.41</td></tr>\n",
       "\t<tr><th scope=row>13</th><td>  3.51</td><td>  2.76</td><td>  2.42</td><td>  1.83</td><td>  2.12</td><td>  2.26</td><td>  2.26</td><td>  2.12</td><td>  2.29</td><td>  2.43</td></tr>\n",
       "</tbody>\n",
       "</table>\n"
      ],
      "text/latex": [
       "A matrix: 12 × 10 of type dbl\n",
       "\\begin{tabular}{r|llllllllll}\n",
       "  & 1 & 2 & 3 & 4 & 5 & 6 & 7 & 8 & 9 & 10\\\\\n",
       "\\hline\n",
       "\t1 &  33.15 &  26.12 &  22.88 &  17.32 &  20.07 &  21.40 &  21.35 &  20.06 &  21.67 &  22.98\\\\\n",
       "\t3 & 262.44 & 206.78 & 181.10 & 137.13 & 158.91 & 169.40 & 169.00 & 158.78 & 171.55 & 181.90\\\\\n",
       "\t4 & 184.16 & 145.10 & 127.08 &  96.23 & 111.51 & 118.87 & 118.59 & 111.42 & 120.38 & 127.65\\\\\n",
       "\t5 & 576.28 & 454.06 & 397.67 & 301.13 & 348.96 & 371.99 & 371.10 & 348.66 & 376.71 & 399.44\\\\\n",
       "\t6 &  40.89 &  32.22 &  28.22 &  21.37 &  24.76 &  26.40 &  26.33 &  24.74 &  26.73 &  28.34\\\\\n",
       "\t7 &   5.11 &   4.03 &   3.53 &   2.67 &   3.10 &   3.30 &   3.29 &   3.09 &   3.34 &   3.54\\\\\n",
       "\t8 & 252.21 & 198.72 & 174.04 & 131.79 & 152.72 & 162.80 & 162.42 & 152.60 & 164.87 & 174.82\\\\\n",
       "\t9 &  85.87 &  67.66 &  59.26 &  44.87 &  52.00 &  55.43 &  55.30 &  51.95 &  56.13 &  59.52\\\\\n",
       "\t10 & 382.48 & 301.36 & 263.94 & 199.86 & 231.61 & 246.89 & 246.30 & 231.41 & 250.03 & 265.11\\\\\n",
       "\t11 &  89.23 &  70.31 &  61.58 &  46.63 &  54.03 &  57.60 &  57.46 &  53.99 &  58.33 &  61.85\\\\\n",
       "\t12 &  36.66 &  28.88 &  25.30 &  19.15 &  22.20 &  23.66 &  23.61 &  22.18 &  23.96 &  25.41\\\\\n",
       "\t13 &   3.51 &   2.76 &   2.42 &   1.83 &   2.12 &   2.26 &   2.26 &   2.12 &   2.29 &   2.43\\\\\n",
       "\\end{tabular}\n"
      ],
      "text/markdown": [
       "\n",
       "A matrix: 12 × 10 of type dbl\n",
       "\n",
       "| <!--/--> | 1 | 2 | 3 | 4 | 5 | 6 | 7 | 8 | 9 | 10 |\n",
       "|---|---|---|---|---|---|---|---|---|---|---|\n",
       "| 1 |  33.15 |  26.12 |  22.88 |  17.32 |  20.07 |  21.40 |  21.35 |  20.06 |  21.67 |  22.98 |\n",
       "| 3 | 262.44 | 206.78 | 181.10 | 137.13 | 158.91 | 169.40 | 169.00 | 158.78 | 171.55 | 181.90 |\n",
       "| 4 | 184.16 | 145.10 | 127.08 |  96.23 | 111.51 | 118.87 | 118.59 | 111.42 | 120.38 | 127.65 |\n",
       "| 5 | 576.28 | 454.06 | 397.67 | 301.13 | 348.96 | 371.99 | 371.10 | 348.66 | 376.71 | 399.44 |\n",
       "| 6 |  40.89 |  32.22 |  28.22 |  21.37 |  24.76 |  26.40 |  26.33 |  24.74 |  26.73 |  28.34 |\n",
       "| 7 |   5.11 |   4.03 |   3.53 |   2.67 |   3.10 |   3.30 |   3.29 |   3.09 |   3.34 |   3.54 |\n",
       "| 8 | 252.21 | 198.72 | 174.04 | 131.79 | 152.72 | 162.80 | 162.42 | 152.60 | 164.87 | 174.82 |\n",
       "| 9 |  85.87 |  67.66 |  59.26 |  44.87 |  52.00 |  55.43 |  55.30 |  51.95 |  56.13 |  59.52 |\n",
       "| 10 | 382.48 | 301.36 | 263.94 | 199.86 | 231.61 | 246.89 | 246.30 | 231.41 | 250.03 | 265.11 |\n",
       "| 11 |  89.23 |  70.31 |  61.58 |  46.63 |  54.03 |  57.60 |  57.46 |  53.99 |  58.33 |  61.85 |\n",
       "| 12 |  36.66 |  28.88 |  25.30 |  19.15 |  22.20 |  23.66 |  23.61 |  22.18 |  23.96 |  25.41 |\n",
       "| 13 |   3.51 |   2.76 |   2.42 |   1.83 |   2.12 |   2.26 |   2.26 |   2.12 |   2.29 |   2.43 |\n",
       "\n"
      ],
      "text/plain": [
       "    \n",
       "     1      2      3      4      5      6      7      8      9      10    \n",
       "  1   33.15  26.12  22.88  17.32  20.07  21.40  21.35  20.06  21.67  22.98\n",
       "  3  262.44 206.78 181.10 137.13 158.91 169.40 169.00 158.78 171.55 181.90\n",
       "  4  184.16 145.10 127.08  96.23 111.51 118.87 118.59 111.42 120.38 127.65\n",
       "  5  576.28 454.06 397.67 301.13 348.96 371.99 371.10 348.66 376.71 399.44\n",
       "  6   40.89  32.22  28.22  21.37  24.76  26.40  26.33  24.74  26.73  28.34\n",
       "  7    5.11   4.03   3.53   2.67   3.10   3.30   3.29   3.09   3.34   3.54\n",
       "  8  252.21 198.72 174.04 131.79 152.72 162.80 162.42 152.60 164.87 174.82\n",
       "  9   85.87  67.66  59.26  44.87  52.00  55.43  55.30  51.95  56.13  59.52\n",
       "  10 382.48 301.36 263.94 199.86 231.61 246.89 246.30 231.41 250.03 265.11\n",
       "  11  89.23  70.31  61.58  46.63  54.03  57.60  57.46  53.99  58.33  61.85\n",
       "  12  36.66  28.88  25.30  19.15  22.20  23.66  23.61  22.18  23.96  25.41\n",
       "  13   3.51   2.76   2.42   1.83   2.12   2.26   2.26   2.12   2.29   2.43"
      ]
     },
     "metadata": {},
     "output_type": "display_data"
    }
   ],
   "source": [
    "round(chisq_gnl$expected,2)\n",
    "round(chisq_hmb$expected,2)\n",
    "round(chisq_mjr$expected,2)"
   ]
  },
  {
   "cell_type": "code",
   "execution_count": 90,
   "metadata": {
    "vscode": {
     "languageId": "r"
    }
   },
   "outputs": [
    {
     "data": {
      "text/plain": [
       "    \n",
       "          1      2      3      4      5      6      7      8      9     10\n",
       "  1   18.08  13.62   8.06  -0.03  -3.52  -6.30  -4.97  -6.66  -9.20  -9.08\n",
       "  2    3.00  -0.33  -0.33  -0.33  -0.33  -0.33  -0.33  -0.33  -0.33  -0.33\n",
       "  3   24.46  18.17  12.53  11.19  -1.98  -5.08  -7.42 -10.12 -18.16 -23.60\n",
       "  4    7.59   9.71  11.30  13.95   1.29  -3.07  -0.83  -7.26 -14.39 -18.28\n",
       "  5   -1.34   0.74   2.53   6.44  14.40  13.87   9.11   1.04 -16.23 -30.57\n",
       "  6   -3.42  -1.89  -1.12  -3.29   1.81   3.09   7.17   4.88  -1.89  -5.33\n",
       "  7    0.36   0.86  -0.66  -2.19  -1.68  -0.66   1.37  -0.15   2.39   0.36\n",
       "  8   -8.14  -7.24  -4.97  -4.97   3.80   7.56  10.74   9.96   4.32 -11.06\n",
       "  9   -7.22  -6.35  -5.57  -6.83  -1.09   3.68   2.61   9.42  10.49   0.86\n",
       "  10 -18.32 -16.09 -14.12 -14.95 -11.31  -8.36  -6.39   8.75  39.44  41.36\n",
       "  11 -10.59 -10.59 -10.38 -10.18  -9.56  -9.97 -10.07  -5.96  12.85  64.45\n",
       "  12  -7.26  -7.56  -7.26  -7.26  -7.26  -7.11  -6.51  -5.62   5.59  50.26\n",
       "  13  -2.54  -2.54  -2.54  -2.54  -2.10  -2.54  -2.54  -2.54  -2.10  21.99"
      ]
     },
     "metadata": {},
     "output_type": "display_data"
    },
    {
     "data": {
      "text/plain": [
       "    \n",
       "          1      2      3      4      5      6      7      8      9     10\n",
       "  1   15.35  14.08   7.47  -0.20  -2.54  -5.06  -3.81  -5.87  -7.85  -7.50\n",
       "  2    3.79  -0.31  -0.33  -0.37  -0.35  -0.34  -0.34  -0.35  -0.34  -0.33\n",
       "  3   15.00  14.65  11.35   8.41   0.15  -1.44  -5.21  -6.94 -13.76 -18.86\n",
       "  4    3.86   5.35   8.73  11.41   1.01  -1.32   1.11  -5.03 -10.25 -14.50\n",
       "  5   -6.16  -4.94  -2.13   3.44  10.90  11.67   8.57   4.77  -7.35 -21.34\n",
       "  6   -3.26  -1.75  -2.41  -3.58   1.52   2.01   4.58   4.38   1.10  -3.38\n",
       "  7   -0.75   0.36   0.24  -1.03  -0.99   0.19  -0.97   1.28   1.36   0.25\n",
       "  8   -5.65  -5.84  -5.64  -4.39   0.66   2.66   5.49   6.34   7.81  -2.98\n",
       "  9   -3.99  -5.29  -4.60  -5.49  -2.20   0.51   0.76   5.20   9.09   5.17\n",
       "  10  -9.21 -10.11 -10.03 -12.53  -9.45  -8.52  -6.20   4.20  26.59  34.23\n",
       "  11  -5.48  -6.59  -6.91  -7.25  -7.16  -6.66  -6.82  -4.93   4.79  47.07\n",
       "  12  -3.74  -5.02  -5.35  -5.69  -5.42  -5.08  -4.67  -4.00   3.03  36.05\n",
       "  13  -1.54  -1.82  -1.94  -2.13  -1.49  -1.99  -1.99  -2.04  -1.42  16.45"
      ]
     },
     "metadata": {},
     "output_type": "display_data"
    },
    {
     "data": {
      "text/plain": [
       "    \n",
       "          1      2      3      4      5      6      7      8      9     10\n",
       "  1   13.43   4.80   3.36  -0.84  -3.08  -3.99  -3.52  -3.55  -4.94  -5.10\n",
       "  3   24.02  12.33   5.89   5.43  -4.73  -7.24  -5.99  -8.74 -12.39 -14.28\n",
       "  4    9.20   9.63   7.27   6.44   0.15  -3.73  -3.30  -6.09 -10.61 -11.15\n",
       "  5    4.50   6.71   6.45   5.56   9.09   7.46   3.70  -4.85 -16.82 -22.09\n",
       "  6   -1.52  -0.80   1.16  -0.77   0.90   2.40   5.72   2.18  -4.47  -4.27\n",
       "  7   -0.05   0.52  -0.86  -1.70  -1.25  -0.75   2.15  -0.65   2.11   0.26\n",
       "  8   -8.56  -5.55  -1.80  -0.95   5.57   8.31  10.12   8.85  -0.78 -12.12\n",
       "  9   -6.55  -3.92  -3.26  -3.79   1.04   4.99   3.14   8.63   5.72  -4.13\n",
       "  10 -18.05 -13.34 -10.06  -7.13  -5.88  -2.97  -2.49   9.26  29.88  24.56\n",
       "  11 -10.00  -8.61  -7.78  -6.65  -6.13  -7.31  -7.30  -3.21  13.34  44.37\n",
       "  12  -6.61  -5.77  -4.93  -4.36  -4.76  -4.94  -4.50  -3.86   5.00  34.98\n",
       "  13  -2.03  -1.77  -1.64  -1.41  -1.53  -1.58  -1.58  -1.53  -1.59  14.61"
      ]
     },
     "metadata": {},
     "output_type": "display_data"
    }
   ],
   "source": [
    "round(chisq_gnl$stdres,2)\n",
    "round(chisq_hmb$stdres,2)\n",
    "round(chisq_mjr$stdres,2)"
   ]
  }
 ],
 "metadata": {
  "kernelspec": {
   "display_name": "R",
   "language": "R",
   "name": "ir"
  },
  "language_info": {
   "codemirror_mode": "r",
   "file_extension": ".r",
   "mimetype": "text/x-r-source",
   "name": "R",
   "pygments_lexer": "r",
   "version": "4.2.1"
  },
  "orig_nbformat": 4,
  "vscode": {
   "interpreter": {
    "hash": "aee8b7b246df8f9039afb4144a1f6fd8d2ca17a180786b69acc140d282b71a49"
   }
  }
 },
 "nbformat": 4,
 "nbformat_minor": 2
}
