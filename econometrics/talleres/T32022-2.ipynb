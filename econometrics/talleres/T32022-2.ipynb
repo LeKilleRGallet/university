{
 "cells": [
  {
   "cell_type": "markdown",
   "metadata": {},
   "source": [
    "# Punto 2\n",
    "\n",
    "# Insesgades mediante montecarlo"
   ]
  },
  {
   "cell_type": "code",
   "execution_count": 135,
   "metadata": {
    "vscode": {
     "languageId": "r"
    }
   },
   "outputs": [],
   "source": [
    "b_1 = 7.3832\n",
    "b_2 = 0.2323\n",
    "sigma2 = 46.853\n",
    "var_b1 = 16.0669\n",
    "var_b2 = 0.00306"
   ]
  },
  {
   "cell_type": "code",
   "execution_count": 136,
   "metadata": {
    "vscode": {
     "languageId": "r"
    }
   },
   "outputs": [],
   "source": [
    "X = c(25.83,34.31,42.50,46.75,48.29,48.77,\n",
    "        49.65,51.94,54.33,54.87,56.46,58.83,\n",
    "        59.13,60.73,61.12,63.10,65.96,66.40,\n",
    "        70.42,70.48,71.98,72.00,72.23,72.23,\n",
    "        73.44,74.25,74.77,76.33,81.02,81.85,\n",
    "        82.56,83.33,83.40,91.81,91.81,92.96,\n",
    "        95.17,101.40,114.13,115.46)"
   ]
  },
  {
   "cell_type": "code",
   "execution_count": 137,
   "metadata": {
    "vscode": {
     "languageId": "r"
    }
   },
   "outputs": [],
   "source": [
    "Y = matrix(nrow = 1000,ncol = length(X))"
   ]
  },
  {
   "cell_type": "code",
   "execution_count": 138,
   "metadata": {
    "vscode": {
     "languageId": "r"
    }
   },
   "outputs": [],
   "source": [
    "e = rnorm(40, mean = 0, sd = sqrt(sigma2))"
   ]
  },
  {
   "cell_type": "code",
   "execution_count": 139,
   "metadata": {
    "vscode": {
     "languageId": "r"
    }
   },
   "outputs": [],
   "source": [
    "for (i in 1:nrow(Y)) {\n",
    "    Y_e = b_1 + b_2*X + rnorm(40,mean = 0,sd = sqrt(sigma2))\n",
    "    Y[i,]=Y_e\n",
    "}"
   ]
  },
  {
   "cell_type": "code",
   "execution_count": 140,
   "metadata": {
    "vscode": {
     "languageId": "r"
    }
   },
   "outputs": [],
   "source": [
    "B_e = matrix(nrow = nrow(Y),ncol = 2)\n",
    "\n",
    "for (i in 1:nrow(Y)) {\n",
    "    fit=lm(Y[i,]~X)\n",
    "    B_e[i,] = fit$coefficients\n",
    "}"
   ]
  },
  {
   "cell_type": "code",
   "execution_count": 141,
   "metadata": {
    "vscode": {
     "languageId": "r"
    }
   },
   "outputs": [
    {
     "data": {
      "text/html": [
       "7.50544699832276"
      ],
      "text/latex": [
       "7.50544699832276"
      ],
      "text/markdown": [
       "7.50544699832276"
      ],
      "text/plain": [
       "[1] 7.505447"
      ]
     },
     "metadata": {},
     "output_type": "display_data"
    },
    {
     "data": {
      "text/html": [
       "0.231449055634799"
      ],
      "text/latex": [
       "0.231449055634799"
      ],
      "text/markdown": [
       "0.231449055634799"
      ],
      "text/plain": [
       "[1] 0.2314491"
      ]
     },
     "metadata": {},
     "output_type": "display_data"
    },
    {
     "data": {
      "text/html": [
       "17.3672386267282"
      ],
      "text/latex": [
       "17.3672386267282"
      ],
      "text/markdown": [
       "17.3672386267282"
      ],
      "text/plain": [
       "[1] 17.36724"
      ]
     },
     "metadata": {},
     "output_type": "display_data"
    },
    {
     "data": {
      "text/html": [
       "0.00326295501356399"
      ],
      "text/latex": [
       "0.00326295501356399"
      ],
      "text/markdown": [
       "0.00326295501356399"
      ],
      "text/plain": [
       "[1] 0.003262955"
      ]
     },
     "metadata": {},
     "output_type": "display_data"
    }
   ],
   "source": [
    "mean(B_e[,1])\n",
    "mean(B_e[,2])\n",
    "var(B_e[,1])\n",
    "var(B_e[,2])"
   ]
  },
  {
   "cell_type": "code",
   "execution_count": 142,
   "metadata": {
    "vscode": {
     "languageId": "r"
    }
   },
   "outputs": [
    {
     "data": {
      "text/html": [
       "0.12224699832276"
      ],
      "text/latex": [
       "0.12224699832276"
      ],
      "text/markdown": [
       "0.12224699832276"
      ],
      "text/plain": [
       "[1] 0.122247"
      ]
     },
     "metadata": {},
     "output_type": "display_data"
    },
    {
     "data": {
      "text/html": [
       "-0.000850944365201417"
      ],
      "text/latex": [
       "-0.000850944365201417"
      ],
      "text/markdown": [
       "-0.000850944365201417"
      ],
      "text/plain": [
       "[1] -0.0008509444"
      ]
     },
     "metadata": {},
     "output_type": "display_data"
    },
    {
     "data": {
      "text/html": [
       "1.30033862672817"
      ],
      "text/latex": [
       "1.30033862672817"
      ],
      "text/markdown": [
       "1.30033862672817"
      ],
      "text/plain": [
       "[1] 1.300339"
      ]
     },
     "metadata": {},
     "output_type": "display_data"
    },
    {
     "data": {
      "text/html": [
       "0.000202955013563992"
      ],
      "text/latex": [
       "0.000202955013563992"
      ],
      "text/markdown": [
       "0.000202955013563992"
      ],
      "text/plain": [
       "[1] 0.000202955"
      ]
     },
     "metadata": {},
     "output_type": "display_data"
    }
   ],
   "source": [
    "mean(B_e[,1])-b_1\n",
    "mean(B_e[,2])-b_2\n",
    "var(B_e[,1])-var_b1\n",
    "var(B_e[,2])-var_b2"
   ]
  },
  {
   "cell_type": "markdown",
   "metadata": {},
   "source": [
    "como se nota, las diferencias entre los betas estimados mediante montecarlo y los betas poblacionales dados son cercanas a cero, lo que comprueba la insegades de los parametros."
   ]
  }
 ],
 "metadata": {
  "kernelspec": {
   "display_name": "R",
   "language": "R",
   "name": "ir"
  },
  "language_info": {
   "codemirror_mode": "r",
   "file_extension": ".r",
   "mimetype": "text/x-r-source",
   "name": "R",
   "pygments_lexer": "r",
   "version": "4.2.2"
  },
  "orig_nbformat": 4,
  "vscode": {
   "interpreter": {
    "hash": "aee8b7b246df8f9039afb4144a1f6fd8d2ca17a180786b69acc140d282b71a49"
   }
  }
 },
 "nbformat": 4,
 "nbformat_minor": 2
}
