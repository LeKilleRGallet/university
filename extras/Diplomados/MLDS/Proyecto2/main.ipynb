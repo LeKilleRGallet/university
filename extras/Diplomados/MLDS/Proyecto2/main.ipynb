{
 "cells": [
  {
   "cell_type": "code",
   "execution_count": 226,
   "metadata": {},
   "outputs": [],
   "source": [
    "import pandas as pd\n",
    "import numpy as np\n",
    "import matplotlib.pyplot as plt\n",
    "import seaborn as sns"
   ]
  },
  {
   "cell_type": "code",
   "execution_count": 227,
   "metadata": {},
   "outputs": [],
   "source": [
    "import warnings\n",
    "\n",
    "warnings.filterwarnings('ignore')"
   ]
  },
  {
   "attachments": {},
   "cell_type": "markdown",
   "metadata": {},
   "source": [
    "# Descripción del dataset"
   ]
  },
  {
   "attachments": {},
   "cell_type": "markdown",
   "metadata": {},
   "source": [
    "La base de datos seleccionada es \"Corporate Credit Rating with Financial Ratios\", la cual fue obtenida de Kaggle (https://www.kaggle.com/datasets/kirtandelwadia/corporate-credit-rating-with-financial-ratios). Esta base de datos proporciona información sobre las calificaciones crediticias corporativas emitidas por agencias especializadas entre 2010 y 2016, asi como diferentes resultados financieros de las empresas en el mismo periodo de tiempo."
   ]
  },
  {
   "attachments": {},
   "cell_type": "markdown",
   "metadata": {},
   "source": [
    "# Descipcion de las variables"
   ]
  },
  {
   "attachments": {},
   "cell_type": "markdown",
   "metadata": {},
   "source": [
    "la base de datos contiene 25 variables, no obstante unicamente se utilizaran las siguientes 20 variables:\n",
    "\n",
    "| Variable | Definición |\n",
    "| --- | --- |\n",
    "| Rating | Calificación crediticia emitida por la agencia de calificación. |\n",
    "| Grado de inversión | Calificación crediticia binaria que indica si la calificación es de grado de inversión o de basura. |\n",
    "| Current Ratio | Relación entre activos corrientes y pasivos corrientes. |\n",
    "| Long-term Debt / Capital | Relación entre la deuda a largo plazo y el capital total de la empresa. |\n",
    "| Debt/Equity Ratio | Relación entre la deuda total y el patrimonio de la empresa. |\n",
    "| Gross Margin | Margen bruto de la empresa (ingresos totales menos costo de ventas). |\n",
    "| Operating Margin | Margen operativo de la empresa (ingresos totales menos costos operativos). |\n",
    "| EBIT Margin | Margen EBIT (ganancias antes de intereses e impuestos). |\n",
    "| EBITDA Margin | Margen EBITDA (ganancias antes de intereses, impuestos, depreciación y amortización). |\n",
    "| Pre-Tax Profit Margin | Margen de beneficio antes de impuestos. |\n",
    "| Net Profit Margin | Margen de beneficio neto. |\n",
    "| Asset Turnover | Rotación de activos (ingresos totales divididos por activos totales). |\n",
    "| ROE - Return On Equity | Rentabilidad del patrimonio neto (beneficio neto dividido por patrimonio neto). |\n",
    "| Return On Tangible Equity | Rentabilidad del patrimonio tangible neto. |\n",
    "| ROA - Return On Assets | Rentabilidad de los activos (beneficio neto dividido por activos totales). |\n",
    "| ROI - Return On Investment | Rentabilidad de la inversión (beneficio neto dividido por la inversión total). |\n",
    "| Operating Cash Flow Per Share | Flujo de caja operativo por acción. |\n",
    "| Free Cash Flow Per Share | Flujo de caja libre por acción. |\n"
   ]
  },
  {
   "attachments": {},
   "cell_type": "markdown",
   "metadata": {},
   "source": [
    "# Problema\n",
    "El objetivo de este trabajo es simular el rol de un miembro de una empresa calificadora y desarrollar un modelo predictivo eficiente para asignar una calificación a una empresa. Para lograr esto, se buscará utilizar la menor cantidad posible de información y esfuerzo. En caso de que la empresa no alcance un grado de inversión, se pretende identificar las variables con mayor impacto y proporcionar recomendaciones para mejorar la calificación."
   ]
  },
  {
   "attachments": {},
   "cell_type": "markdown",
   "metadata": {},
   "source": [
    "# Objetivos\n",
    "## Objetivo General\n",
    "* El objetivo general de este trabajo es desarrollar un modelo capaz de identificar, con la menor cantidad posible de información financiera, a qué grupo podría pertenecer una empresa."
   ]
  },
  {
   "attachments": {},
   "cell_type": "markdown",
   "metadata": {},
   "source": [
    "## Objetivos Especificos\n",
    "* Recolectar y seleccionar los datos financieros relevantes para el modelo predictivo, considerando que la cantidad de información debe ser mínima pero suficiente para hacer una predicción acertada.\n",
    "* Realizar un análisis exploratorio de los datos recolectados para identificar patrones, tendencias y posibles relaciones entre las variables financieras y la calificación de la empresa.\n",
    "* Seleccionar y aplicar las técnicas de análisis y modelado de datos más adecuadas para construir un modelo predictivo eficiente, considerando la complejidad de los datos y la necesidad de mantener la simplicidad del modelo.\n",
    "* Evaluar la precisión y la eficiencia del modelo construido mediante la realización de pruebas y validaciones utilizando datos reales y comparando las predicciones del modelo con las calificaciones reales de las empresas.\n",
    "* Identificar las variables financieras que tienen un mayor impacto en la calificación de una empresa y elaborar recomendaciones específicas para mejorar las áreas críticas."
   ]
  },
  {
   "attachments": {},
   "cell_type": "markdown",
   "metadata": {},
   "source": [
    "# Hipotesis\n",
    "Las hipotesis que se quiere resolver son:\n",
    "\n",
    "* Existe una relación entre las variables financieras de una empresa y su calificación crediticia.\n",
    "* Algunas variables financieras tienen un mayor impacto en la calificación crediticia de una empresa que otras.\n",
    "* Un modelo predictivo puede ser construido utilizando técnicas de análisis y modelado de datos para predecir la calificación crediticia de una empresa con precisión aceptable, incluso cuando se dispone de una cantidad limitada de información financiera.\n",
    "* El modelo predictivo puede ser utilizado para identificar las áreas críticas de una empresa que necesitan mejoras para aumentar su calificación crediticia.\n",
    "* Las recomendaciones específicas proporcionadas por el modelo predictivo pueden ser útiles para las empresas en la toma de decisiones financieras y para mejorar su situación crediticia en general."
   ]
  },
  {
   "attachments": {},
   "cell_type": "markdown",
   "metadata": {},
   "source": [
    "# Análisis de los datos"
   ]
  },
  {
   "attachments": {},
   "cell_type": "markdown",
   "metadata": {},
   "source": [
    "## Carga de datos"
   ]
  },
  {
   "cell_type": "code",
   "execution_count": 228,
   "metadata": {},
   "outputs": [],
   "source": [
    "df =  pd.read_csv('CCR.csv',sep=',');\n",
    "\n",
    "df.drop(['Rating Agency', 'Corporation', 'Sector','Rating Date', 'CIK', 'SIC Code', 'Ticker'], axis=1, inplace=True)"
   ]
  },
  {
   "cell_type": "code",
   "execution_count": 229,
   "metadata": {},
   "outputs": [
    {
     "data": {
      "text/plain": [
       "Index(['Rating', 'Investment_grade', 'CR', 'LTDtC', 'DtE', 'GM', 'OM', 'EBIT',\n",
       "       'EBITDA', 'PtPM', 'NetPM', 'AT', 'ROE', 'ROTE', 'ROA', 'ROI', 'OCFpS',\n",
       "       'FCFpS'],\n",
       "      dtype='object')"
      ]
     },
     "execution_count": 229,
     "metadata": {},
     "output_type": "execute_result"
    }
   ],
   "source": [
    "new_names = {\n",
    "    'Rating': 'Rating',\n",
    "    'Binary Rating': 'Investment_grade',\n",
    "    'Current Ratio': 'CR',\n",
    "    'Long-term Debt / Capital': 'LTDtC',\n",
    "    'Debt/Equity Ratio': 'DtE',\n",
    "    'Gross Margin': 'GM',\n",
    "    'Operating Margin': 'OM',\n",
    "    'EBIT Margin': 'EBIT',\n",
    "    'EBITDA Margin': 'EBITDA',\n",
    "    'Pre-Tax Profit Margin': 'PtPM',\n",
    "    'Net Profit Margin': 'NetPM',\n",
    "    'Asset Turnover': 'AT',\n",
    "    'ROE - Return On Equity': 'ROE',\n",
    "    'Return On Tangible Equity': 'ROTE',\n",
    "    'ROA - Return On Assets': 'ROA',\n",
    "    'ROI - Return On Investment': 'ROI',\n",
    "    'Operating Cash Flow Per Share': 'OCFpS',\n",
    "    'Free Cash Flow Per Share': 'FCFpS',\n",
    "}\n",
    "\n",
    "df.rename(columns=new_names, inplace=True)\n",
    "df.columns"
   ]
  },
  {
   "cell_type": "code",
   "execution_count": 230,
   "metadata": {},
   "outputs": [
    {
     "name": "stdout",
     "output_type": "stream",
     "text": [
      "<class 'pandas.core.frame.DataFrame'>\n",
      "RangeIndex: 7805 entries, 0 to 7804\n",
      "Data columns (total 18 columns):\n",
      " #   Column            Non-Null Count  Dtype  \n",
      "---  ------            --------------  -----  \n",
      " 0   Rating            7805 non-null   object \n",
      " 1   Investment_grade  7805 non-null   int64  \n",
      " 2   CR                7805 non-null   float64\n",
      " 3   LTDtC             7805 non-null   float64\n",
      " 4   DtE               7805 non-null   float64\n",
      " 5   GM                7805 non-null   float64\n",
      " 6   OM                7805 non-null   float64\n",
      " 7   EBIT              7805 non-null   float64\n",
      " 8   EBITDA            7805 non-null   float64\n",
      " 9   PtPM              7805 non-null   float64\n",
      " 10  NetPM             7805 non-null   float64\n",
      " 11  AT                7805 non-null   float64\n",
      " 12  ROE               7805 non-null   float64\n",
      " 13  ROTE              7805 non-null   float64\n",
      " 14  ROA               7805 non-null   float64\n",
      " 15  ROI               7805 non-null   float64\n",
      " 16  OCFpS             7805 non-null   float64\n",
      " 17  FCFpS             7805 non-null   float64\n",
      "dtypes: float64(16), int64(1), object(1)\n",
      "memory usage: 1.1+ MB\n"
     ]
    }
   ],
   "source": [
    "df.info()"
   ]
  },
  {
   "attachments": {},
   "cell_type": "markdown",
   "metadata": {},
   "source": [
    "# Descripcion de los datos"
   ]
  },
  {
   "cell_type": "code",
   "execution_count": 281,
   "metadata": {},
   "outputs": [
    {
     "data": {
      "text/html": [
       "<div>\n",
       "<style scoped>\n",
       "    .dataframe tbody tr th:only-of-type {\n",
       "        vertical-align: middle;\n",
       "    }\n",
       "\n",
       "    .dataframe tbody tr th {\n",
       "        vertical-align: top;\n",
       "    }\n",
       "\n",
       "    .dataframe thead th {\n",
       "        text-align: right;\n",
       "    }\n",
       "</style>\n",
       "<table border=\"1\" class=\"dataframe\">\n",
       "  <thead>\n",
       "    <tr style=\"text-align: right;\">\n",
       "      <th></th>\n",
       "      <th>mean</th>\n",
       "      <th>std</th>\n",
       "      <th>min</th>\n",
       "      <th>25%</th>\n",
       "      <th>50%</th>\n",
       "      <th>75%</th>\n",
       "      <th>max</th>\n",
       "    </tr>\n",
       "  </thead>\n",
       "  <tbody>\n",
       "    <tr>\n",
       "      <th>CR</th>\n",
       "      <td>1.926313</td>\n",
       "      <td>1.921651</td>\n",
       "      <td>0.1749</td>\n",
       "      <td>1.0773</td>\n",
       "      <td>1.4968</td>\n",
       "      <td>2.1610</td>\n",
       "      <td>34.0768</td>\n",
       "    </tr>\n",
       "    <tr>\n",
       "      <th>LTDtC</th>\n",
       "      <td>0.452804</td>\n",
       "      <td>2.629158</td>\n",
       "      <td>-86.3636</td>\n",
       "      <td>0.2865</td>\n",
       "      <td>0.4272</td>\n",
       "      <td>0.5422</td>\n",
       "      <td>171.5000</td>\n",
       "    </tr>\n",
       "    <tr>\n",
       "      <th>DtE</th>\n",
       "      <td>0.177349</td>\n",
       "      <td>34.456334</td>\n",
       "      <td>-1473.0980</td>\n",
       "      <td>0.4197</td>\n",
       "      <td>0.7528</td>\n",
       "      <td>1.2116</td>\n",
       "      <td>194.3750</td>\n",
       "    </tr>\n",
       "    <tr>\n",
       "      <th>GM</th>\n",
       "      <td>42.433909</td>\n",
       "      <td>23.742020</td>\n",
       "      <td>-87.6840</td>\n",
       "      <td>22.4539</td>\n",
       "      <td>39.6354</td>\n",
       "      <td>59.6417</td>\n",
       "      <td>100.0000</td>\n",
       "    </tr>\n",
       "    <tr>\n",
       "      <th>OM</th>\n",
       "      <td>11.531612</td>\n",
       "      <td>25.469044</td>\n",
       "      <td>-461.7878</td>\n",
       "      <td>6.0982</td>\n",
       "      <td>12.1201</td>\n",
       "      <td>19.4646</td>\n",
       "      <td>93.9930</td>\n",
       "    </tr>\n",
       "    <tr>\n",
       "      <th>EBIT</th>\n",
       "      <td>11.582683</td>\n",
       "      <td>25.483934</td>\n",
       "      <td>-461.7878</td>\n",
       "      <td>6.1811</td>\n",
       "      <td>12.1558</td>\n",
       "      <td>19.5399</td>\n",
       "      <td>93.9930</td>\n",
       "    </tr>\n",
       "    <tr>\n",
       "      <th>EBITDA</th>\n",
       "      <td>20.071493</td>\n",
       "      <td>24.380407</td>\n",
       "      <td>-360.8169</td>\n",
       "      <td>11.1621</td>\n",
       "      <td>18.3045</td>\n",
       "      <td>30.6616</td>\n",
       "      <td>286.4935</td>\n",
       "    </tr>\n",
       "    <tr>\n",
       "      <th>PtPM</th>\n",
       "      <td>8.659944</td>\n",
       "      <td>27.866408</td>\n",
       "      <td>-476.0100</td>\n",
       "      <td>4.0087</td>\n",
       "      <td>9.7051</td>\n",
       "      <td>16.6769</td>\n",
       "      <td>221.2894</td>\n",
       "    </tr>\n",
       "    <tr>\n",
       "      <th>NetPM</th>\n",
       "      <td>5.995566</td>\n",
       "      <td>24.055577</td>\n",
       "      <td>-414.8248</td>\n",
       "      <td>2.6371</td>\n",
       "      <td>6.9389</td>\n",
       "      <td>12.3667</td>\n",
       "      <td>219.3903</td>\n",
       "    </tr>\n",
       "    <tr>\n",
       "      <th>AT</th>\n",
       "      <td>0.849843</td>\n",
       "      <td>0.696204</td>\n",
       "      <td>0.0684</td>\n",
       "      <td>0.3995</td>\n",
       "      <td>0.6612</td>\n",
       "      <td>1.0388</td>\n",
       "      <td>8.5039</td>\n",
       "    </tr>\n",
       "    <tr>\n",
       "      <th>ROE</th>\n",
       "      <td>15.950507</td>\n",
       "      <td>230.592526</td>\n",
       "      <td>-11258.2100</td>\n",
       "      <td>6.0228</td>\n",
       "      <td>12.5000</td>\n",
       "      <td>20.5157</td>\n",
       "      <td>7038.4610</td>\n",
       "    </tr>\n",
       "    <tr>\n",
       "      <th>ROTE</th>\n",
       "      <td>21.481589</td>\n",
       "      <td>462.734075</td>\n",
       "      <td>-14023.2600</td>\n",
       "      <td>-12.2339</td>\n",
       "      <td>10.5641</td>\n",
       "      <td>26.8941</td>\n",
       "      <td>9882.9790</td>\n",
       "    </tr>\n",
       "    <tr>\n",
       "      <th>ROA</th>\n",
       "      <td>4.575705</td>\n",
       "      <td>9.229899</td>\n",
       "      <td>-226.4425</td>\n",
       "      <td>2.3919</td>\n",
       "      <td>4.7675</td>\n",
       "      <td>7.8813</td>\n",
       "      <td>114.7169</td>\n",
       "    </tr>\n",
       "    <tr>\n",
       "      <th>ROI</th>\n",
       "      <td>7.076084</td>\n",
       "      <td>24.382027</td>\n",
       "      <td>-745.4545</td>\n",
       "      <td>3.6926</td>\n",
       "      <td>7.4408</td>\n",
       "      <td>12.5151</td>\n",
       "      <td>466.6667</td>\n",
       "    </tr>\n",
       "    <tr>\n",
       "      <th>OCFpS</th>\n",
       "      <td>0.479756</td>\n",
       "      <td>6.050626</td>\n",
       "      <td>-91.3302</td>\n",
       "      <td>-0.4485</td>\n",
       "      <td>0.2378</td>\n",
       "      <td>1.0888</td>\n",
       "      <td>282.1921</td>\n",
       "    </tr>\n",
       "    <tr>\n",
       "      <th>FCFpS</th>\n",
       "      <td>0.119491</td>\n",
       "      <td>7.253660</td>\n",
       "      <td>-130.6658</td>\n",
       "      <td>-0.7237</td>\n",
       "      <td>0.1335</td>\n",
       "      <td>0.9978</td>\n",
       "      <td>107.7377</td>\n",
       "    </tr>\n",
       "  </tbody>\n",
       "</table>\n",
       "</div>"
      ],
      "text/plain": [
       "             mean         std         min      25%      50%      75%   \n",
       "CR       1.926313    1.921651      0.1749   1.0773   1.4968   2.1610  \\\n",
       "LTDtC    0.452804    2.629158    -86.3636   0.2865   0.4272   0.5422   \n",
       "DtE      0.177349   34.456334  -1473.0980   0.4197   0.7528   1.2116   \n",
       "GM      42.433909   23.742020    -87.6840  22.4539  39.6354  59.6417   \n",
       "OM      11.531612   25.469044   -461.7878   6.0982  12.1201  19.4646   \n",
       "EBIT    11.582683   25.483934   -461.7878   6.1811  12.1558  19.5399   \n",
       "EBITDA  20.071493   24.380407   -360.8169  11.1621  18.3045  30.6616   \n",
       "PtPM     8.659944   27.866408   -476.0100   4.0087   9.7051  16.6769   \n",
       "NetPM    5.995566   24.055577   -414.8248   2.6371   6.9389  12.3667   \n",
       "AT       0.849843    0.696204      0.0684   0.3995   0.6612   1.0388   \n",
       "ROE     15.950507  230.592526 -11258.2100   6.0228  12.5000  20.5157   \n",
       "ROTE    21.481589  462.734075 -14023.2600 -12.2339  10.5641  26.8941   \n",
       "ROA      4.575705    9.229899   -226.4425   2.3919   4.7675   7.8813   \n",
       "ROI      7.076084   24.382027   -745.4545   3.6926   7.4408  12.5151   \n",
       "OCFpS    0.479756    6.050626    -91.3302  -0.4485   0.2378   1.0888   \n",
       "FCFpS    0.119491    7.253660   -130.6658  -0.7237   0.1335   0.9978   \n",
       "\n",
       "              max  \n",
       "CR        34.0768  \n",
       "LTDtC    171.5000  \n",
       "DtE      194.3750  \n",
       "GM       100.0000  \n",
       "OM        93.9930  \n",
       "EBIT      93.9930  \n",
       "EBITDA   286.4935  \n",
       "PtPM     221.2894  \n",
       "NetPM    219.3903  \n",
       "AT         8.5039  \n",
       "ROE     7038.4610  \n",
       "ROTE    9882.9790  \n",
       "ROA      114.7169  \n",
       "ROI      466.6667  \n",
       "OCFpS    282.1921  \n",
       "FCFpS    107.7377  "
      ]
     },
     "execution_count": 281,
     "metadata": {},
     "output_type": "execute_result"
    }
   ],
   "source": [
    "df.drop(['Rating', 'Investment_grade'], axis=1).describe()[1:].T"
   ]
  },
  {
   "attachments": {},
   "cell_type": "markdown",
   "metadata": {},
   "source": [
    "# Preprocesamiento de Datos."
   ]
  },
  {
   "cell_type": "code",
   "execution_count": 231,
   "metadata": {},
   "outputs": [],
   "source": [
    "rating_dict = {'AAA': 21, 'AA+': 20, 'AA': 19, 'AA-': 18, 'A+': 17, 'A': 16, 'A-': 15,\n",
    "               'BBB+': 14, 'BBB': 13, 'BBB-': 12, 'BB+': 11, 'BB': 10, 'BB-': 9,\n",
    "               'B+': 8, 'B': 7, 'B-': 6, 'CCC+': 5, 'CCC': 4, 'CCC-': 3, 'CC': 2, 'CC+': 2,\n",
    "               'C': 1, 'D': 0}\n",
    "\n",
    "df['Rating'] = df['Rating'].map(rating_dict)"
   ]
  },
  {
   "cell_type": "code",
   "execution_count": 232,
   "metadata": {},
   "outputs": [],
   "source": [
    "X = df.drop(['Rating', 'Investment_grade'], axis=1).copy().values\n",
    "yR = df['Rating'].copy().values\n",
    "yI = df['Investment_grade'].copy().values\n",
    "X_label = df.drop(['Rating', 'Investment_grade'], axis=1).columns"
   ]
  },
  {
   "attachments": {},
   "cell_type": "markdown",
   "metadata": {},
   "source": [
    "## Escalamiento de datos"
   ]
  },
  {
   "cell_type": "code",
   "execution_count": 233,
   "metadata": {},
   "outputs": [],
   "source": [
    "from sklearn.preprocessing import StandardScaler\n",
    "\n",
    "scaler = StandardScaler()\n",
    "X = scaler.fit_transform(X)"
   ]
  },
  {
   "attachments": {},
   "cell_type": "markdown",
   "metadata": {},
   "source": [
    "## disminucion de la dimensionalidad"
   ]
  },
  {
   "cell_type": "code",
   "execution_count": 234,
   "metadata": {},
   "outputs": [
    {
     "data": {
      "text/plain": [
       "array([0.35146277, 0.45636157, 0.54795216, 0.63400083, 0.70209944,\n",
       "       0.76652043, 0.82781884, 0.88164978, 0.9152053 , 0.94679648,\n",
       "       0.97113159, 0.98600138, 0.99451514, 0.99812996, 0.99998154,\n",
       "       1.        ])"
      ]
     },
     "execution_count": 234,
     "metadata": {},
     "output_type": "execute_result"
    }
   ],
   "source": [
    "from sklearn.decomposition import PCA\n",
    "\n",
    "pca = PCA(n_components=None)\n",
    "pca.fit_transform(X)\n",
    "X_pca = pca.transform(X)\n",
    "pca.explained_variance_ratio_.cumsum()"
   ]
  },
  {
   "attachments": {},
   "cell_type": "markdown",
   "metadata": {},
   "source": [
    "vemos que con 5 caracteristicas ya tenemos mas del 70% de la varianza de los datos, por lo que reduciremos las caracteristicas a esta cantidad."
   ]
  },
  {
   "cell_type": "code",
   "execution_count": 235,
   "metadata": {},
   "outputs": [],
   "source": [
    "X = X_pca[:, :5]"
   ]
  },
  {
   "attachments": {},
   "cell_type": "markdown",
   "metadata": {},
   "source": [
    "## Division de los datos"
   ]
  },
  {
   "cell_type": "code",
   "execution_count": 236,
   "metadata": {},
   "outputs": [],
   "source": [
    "from sklearn.model_selection import train_test_split\n",
    "\n",
    "X_train, X_test, yR_train, yR_test, yI_train, yI_test = train_test_split(X, yR, yI, stratify=yI, test_size=0.3)"
   ]
  },
  {
   "cell_type": "code",
   "execution_count": 263,
   "metadata": {},
   "outputs": [
    {
     "name": "stdout",
     "output_type": "stream",
     "text": [
      "[1894 3569]\n",
      "[ 812 1530]\n"
     ]
    }
   ],
   "source": [
    "print(np.bincount(yI_train))\n",
    "print(np.bincount(yI_test))"
   ]
  },
  {
   "attachments": {},
   "cell_type": "markdown",
   "metadata": {},
   "source": [
    "# Procesamiento de datos"
   ]
  },
  {
   "attachments": {},
   "cell_type": "markdown",
   "metadata": {},
   "source": [
    "## Modelo 1 Regresion Lineal"
   ]
  },
  {
   "cell_type": "code",
   "execution_count": 238,
   "metadata": {},
   "outputs": [
    {
     "name": "stdout",
     "output_type": "stream",
     "text": [
      "Fitting 5 folds for each of 24 candidates, totalling 120 fits\n"
     ]
    }
   ],
   "source": [
    "from sklearn.model_selection import GridSearchCV\n",
    "from sklearn.linear_model import LinearRegression\n",
    "\n",
    "param_grid = {\n",
    "    'fit_intercept': [True, False],\n",
    "    'copy_X': [True, False],\n",
    "    'n_jobs': [-1, 1, 2],\n",
    "    'positive': [True, False]\n",
    "}\n",
    "\n",
    "grid_LR = GridSearchCV(LinearRegression(),\n",
    "                       param_grid=param_grid,\n",
    "                       verbose=1,\n",
    "                       return_train_score=True)\n",
    "\n",
    "grid_LR.fit(X_train, yI_train);"
   ]
  },
  {
   "cell_type": "code",
   "execution_count": 239,
   "metadata": {},
   "outputs": [
    {
     "name": "stdout",
     "output_type": "stream",
     "text": [
      "{'copy_X': True, 'fit_intercept': True, 'n_jobs': -1, 'positive': False}\n",
      "0.045441527366487544\n",
      "Mean Squared Error (MSE): 0.21396952022575286\n",
      "R^2 Score: 0.055334109649758156\n"
     ]
    }
   ],
   "source": [
    "from sklearn.metrics import accuracy_score\n",
    "from sklearn.metrics import mean_squared_error, r2_score\n",
    "\n",
    "print(grid_LR.best_params_)\n",
    "print(grid_LR.best_score_)\n",
    "print(\"Mean Squared Error (MSE):\", mean_squared_error(yI_test, grid_LR.predict(X_test)))\n",
    "print(\"R^2 Score:\", r2_score(yI_test, grid_LR.predict(X_test)))"
   ]
  },
  {
   "attachments": {},
   "cell_type": "markdown",
   "metadata": {},
   "source": [
    "## Modelo 2 Regresion logistica"
   ]
  },
  {
   "cell_type": "code",
   "execution_count": 240,
   "metadata": {},
   "outputs": [
    {
     "name": "stdout",
     "output_type": "stream",
     "text": [
      "Fitting 5 folds for each of 24 candidates, totalling 120 fits\n"
     ]
    }
   ],
   "source": [
    "from sklearn.linear_model import LogisticRegression\n",
    "\n",
    "param_grid = {'C': [2**i for i in range(-5, 7, 2)],\n",
    "              'penalty': ['l1', 'l2'],\n",
    "              'solver': ['liblinear', 'saga']}\n",
    "\n",
    "grid_LogR = GridSearchCV(LogisticRegression(),\n",
    "                       param_grid=param_grid,\n",
    "                       verbose=1,\n",
    "                       return_train_score=True)\n",
    "\n",
    "grid_LogR.fit(X_train, yI_train);"
   ]
  },
  {
   "cell_type": "code",
   "execution_count": 241,
   "metadata": {},
   "outputs": [
    {
     "name": "stdout",
     "output_type": "stream",
     "text": [
      "{'C': 2, 'penalty': 'l1', 'solver': 'liblinear'}\n",
      "0.695038691104565\n",
      "0.6964133219470539\n"
     ]
    }
   ],
   "source": [
    "print(grid_LogR.best_params_)\n",
    "print(grid_LogR.best_score_)\n",
    "print(accuracy_score(yI_test, grid_LogR.predict(X_test)))"
   ]
  },
  {
   "cell_type": "code",
   "execution_count": 290,
   "metadata": {},
   "outputs": [
    {
     "data": {
      "text/html": [
       "<div>\n",
       "<style scoped>\n",
       "    .dataframe tbody tr th:only-of-type {\n",
       "        vertical-align: middle;\n",
       "    }\n",
       "\n",
       "    .dataframe tbody tr th {\n",
       "        vertical-align: top;\n",
       "    }\n",
       "\n",
       "    .dataframe thead th {\n",
       "        text-align: right;\n",
       "    }\n",
       "</style>\n",
       "<table border=\"1\" class=\"dataframe\">\n",
       "  <thead>\n",
       "    <tr style=\"text-align: right;\">\n",
       "      <th></th>\n",
       "      <th>GE</th>\n",
       "      <th>GI</th>\n",
       "    </tr>\n",
       "  </thead>\n",
       "  <tbody>\n",
       "    <tr>\n",
       "      <th>GE</th>\n",
       "      <td>148</td>\n",
       "      <td>664</td>\n",
       "    </tr>\n",
       "    <tr>\n",
       "      <th>GI</th>\n",
       "      <td>47</td>\n",
       "      <td>1483</td>\n",
       "    </tr>\n",
       "  </tbody>\n",
       "</table>\n",
       "</div>"
      ],
      "text/plain": [
       "     GE    GI\n",
       "GE  148   664\n",
       "GI   47  1483"
      ]
     },
     "execution_count": 290,
     "metadata": {},
     "output_type": "execute_result"
    }
   ],
   "source": [
    "from sklearn.metrics import confusion_matrix\n",
    "\n",
    "confusion_mat = confusion_matrix(yI_test, grid_LogR.predict(X_test))\n",
    "confusion_df = pd.DataFrame(confusion_mat, index=['GE', 'GI'], columns=['GE', 'GI'])\n",
    "confusion_df"
   ]
  },
  {
   "attachments": {},
   "cell_type": "markdown",
   "metadata": {},
   "source": [
    "## Modelo 3: Random Forest"
   ]
  },
  {
   "cell_type": "code",
   "execution_count": 243,
   "metadata": {},
   "outputs": [
    {
     "name": "stdout",
     "output_type": "stream",
     "text": [
      "Fitting 5 folds for each of 1 candidates, totalling 5 fits\n"
     ]
    },
    {
     "data": {
      "text/html": [
       "<style>#sk-container-id-25 {color: black;background-color: white;}#sk-container-id-25 pre{padding: 0;}#sk-container-id-25 div.sk-toggleable {background-color: white;}#sk-container-id-25 label.sk-toggleable__label {cursor: pointer;display: block;width: 100%;margin-bottom: 0;padding: 0.3em;box-sizing: border-box;text-align: center;}#sk-container-id-25 label.sk-toggleable__label-arrow:before {content: \"▸\";float: left;margin-right: 0.25em;color: #696969;}#sk-container-id-25 label.sk-toggleable__label-arrow:hover:before {color: black;}#sk-container-id-25 div.sk-estimator:hover label.sk-toggleable__label-arrow:before {color: black;}#sk-container-id-25 div.sk-toggleable__content {max-height: 0;max-width: 0;overflow: hidden;text-align: left;background-color: #f0f8ff;}#sk-container-id-25 div.sk-toggleable__content pre {margin: 0.2em;color: black;border-radius: 0.25em;background-color: #f0f8ff;}#sk-container-id-25 input.sk-toggleable__control:checked~div.sk-toggleable__content {max-height: 200px;max-width: 100%;overflow: auto;}#sk-container-id-25 input.sk-toggleable__control:checked~label.sk-toggleable__label-arrow:before {content: \"▾\";}#sk-container-id-25 div.sk-estimator input.sk-toggleable__control:checked~label.sk-toggleable__label {background-color: #d4ebff;}#sk-container-id-25 div.sk-label input.sk-toggleable__control:checked~label.sk-toggleable__label {background-color: #d4ebff;}#sk-container-id-25 input.sk-hidden--visually {border: 0;clip: rect(1px 1px 1px 1px);clip: rect(1px, 1px, 1px, 1px);height: 1px;margin: -1px;overflow: hidden;padding: 0;position: absolute;width: 1px;}#sk-container-id-25 div.sk-estimator {font-family: monospace;background-color: #f0f8ff;border: 1px dotted black;border-radius: 0.25em;box-sizing: border-box;margin-bottom: 0.5em;}#sk-container-id-25 div.sk-estimator:hover {background-color: #d4ebff;}#sk-container-id-25 div.sk-parallel-item::after {content: \"\";width: 100%;border-bottom: 1px solid gray;flex-grow: 1;}#sk-container-id-25 div.sk-label:hover label.sk-toggleable__label {background-color: #d4ebff;}#sk-container-id-25 div.sk-serial::before {content: \"\";position: absolute;border-left: 1px solid gray;box-sizing: border-box;top: 0;bottom: 0;left: 50%;z-index: 0;}#sk-container-id-25 div.sk-serial {display: flex;flex-direction: column;align-items: center;background-color: white;padding-right: 0.2em;padding-left: 0.2em;position: relative;}#sk-container-id-25 div.sk-item {position: relative;z-index: 1;}#sk-container-id-25 div.sk-parallel {display: flex;align-items: stretch;justify-content: center;background-color: white;position: relative;}#sk-container-id-25 div.sk-item::before, #sk-container-id-25 div.sk-parallel-item::before {content: \"\";position: absolute;border-left: 1px solid gray;box-sizing: border-box;top: 0;bottom: 0;left: 50%;z-index: -1;}#sk-container-id-25 div.sk-parallel-item {display: flex;flex-direction: column;z-index: 1;position: relative;background-color: white;}#sk-container-id-25 div.sk-parallel-item:first-child::after {align-self: flex-end;width: 50%;}#sk-container-id-25 div.sk-parallel-item:last-child::after {align-self: flex-start;width: 50%;}#sk-container-id-25 div.sk-parallel-item:only-child::after {width: 0;}#sk-container-id-25 div.sk-dashed-wrapped {border: 1px dashed gray;margin: 0 0.4em 0.5em 0.4em;box-sizing: border-box;padding-bottom: 0.4em;background-color: white;}#sk-container-id-25 div.sk-label label {font-family: monospace;font-weight: bold;display: inline-block;line-height: 1.2em;}#sk-container-id-25 div.sk-label-container {text-align: center;}#sk-container-id-25 div.sk-container {/* jupyter's `normalize.less` sets `[hidden] { display: none; }` but bootstrap.min.css set `[hidden] { display: none !important; }` so we also need the `!important` here to be able to override the default hidden behavior on the sphinx rendered scikit-learn.org. See: https://github.com/scikit-learn/scikit-learn/issues/21755 */display: inline-block !important;position: relative;}#sk-container-id-25 div.sk-text-repr-fallback {display: none;}</style><div id=\"sk-container-id-25\" class=\"sk-top-container\"><div class=\"sk-text-repr-fallback\"><pre>GridSearchCV(estimator=RandomForestClassifier(),\n",
       "             param_grid={&#x27;max_depth&#x27;: [20], &#x27;min_samples_leaf&#x27;: [1],\n",
       "                         &#x27;min_samples_split&#x27;: [2], &#x27;n_estimators&#x27;: [500]},\n",
       "             return_train_score=True, verbose=1)</pre><b>In a Jupyter environment, please rerun this cell to show the HTML representation or trust the notebook. <br />On GitHub, the HTML representation is unable to render, please try loading this page with nbviewer.org.</b></div><div class=\"sk-container\" hidden><div class=\"sk-item sk-dashed-wrapped\"><div class=\"sk-label-container\"><div class=\"sk-label sk-toggleable\"><input class=\"sk-toggleable__control sk-hidden--visually\" id=\"sk-estimator-id-73\" type=\"checkbox\" ><label for=\"sk-estimator-id-73\" class=\"sk-toggleable__label sk-toggleable__label-arrow\">GridSearchCV</label><div class=\"sk-toggleable__content\"><pre>GridSearchCV(estimator=RandomForestClassifier(),\n",
       "             param_grid={&#x27;max_depth&#x27;: [20], &#x27;min_samples_leaf&#x27;: [1],\n",
       "                         &#x27;min_samples_split&#x27;: [2], &#x27;n_estimators&#x27;: [500]},\n",
       "             return_train_score=True, verbose=1)</pre></div></div></div><div class=\"sk-parallel\"><div class=\"sk-parallel-item\"><div class=\"sk-item\"><div class=\"sk-label-container\"><div class=\"sk-label sk-toggleable\"><input class=\"sk-toggleable__control sk-hidden--visually\" id=\"sk-estimator-id-74\" type=\"checkbox\" ><label for=\"sk-estimator-id-74\" class=\"sk-toggleable__label sk-toggleable__label-arrow\">estimator: RandomForestClassifier</label><div class=\"sk-toggleable__content\"><pre>RandomForestClassifier()</pre></div></div></div><div class=\"sk-serial\"><div class=\"sk-item\"><div class=\"sk-estimator sk-toggleable\"><input class=\"sk-toggleable__control sk-hidden--visually\" id=\"sk-estimator-id-75\" type=\"checkbox\" ><label for=\"sk-estimator-id-75\" class=\"sk-toggleable__label sk-toggleable__label-arrow\">RandomForestClassifier</label><div class=\"sk-toggleable__content\"><pre>RandomForestClassifier()</pre></div></div></div></div></div></div></div></div></div></div>"
      ],
      "text/plain": [
       "GridSearchCV(estimator=RandomForestClassifier(),\n",
       "             param_grid={'max_depth': [20], 'min_samples_leaf': [1],\n",
       "                         'min_samples_split': [2], 'n_estimators': [500]},\n",
       "             return_train_score=True, verbose=1)"
      ]
     },
     "execution_count": 243,
     "metadata": {},
     "output_type": "execute_result"
    }
   ],
   "source": [
    "from sklearn.ensemble import RandomForestClassifier\n",
    "param_grid = {\n",
    "    'n_estimators': [500],  # Número de árboles en el bosque\n",
    "    'max_depth': [20],  # Profundidad máxima de cada árbol\n",
    "    'min_samples_split': [2],  # Número mínimo de muestras requeridas para dividir un nodo interno\n",
    "    'min_samples_leaf': [1]  # Número mínimo de muestras requeridas en cada hoja del árbol\n",
    "}\n",
    "\n",
    "grid_RF = GridSearchCV(RandomForestClassifier(),\n",
    "                       param_grid=param_grid,\n",
    "                       verbose=1,\n",
    "                       return_train_score=True)\n",
    "\n",
    "grid_RF.fit(X_train, yI_train)"
   ]
  },
  {
   "cell_type": "code",
   "execution_count": 244,
   "metadata": {},
   "outputs": [
    {
     "name": "stdout",
     "output_type": "stream",
     "text": [
      "{'max_depth': 20, 'min_samples_leaf': 1, 'min_samples_split': 2, 'n_estimators': 500}\n",
      "0.8801009755721558\n",
      "0.8932536293766012\n"
     ]
    }
   ],
   "source": [
    "print(grid_RF.best_params_)\n",
    "print(grid_RF.best_score_)\n",
    "print(accuracy_score(yI_test, grid_RF.predict(X_test)))"
   ]
  },
  {
   "cell_type": "code",
   "execution_count": 272,
   "metadata": {},
   "outputs": [
    {
     "data": {
      "text/html": [
       "<div>\n",
       "<style scoped>\n",
       "    .dataframe tbody tr th:only-of-type {\n",
       "        vertical-align: middle;\n",
       "    }\n",
       "\n",
       "    .dataframe tbody tr th {\n",
       "        vertical-align: top;\n",
       "    }\n",
       "\n",
       "    .dataframe thead th {\n",
       "        text-align: right;\n",
       "    }\n",
       "</style>\n",
       "<table border=\"1\" class=\"dataframe\">\n",
       "  <thead>\n",
       "    <tr style=\"text-align: right;\">\n",
       "      <th></th>\n",
       "      <th>GE</th>\n",
       "      <th>GI</th>\n",
       "    </tr>\n",
       "  </thead>\n",
       "  <tbody>\n",
       "    <tr>\n",
       "      <th>GE</th>\n",
       "      <td>667</td>\n",
       "      <td>145</td>\n",
       "    </tr>\n",
       "    <tr>\n",
       "      <th>GI</th>\n",
       "      <td>105</td>\n",
       "      <td>1425</td>\n",
       "    </tr>\n",
       "  </tbody>\n",
       "</table>\n",
       "</div>"
      ],
      "text/plain": [
       "     GE    GI\n",
       "GE  667   145\n",
       "GI  105  1425"
      ]
     },
     "execution_count": 272,
     "metadata": {},
     "output_type": "execute_result"
    }
   ],
   "source": [
    "confusion_mat = confusion_matrix(yI_test, grid_RF.predict(X_test))\n",
    "confusion_df = pd.DataFrame(confusion_mat, index=['GE', 'GI'], columns=['GE', 'GI'])\n",
    "confusion_df"
   ]
  },
  {
   "attachments": {},
   "cell_type": "markdown",
   "metadata": {},
   "source": [
    "## Modelo 4: SVG Lineal"
   ]
  },
  {
   "cell_type": "code",
   "execution_count": 246,
   "metadata": {},
   "outputs": [
    {
     "name": "stdout",
     "output_type": "stream",
     "text": [
      "Fitting 5 folds for each of 36 candidates, totalling 180 fits\n"
     ]
    },
    {
     "data": {
      "text/html": [
       "<style>#sk-container-id-26 {color: black;background-color: white;}#sk-container-id-26 pre{padding: 0;}#sk-container-id-26 div.sk-toggleable {background-color: white;}#sk-container-id-26 label.sk-toggleable__label {cursor: pointer;display: block;width: 100%;margin-bottom: 0;padding: 0.3em;box-sizing: border-box;text-align: center;}#sk-container-id-26 label.sk-toggleable__label-arrow:before {content: \"▸\";float: left;margin-right: 0.25em;color: #696969;}#sk-container-id-26 label.sk-toggleable__label-arrow:hover:before {color: black;}#sk-container-id-26 div.sk-estimator:hover label.sk-toggleable__label-arrow:before {color: black;}#sk-container-id-26 div.sk-toggleable__content {max-height: 0;max-width: 0;overflow: hidden;text-align: left;background-color: #f0f8ff;}#sk-container-id-26 div.sk-toggleable__content pre {margin: 0.2em;color: black;border-radius: 0.25em;background-color: #f0f8ff;}#sk-container-id-26 input.sk-toggleable__control:checked~div.sk-toggleable__content {max-height: 200px;max-width: 100%;overflow: auto;}#sk-container-id-26 input.sk-toggleable__control:checked~label.sk-toggleable__label-arrow:before {content: \"▾\";}#sk-container-id-26 div.sk-estimator input.sk-toggleable__control:checked~label.sk-toggleable__label {background-color: #d4ebff;}#sk-container-id-26 div.sk-label input.sk-toggleable__control:checked~label.sk-toggleable__label {background-color: #d4ebff;}#sk-container-id-26 input.sk-hidden--visually {border: 0;clip: rect(1px 1px 1px 1px);clip: rect(1px, 1px, 1px, 1px);height: 1px;margin: -1px;overflow: hidden;padding: 0;position: absolute;width: 1px;}#sk-container-id-26 div.sk-estimator {font-family: monospace;background-color: #f0f8ff;border: 1px dotted black;border-radius: 0.25em;box-sizing: border-box;margin-bottom: 0.5em;}#sk-container-id-26 div.sk-estimator:hover {background-color: #d4ebff;}#sk-container-id-26 div.sk-parallel-item::after {content: \"\";width: 100%;border-bottom: 1px solid gray;flex-grow: 1;}#sk-container-id-26 div.sk-label:hover label.sk-toggleable__label {background-color: #d4ebff;}#sk-container-id-26 div.sk-serial::before {content: \"\";position: absolute;border-left: 1px solid gray;box-sizing: border-box;top: 0;bottom: 0;left: 50%;z-index: 0;}#sk-container-id-26 div.sk-serial {display: flex;flex-direction: column;align-items: center;background-color: white;padding-right: 0.2em;padding-left: 0.2em;position: relative;}#sk-container-id-26 div.sk-item {position: relative;z-index: 1;}#sk-container-id-26 div.sk-parallel {display: flex;align-items: stretch;justify-content: center;background-color: white;position: relative;}#sk-container-id-26 div.sk-item::before, #sk-container-id-26 div.sk-parallel-item::before {content: \"\";position: absolute;border-left: 1px solid gray;box-sizing: border-box;top: 0;bottom: 0;left: 50%;z-index: -1;}#sk-container-id-26 div.sk-parallel-item {display: flex;flex-direction: column;z-index: 1;position: relative;background-color: white;}#sk-container-id-26 div.sk-parallel-item:first-child::after {align-self: flex-end;width: 50%;}#sk-container-id-26 div.sk-parallel-item:last-child::after {align-self: flex-start;width: 50%;}#sk-container-id-26 div.sk-parallel-item:only-child::after {width: 0;}#sk-container-id-26 div.sk-dashed-wrapped {border: 1px dashed gray;margin: 0 0.4em 0.5em 0.4em;box-sizing: border-box;padding-bottom: 0.4em;background-color: white;}#sk-container-id-26 div.sk-label label {font-family: monospace;font-weight: bold;display: inline-block;line-height: 1.2em;}#sk-container-id-26 div.sk-label-container {text-align: center;}#sk-container-id-26 div.sk-container {/* jupyter's `normalize.less` sets `[hidden] { display: none; }` but bootstrap.min.css set `[hidden] { display: none !important; }` so we also need the `!important` here to be able to override the default hidden behavior on the sphinx rendered scikit-learn.org. See: https://github.com/scikit-learn/scikit-learn/issues/21755 */display: inline-block !important;position: relative;}#sk-container-id-26 div.sk-text-repr-fallback {display: none;}</style><div id=\"sk-container-id-26\" class=\"sk-top-container\"><div class=\"sk-text-repr-fallback\"><pre>GridSearchCV(estimator=SVC(kernel=&#x27;linear&#x27;),\n",
       "             param_grid={&#x27;C&#x27;: [0.03125, 0.125, 0.5, 2, 8, 32],\n",
       "                         &#x27;gamma&#x27;: [0.03125, 0.125, 0.5, 2, 8, 32]},\n",
       "             return_train_score=True, verbose=1)</pre><b>In a Jupyter environment, please rerun this cell to show the HTML representation or trust the notebook. <br />On GitHub, the HTML representation is unable to render, please try loading this page with nbviewer.org.</b></div><div class=\"sk-container\" hidden><div class=\"sk-item sk-dashed-wrapped\"><div class=\"sk-label-container\"><div class=\"sk-label sk-toggleable\"><input class=\"sk-toggleable__control sk-hidden--visually\" id=\"sk-estimator-id-76\" type=\"checkbox\" ><label for=\"sk-estimator-id-76\" class=\"sk-toggleable__label sk-toggleable__label-arrow\">GridSearchCV</label><div class=\"sk-toggleable__content\"><pre>GridSearchCV(estimator=SVC(kernel=&#x27;linear&#x27;),\n",
       "             param_grid={&#x27;C&#x27;: [0.03125, 0.125, 0.5, 2, 8, 32],\n",
       "                         &#x27;gamma&#x27;: [0.03125, 0.125, 0.5, 2, 8, 32]},\n",
       "             return_train_score=True, verbose=1)</pre></div></div></div><div class=\"sk-parallel\"><div class=\"sk-parallel-item\"><div class=\"sk-item\"><div class=\"sk-label-container\"><div class=\"sk-label sk-toggleable\"><input class=\"sk-toggleable__control sk-hidden--visually\" id=\"sk-estimator-id-77\" type=\"checkbox\" ><label for=\"sk-estimator-id-77\" class=\"sk-toggleable__label sk-toggleable__label-arrow\">estimator: SVC</label><div class=\"sk-toggleable__content\"><pre>SVC(kernel=&#x27;linear&#x27;)</pre></div></div></div><div class=\"sk-serial\"><div class=\"sk-item\"><div class=\"sk-estimator sk-toggleable\"><input class=\"sk-toggleable__control sk-hidden--visually\" id=\"sk-estimator-id-78\" type=\"checkbox\" ><label for=\"sk-estimator-id-78\" class=\"sk-toggleable__label sk-toggleable__label-arrow\">SVC</label><div class=\"sk-toggleable__content\"><pre>SVC(kernel=&#x27;linear&#x27;)</pre></div></div></div></div></div></div></div></div></div></div>"
      ],
      "text/plain": [
       "GridSearchCV(estimator=SVC(kernel='linear'),\n",
       "             param_grid={'C': [0.03125, 0.125, 0.5, 2, 8, 32],\n",
       "                         'gamma': [0.03125, 0.125, 0.5, 2, 8, 32]},\n",
       "             return_train_score=True, verbose=1)"
      ]
     },
     "execution_count": 246,
     "metadata": {},
     "output_type": "execute_result"
    }
   ],
   "source": [
    "from sklearn.model_selection import GridSearchCV\n",
    "\n",
    "param_grid = {'C': [2**i for i in range(-5, 7, 2)],\n",
    "              'gamma': [2**i for i in range(-5, 7, 2)]}\n",
    "\n",
    "grid_SVCL = GridSearchCV(SVC(kernel='linear'),\n",
    "                        param_grid=param_grid,\n",
    "                        verbose=1,\n",
    "                        return_train_score=True)\n",
    "\n",
    "grid_SVCL.fit(X_train, yI_train)"
   ]
  },
  {
   "cell_type": "code",
   "execution_count": 247,
   "metadata": {},
   "outputs": [
    {
     "name": "stdout",
     "output_type": "stream",
     "text": [
      "{'C': 0.125, 'gamma': 0.03125}\n",
      "0.6644705401338521\n",
      "0.6669513236549958\n"
     ]
    }
   ],
   "source": [
    "from sklearn.metrics import accuracy_score\n",
    "\n",
    "print(grid_SVCL.best_params_)\n",
    "print(grid_SVCL.best_score_)\n",
    "print(accuracy_score(yI_test, grid_SVCL.predict(X_test)))"
   ]
  },
  {
   "cell_type": "code",
   "execution_count": 248,
   "metadata": {},
   "outputs": [
    {
     "data": {
      "text/html": [
       "<div>\n",
       "<style scoped>\n",
       "    .dataframe tbody tr th:only-of-type {\n",
       "        vertical-align: middle;\n",
       "    }\n",
       "\n",
       "    .dataframe tbody tr th {\n",
       "        vertical-align: top;\n",
       "    }\n",
       "\n",
       "    .dataframe thead th {\n",
       "        text-align: right;\n",
       "    }\n",
       "</style>\n",
       "<table border=\"1\" class=\"dataframe\">\n",
       "  <thead>\n",
       "    <tr style=\"text-align: right;\">\n",
       "      <th></th>\n",
       "      <th>GE</th>\n",
       "      <th>GI</th>\n",
       "    </tr>\n",
       "  </thead>\n",
       "  <tbody>\n",
       "    <tr>\n",
       "      <th>GE</th>\n",
       "      <td>46</td>\n",
       "      <td>766</td>\n",
       "    </tr>\n",
       "    <tr>\n",
       "      <th>GI</th>\n",
       "      <td>14</td>\n",
       "      <td>1516</td>\n",
       "    </tr>\n",
       "  </tbody>\n",
       "</table>\n",
       "</div>"
      ],
      "text/plain": [
       "    GE    GI\n",
       "GE  46   766\n",
       "GI  14  1516"
      ]
     },
     "execution_count": 248,
     "metadata": {},
     "output_type": "execute_result"
    }
   ],
   "source": [
    "confusion_mat = confusion_matrix(yI_test, grid_SVCL.predict(X_test))\n",
    "confusion_df = pd.DataFrame(confusion_mat, index=['GE', 'GI'], columns=['GE', 'GI'])\n",
    "confusion_df"
   ]
  },
  {
   "attachments": {},
   "cell_type": "markdown",
   "metadata": {},
   "source": [
    "# Modelo 5: KNN"
   ]
  },
  {
   "cell_type": "code",
   "execution_count": 249,
   "metadata": {},
   "outputs": [
    {
     "data": {
      "text/html": [
       "<style>#sk-container-id-27 {color: black;background-color: white;}#sk-container-id-27 pre{padding: 0;}#sk-container-id-27 div.sk-toggleable {background-color: white;}#sk-container-id-27 label.sk-toggleable__label {cursor: pointer;display: block;width: 100%;margin-bottom: 0;padding: 0.3em;box-sizing: border-box;text-align: center;}#sk-container-id-27 label.sk-toggleable__label-arrow:before {content: \"▸\";float: left;margin-right: 0.25em;color: #696969;}#sk-container-id-27 label.sk-toggleable__label-arrow:hover:before {color: black;}#sk-container-id-27 div.sk-estimator:hover label.sk-toggleable__label-arrow:before {color: black;}#sk-container-id-27 div.sk-toggleable__content {max-height: 0;max-width: 0;overflow: hidden;text-align: left;background-color: #f0f8ff;}#sk-container-id-27 div.sk-toggleable__content pre {margin: 0.2em;color: black;border-radius: 0.25em;background-color: #f0f8ff;}#sk-container-id-27 input.sk-toggleable__control:checked~div.sk-toggleable__content {max-height: 200px;max-width: 100%;overflow: auto;}#sk-container-id-27 input.sk-toggleable__control:checked~label.sk-toggleable__label-arrow:before {content: \"▾\";}#sk-container-id-27 div.sk-estimator input.sk-toggleable__control:checked~label.sk-toggleable__label {background-color: #d4ebff;}#sk-container-id-27 div.sk-label input.sk-toggleable__control:checked~label.sk-toggleable__label {background-color: #d4ebff;}#sk-container-id-27 input.sk-hidden--visually {border: 0;clip: rect(1px 1px 1px 1px);clip: rect(1px, 1px, 1px, 1px);height: 1px;margin: -1px;overflow: hidden;padding: 0;position: absolute;width: 1px;}#sk-container-id-27 div.sk-estimator {font-family: monospace;background-color: #f0f8ff;border: 1px dotted black;border-radius: 0.25em;box-sizing: border-box;margin-bottom: 0.5em;}#sk-container-id-27 div.sk-estimator:hover {background-color: #d4ebff;}#sk-container-id-27 div.sk-parallel-item::after {content: \"\";width: 100%;border-bottom: 1px solid gray;flex-grow: 1;}#sk-container-id-27 div.sk-label:hover label.sk-toggleable__label {background-color: #d4ebff;}#sk-container-id-27 div.sk-serial::before {content: \"\";position: absolute;border-left: 1px solid gray;box-sizing: border-box;top: 0;bottom: 0;left: 50%;z-index: 0;}#sk-container-id-27 div.sk-serial {display: flex;flex-direction: column;align-items: center;background-color: white;padding-right: 0.2em;padding-left: 0.2em;position: relative;}#sk-container-id-27 div.sk-item {position: relative;z-index: 1;}#sk-container-id-27 div.sk-parallel {display: flex;align-items: stretch;justify-content: center;background-color: white;position: relative;}#sk-container-id-27 div.sk-item::before, #sk-container-id-27 div.sk-parallel-item::before {content: \"\";position: absolute;border-left: 1px solid gray;box-sizing: border-box;top: 0;bottom: 0;left: 50%;z-index: -1;}#sk-container-id-27 div.sk-parallel-item {display: flex;flex-direction: column;z-index: 1;position: relative;background-color: white;}#sk-container-id-27 div.sk-parallel-item:first-child::after {align-self: flex-end;width: 50%;}#sk-container-id-27 div.sk-parallel-item:last-child::after {align-self: flex-start;width: 50%;}#sk-container-id-27 div.sk-parallel-item:only-child::after {width: 0;}#sk-container-id-27 div.sk-dashed-wrapped {border: 1px dashed gray;margin: 0 0.4em 0.5em 0.4em;box-sizing: border-box;padding-bottom: 0.4em;background-color: white;}#sk-container-id-27 div.sk-label label {font-family: monospace;font-weight: bold;display: inline-block;line-height: 1.2em;}#sk-container-id-27 div.sk-label-container {text-align: center;}#sk-container-id-27 div.sk-container {/* jupyter's `normalize.less` sets `[hidden] { display: none; }` but bootstrap.min.css set `[hidden] { display: none !important; }` so we also need the `!important` here to be able to override the default hidden behavior on the sphinx rendered scikit-learn.org. See: https://github.com/scikit-learn/scikit-learn/issues/21755 */display: inline-block !important;position: relative;}#sk-container-id-27 div.sk-text-repr-fallback {display: none;}</style><div id=\"sk-container-id-27\" class=\"sk-top-container\"><div class=\"sk-text-repr-fallback\"><pre>GridSearchCV(cv=10, estimator=KNeighborsClassifier(),\n",
       "             param_grid={&#x27;n_neighbors&#x27;: [1, 2, 3, 4, 5, 6, 7, 8, 9, 10, 11, 12,\n",
       "                                         13, 14, 15, 16, 17, 18, 19, 20]})</pre><b>In a Jupyter environment, please rerun this cell to show the HTML representation or trust the notebook. <br />On GitHub, the HTML representation is unable to render, please try loading this page with nbviewer.org.</b></div><div class=\"sk-container\" hidden><div class=\"sk-item sk-dashed-wrapped\"><div class=\"sk-label-container\"><div class=\"sk-label sk-toggleable\"><input class=\"sk-toggleable__control sk-hidden--visually\" id=\"sk-estimator-id-79\" type=\"checkbox\" ><label for=\"sk-estimator-id-79\" class=\"sk-toggleable__label sk-toggleable__label-arrow\">GridSearchCV</label><div class=\"sk-toggleable__content\"><pre>GridSearchCV(cv=10, estimator=KNeighborsClassifier(),\n",
       "             param_grid={&#x27;n_neighbors&#x27;: [1, 2, 3, 4, 5, 6, 7, 8, 9, 10, 11, 12,\n",
       "                                         13, 14, 15, 16, 17, 18, 19, 20]})</pre></div></div></div><div class=\"sk-parallel\"><div class=\"sk-parallel-item\"><div class=\"sk-item\"><div class=\"sk-label-container\"><div class=\"sk-label sk-toggleable\"><input class=\"sk-toggleable__control sk-hidden--visually\" id=\"sk-estimator-id-80\" type=\"checkbox\" ><label for=\"sk-estimator-id-80\" class=\"sk-toggleable__label sk-toggleable__label-arrow\">estimator: KNeighborsClassifier</label><div class=\"sk-toggleable__content\"><pre>KNeighborsClassifier()</pre></div></div></div><div class=\"sk-serial\"><div class=\"sk-item\"><div class=\"sk-estimator sk-toggleable\"><input class=\"sk-toggleable__control sk-hidden--visually\" id=\"sk-estimator-id-81\" type=\"checkbox\" ><label for=\"sk-estimator-id-81\" class=\"sk-toggleable__label sk-toggleable__label-arrow\">KNeighborsClassifier</label><div class=\"sk-toggleable__content\"><pre>KNeighborsClassifier()</pre></div></div></div></div></div></div></div></div></div></div>"
      ],
      "text/plain": [
       "GridSearchCV(cv=10, estimator=KNeighborsClassifier(),\n",
       "             param_grid={'n_neighbors': [1, 2, 3, 4, 5, 6, 7, 8, 9, 10, 11, 12,\n",
       "                                         13, 14, 15, 16, 17, 18, 19, 20]})"
      ]
     },
     "execution_count": 249,
     "metadata": {},
     "output_type": "execute_result"
    }
   ],
   "source": [
    "from sklearn.neighbors import KNeighborsClassifier\n",
    "\n",
    "param_grid = {'n_neighbors': [*range(1, 21, 1)]}\n",
    "\n",
    "knn = KNeighborsClassifier()\n",
    "\n",
    "grid_knn = GridSearchCV(knn, param_grid, cv=10)\n",
    "\n",
    "grid_knn.fit(X_train, yI_train)"
   ]
  },
  {
   "cell_type": "code",
   "execution_count": 250,
   "metadata": {},
   "outputs": [
    {
     "name": "stdout",
     "output_type": "stream",
     "text": [
      "KNeighborsClassifier(n_neighbors=1)\n",
      "0.8726004647394043\n",
      "0.8804440649017934\n"
     ]
    }
   ],
   "source": [
    "print(grid_knn.best_estimator_)\n",
    "print(grid_knn.best_score_)\n",
    "print(accuracy_score(yI_test, grid_knn.predict(X_test)))"
   ]
  },
  {
   "cell_type": "code",
   "execution_count": 251,
   "metadata": {},
   "outputs": [
    {
     "data": {
      "text/html": [
       "<div>\n",
       "<style scoped>\n",
       "    .dataframe tbody tr th:only-of-type {\n",
       "        vertical-align: middle;\n",
       "    }\n",
       "\n",
       "    .dataframe tbody tr th {\n",
       "        vertical-align: top;\n",
       "    }\n",
       "\n",
       "    .dataframe thead th {\n",
       "        text-align: right;\n",
       "    }\n",
       "</style>\n",
       "<table border=\"1\" class=\"dataframe\">\n",
       "  <thead>\n",
       "    <tr style=\"text-align: right;\">\n",
       "      <th></th>\n",
       "      <th>GE</th>\n",
       "      <th>GI</th>\n",
       "    </tr>\n",
       "  </thead>\n",
       "  <tbody>\n",
       "    <tr>\n",
       "      <th>GE</th>\n",
       "      <td>658</td>\n",
       "      <td>154</td>\n",
       "    </tr>\n",
       "    <tr>\n",
       "      <th>GI</th>\n",
       "      <td>126</td>\n",
       "      <td>1404</td>\n",
       "    </tr>\n",
       "  </tbody>\n",
       "</table>\n",
       "</div>"
      ],
      "text/plain": [
       "     GE    GI\n",
       "GE  658   154\n",
       "GI  126  1404"
      ]
     },
     "execution_count": 251,
     "metadata": {},
     "output_type": "execute_result"
    }
   ],
   "source": [
    "confusion_mat = confusion_matrix(yI_test, grid_knn.predict(X_test))\n",
    "confusion_df = pd.DataFrame(confusion_mat, index=['GE', 'GI'], columns=['GE', 'GI'])\n",
    "confusion_df"
   ]
  },
  {
   "attachments": {},
   "cell_type": "markdown",
   "metadata": {},
   "source": [
    "## Modelo 6: SVG rbf"
   ]
  },
  {
   "cell_type": "code",
   "execution_count": 252,
   "metadata": {},
   "outputs": [
    {
     "name": "stdout",
     "output_type": "stream",
     "text": [
      "Fitting 5 folds for each of 36 candidates, totalling 180 fits\n"
     ]
    },
    {
     "data": {
      "text/html": [
       "<style>#sk-container-id-28 {color: black;background-color: white;}#sk-container-id-28 pre{padding: 0;}#sk-container-id-28 div.sk-toggleable {background-color: white;}#sk-container-id-28 label.sk-toggleable__label {cursor: pointer;display: block;width: 100%;margin-bottom: 0;padding: 0.3em;box-sizing: border-box;text-align: center;}#sk-container-id-28 label.sk-toggleable__label-arrow:before {content: \"▸\";float: left;margin-right: 0.25em;color: #696969;}#sk-container-id-28 label.sk-toggleable__label-arrow:hover:before {color: black;}#sk-container-id-28 div.sk-estimator:hover label.sk-toggleable__label-arrow:before {color: black;}#sk-container-id-28 div.sk-toggleable__content {max-height: 0;max-width: 0;overflow: hidden;text-align: left;background-color: #f0f8ff;}#sk-container-id-28 div.sk-toggleable__content pre {margin: 0.2em;color: black;border-radius: 0.25em;background-color: #f0f8ff;}#sk-container-id-28 input.sk-toggleable__control:checked~div.sk-toggleable__content {max-height: 200px;max-width: 100%;overflow: auto;}#sk-container-id-28 input.sk-toggleable__control:checked~label.sk-toggleable__label-arrow:before {content: \"▾\";}#sk-container-id-28 div.sk-estimator input.sk-toggleable__control:checked~label.sk-toggleable__label {background-color: #d4ebff;}#sk-container-id-28 div.sk-label input.sk-toggleable__control:checked~label.sk-toggleable__label {background-color: #d4ebff;}#sk-container-id-28 input.sk-hidden--visually {border: 0;clip: rect(1px 1px 1px 1px);clip: rect(1px, 1px, 1px, 1px);height: 1px;margin: -1px;overflow: hidden;padding: 0;position: absolute;width: 1px;}#sk-container-id-28 div.sk-estimator {font-family: monospace;background-color: #f0f8ff;border: 1px dotted black;border-radius: 0.25em;box-sizing: border-box;margin-bottom: 0.5em;}#sk-container-id-28 div.sk-estimator:hover {background-color: #d4ebff;}#sk-container-id-28 div.sk-parallel-item::after {content: \"\";width: 100%;border-bottom: 1px solid gray;flex-grow: 1;}#sk-container-id-28 div.sk-label:hover label.sk-toggleable__label {background-color: #d4ebff;}#sk-container-id-28 div.sk-serial::before {content: \"\";position: absolute;border-left: 1px solid gray;box-sizing: border-box;top: 0;bottom: 0;left: 50%;z-index: 0;}#sk-container-id-28 div.sk-serial {display: flex;flex-direction: column;align-items: center;background-color: white;padding-right: 0.2em;padding-left: 0.2em;position: relative;}#sk-container-id-28 div.sk-item {position: relative;z-index: 1;}#sk-container-id-28 div.sk-parallel {display: flex;align-items: stretch;justify-content: center;background-color: white;position: relative;}#sk-container-id-28 div.sk-item::before, #sk-container-id-28 div.sk-parallel-item::before {content: \"\";position: absolute;border-left: 1px solid gray;box-sizing: border-box;top: 0;bottom: 0;left: 50%;z-index: -1;}#sk-container-id-28 div.sk-parallel-item {display: flex;flex-direction: column;z-index: 1;position: relative;background-color: white;}#sk-container-id-28 div.sk-parallel-item:first-child::after {align-self: flex-end;width: 50%;}#sk-container-id-28 div.sk-parallel-item:last-child::after {align-self: flex-start;width: 50%;}#sk-container-id-28 div.sk-parallel-item:only-child::after {width: 0;}#sk-container-id-28 div.sk-dashed-wrapped {border: 1px dashed gray;margin: 0 0.4em 0.5em 0.4em;box-sizing: border-box;padding-bottom: 0.4em;background-color: white;}#sk-container-id-28 div.sk-label label {font-family: monospace;font-weight: bold;display: inline-block;line-height: 1.2em;}#sk-container-id-28 div.sk-label-container {text-align: center;}#sk-container-id-28 div.sk-container {/* jupyter's `normalize.less` sets `[hidden] { display: none; }` but bootstrap.min.css set `[hidden] { display: none !important; }` so we also need the `!important` here to be able to override the default hidden behavior on the sphinx rendered scikit-learn.org. See: https://github.com/scikit-learn/scikit-learn/issues/21755 */display: inline-block !important;position: relative;}#sk-container-id-28 div.sk-text-repr-fallback {display: none;}</style><div id=\"sk-container-id-28\" class=\"sk-top-container\"><div class=\"sk-text-repr-fallback\"><pre>GridSearchCV(estimator=SVC(),\n",
       "             param_grid={&#x27;C&#x27;: [0.03125, 0.125, 0.5, 2, 8, 32],\n",
       "                         &#x27;gamma&#x27;: [0.03125, 0.125, 0.5, 2, 8, 32]},\n",
       "             return_train_score=True, verbose=1)</pre><b>In a Jupyter environment, please rerun this cell to show the HTML representation or trust the notebook. <br />On GitHub, the HTML representation is unable to render, please try loading this page with nbviewer.org.</b></div><div class=\"sk-container\" hidden><div class=\"sk-item sk-dashed-wrapped\"><div class=\"sk-label-container\"><div class=\"sk-label sk-toggleable\"><input class=\"sk-toggleable__control sk-hidden--visually\" id=\"sk-estimator-id-82\" type=\"checkbox\" ><label for=\"sk-estimator-id-82\" class=\"sk-toggleable__label sk-toggleable__label-arrow\">GridSearchCV</label><div class=\"sk-toggleable__content\"><pre>GridSearchCV(estimator=SVC(),\n",
       "             param_grid={&#x27;C&#x27;: [0.03125, 0.125, 0.5, 2, 8, 32],\n",
       "                         &#x27;gamma&#x27;: [0.03125, 0.125, 0.5, 2, 8, 32]},\n",
       "             return_train_score=True, verbose=1)</pre></div></div></div><div class=\"sk-parallel\"><div class=\"sk-parallel-item\"><div class=\"sk-item\"><div class=\"sk-label-container\"><div class=\"sk-label sk-toggleable\"><input class=\"sk-toggleable__control sk-hidden--visually\" id=\"sk-estimator-id-83\" type=\"checkbox\" ><label for=\"sk-estimator-id-83\" class=\"sk-toggleable__label sk-toggleable__label-arrow\">estimator: SVC</label><div class=\"sk-toggleable__content\"><pre>SVC()</pre></div></div></div><div class=\"sk-serial\"><div class=\"sk-item\"><div class=\"sk-estimator sk-toggleable\"><input class=\"sk-toggleable__control sk-hidden--visually\" id=\"sk-estimator-id-84\" type=\"checkbox\" ><label for=\"sk-estimator-id-84\" class=\"sk-toggleable__label sk-toggleable__label-arrow\">SVC</label><div class=\"sk-toggleable__content\"><pre>SVC()</pre></div></div></div></div></div></div></div></div></div></div>"
      ],
      "text/plain": [
       "GridSearchCV(estimator=SVC(),\n",
       "             param_grid={'C': [0.03125, 0.125, 0.5, 2, 8, 32],\n",
       "                         'gamma': [0.03125, 0.125, 0.5, 2, 8, 32]},\n",
       "             return_train_score=True, verbose=1)"
      ]
     },
     "execution_count": 252,
     "metadata": {},
     "output_type": "execute_result"
    }
   ],
   "source": [
    "from sklearn.svm import SVC\n",
    "from sklearn.model_selection import GridSearchCV\n",
    "\n",
    "param_grid = {'C': [2**i for i in range(-5, 7, 2)],\n",
    "              'gamma': [2**i for i in range(-5, 7, 2)]}\n",
    "\n",
    "grid_SVCrbf = GridSearchCV(SVC(kernel='rbf'),  # Cambio a kernel='rbf'\n",
    "                        param_grid=param_grid,\n",
    "                        verbose=1,\n",
    "                        return_train_score=True)\n",
    "\n",
    "grid_SVCrbf.fit(X_train, yI_train)"
   ]
  },
  {
   "cell_type": "code",
   "execution_count": 253,
   "metadata": {},
   "outputs": [
    {
     "name": "stdout",
     "output_type": "stream",
     "text": [
      "SVC(C=32, gamma=32)\n",
      "0.8533793135805944\n",
      "0.874466268146883\n"
     ]
    }
   ],
   "source": [
    "print(grid_SVCrbf.best_estimator_)\n",
    "print(grid_SVCrbf.best_score_)\n",
    "print(accuracy_score(yI_test, grid_SVCrbf.predict(X_test)))"
   ]
  },
  {
   "cell_type": "code",
   "execution_count": 254,
   "metadata": {},
   "outputs": [
    {
     "data": {
      "text/html": [
       "<div>\n",
       "<style scoped>\n",
       "    .dataframe tbody tr th:only-of-type {\n",
       "        vertical-align: middle;\n",
       "    }\n",
       "\n",
       "    .dataframe tbody tr th {\n",
       "        vertical-align: top;\n",
       "    }\n",
       "\n",
       "    .dataframe thead th {\n",
       "        text-align: right;\n",
       "    }\n",
       "</style>\n",
       "<table border=\"1\" class=\"dataframe\">\n",
       "  <thead>\n",
       "    <tr style=\"text-align: right;\">\n",
       "      <th></th>\n",
       "      <th>GE</th>\n",
       "      <th>GI</th>\n",
       "    </tr>\n",
       "  </thead>\n",
       "  <tbody>\n",
       "    <tr>\n",
       "      <th>GE</th>\n",
       "      <td>612</td>\n",
       "      <td>200</td>\n",
       "    </tr>\n",
       "    <tr>\n",
       "      <th>GI</th>\n",
       "      <td>94</td>\n",
       "      <td>1436</td>\n",
       "    </tr>\n",
       "  </tbody>\n",
       "</table>\n",
       "</div>"
      ],
      "text/plain": [
       "     GE    GI\n",
       "GE  612   200\n",
       "GI   94  1436"
      ]
     },
     "execution_count": 254,
     "metadata": {},
     "output_type": "execute_result"
    }
   ],
   "source": [
    "confusion_mat = confusion_matrix(yI_test, grid_SVCrbf.predict(X_test))\n",
    "confusion_df = pd.DataFrame(confusion_mat, index=['GE', 'GI'], columns=['GE', 'GI'])\n",
    "confusion_df"
   ]
  },
  {
   "attachments": {},
   "cell_type": "markdown",
   "metadata": {},
   "source": [
    "## Modelo 7: K-Means"
   ]
  },
  {
   "cell_type": "code",
   "execution_count": 264,
   "metadata": {},
   "outputs": [],
   "source": [
    "def plot_metric(K, scores, metric_name):\n",
    "  plt.figure(dpi=110, figsize=(9, 5))\n",
    "  plt.plot(K, scores, 'bx-')\n",
    "  plt.xticks(K); plt.xlabel('$k$', fontdict=dict(family = 'serif', size = 14));  plt.ylabel(metric_name, fontdict=dict(family = 'serif', size = 14));\n",
    "  plt.title(f'K vs {metric_name}', fontdict=dict(family = 'serif', size = 18))\n",
    "  plt.show()"
   ]
  },
  {
   "cell_type": "code",
   "execution_count": 265,
   "metadata": {},
   "outputs": [],
   "source": [
    "def plot_extern_metric(X, y, metric, metric_name):\n",
    "  scores = []\n",
    "  for i in range(2,20):\n",
    "    model = KMeans(n_clusters=i)\n",
    "    model.fit(X)\n",
    "    y_pred = model.predict(X)\n",
    "    scores.append(metric(y, y_pred))\n",
    "\n",
    "  plot_metric(range(2, 20), scores, metric_name) "
   ]
  },
  {
   "cell_type": "code",
   "execution_count": 266,
   "metadata": {},
   "outputs": [
    {
     "data": {
      "image/png": "[encoded data removed]",
      "text/plain": [
       "<Figure size 990x550 with 1 Axes>"
      ]
     },
     "metadata": {},
     "output_type": "display_data"
    }
   ],
   "source": [
    "from sklearn.cluster import KMeans\n",
    "from sklearn.metrics import homogeneity_score, mutual_info_score, adjusted_rand_score\n",
    "\n",
    "plot_extern_metric(X, yI, homogeneity_score, 'Homogeneidad')"
   ]
  },
  {
   "cell_type": "code",
   "execution_count": 267,
   "metadata": {},
   "outputs": [
    {
     "data": {
      "image/png": "[encoded data removed]",
      "text/plain": [
       "<Figure size 990x550 with 1 Axes>"
      ]
     },
     "metadata": {},
     "output_type": "display_data"
    }
   ],
   "source": [
    "plot_extern_metric(X, yI, mutual_info_score, 'Información mutua')"
   ]
  },
  {
   "cell_type": "code",
   "execution_count": 268,
   "metadata": {},
   "outputs": [
    {
     "data": {
      "image/png": "[encoded data removed]",
      "text/plain": [
       "<Figure size 990x550 with 1 Axes>"
      ]
     },
     "metadata": {},
     "output_type": "display_data"
    }
   ],
   "source": [
    "plot_extern_metric(X, yI,adjusted_rand_score, 'Índice de Rand ajustado')"
   ]
  },
  {
   "cell_type": "code",
   "execution_count": 284,
   "metadata": {},
   "outputs": [],
   "source": [
    "from sklearn.metrics.cluster import contingency_matrix\n",
    "\n",
    "def show_contigency_matrix(X, y, n_clusters, classes):\n",
    "  # Fijamos la semilla aleatoria para obtener resultados reproducibles.\n",
    "  model = KMeans(n_clusters)\n",
    "  model.fit(X)\n",
    "  y_pred = model.predict(X)\n",
    "  mat = contingency_matrix(y, y_pred)\n",
    "  columns = ['Cluster ' + str(i) for i in range(n_clusters)]\n",
    "  \n",
    "  # Se retorna cómo un DataFrame de Pandas para mejorar la visualización.\n",
    "  return pd.DataFrame(mat, columns=columns, index=classes)"
   ]
  },
  {
   "cell_type": "code",
   "execution_count": 289,
   "metadata": {},
   "outputs": [
    {
     "data": {
      "text/html": [
       "<div>\n",
       "<style scoped>\n",
       "    .dataframe tbody tr th:only-of-type {\n",
       "        vertical-align: middle;\n",
       "    }\n",
       "\n",
       "    .dataframe tbody tr th {\n",
       "        vertical-align: top;\n",
       "    }\n",
       "\n",
       "    .dataframe thead th {\n",
       "        text-align: right;\n",
       "    }\n",
       "</style>\n",
       "<table border=\"1\" class=\"dataframe\">\n",
       "  <thead>\n",
       "    <tr style=\"text-align: right;\">\n",
       "      <th></th>\n",
       "      <th>Cluster 0</th>\n",
       "      <th>Cluster 1</th>\n",
       "      <th>Cluster 2</th>\n",
       "      <th>Cluster 3</th>\n",
       "      <th>Cluster 4</th>\n",
       "      <th>Cluster 5</th>\n",
       "      <th>Cluster 6</th>\n",
       "      <th>Cluster 7</th>\n",
       "      <th>Cluster 8</th>\n",
       "      <th>Cluster 9</th>\n",
       "      <th>Cluster 10</th>\n",
       "      <th>Cluster 11</th>\n",
       "      <th>Cluster 12</th>\n",
       "      <th>Cluster 13</th>\n",
       "      <th>Cluster 14</th>\n",
       "    </tr>\n",
       "  </thead>\n",
       "  <tbody>\n",
       "    <tr>\n",
       "      <th>GE</th>\n",
       "      <td>741</td>\n",
       "      <td>245</td>\n",
       "      <td>16</td>\n",
       "      <td>3</td>\n",
       "      <td>94</td>\n",
       "      <td>1</td>\n",
       "      <td>1314</td>\n",
       "      <td>0</td>\n",
       "      <td>9</td>\n",
       "      <td>14</td>\n",
       "      <td>208</td>\n",
       "      <td>1</td>\n",
       "      <td>9</td>\n",
       "      <td>30</td>\n",
       "      <td>21</td>\n",
       "    </tr>\n",
       "    <tr>\n",
       "      <th>GI</th>\n",
       "      <td>1873</td>\n",
       "      <td>434</td>\n",
       "      <td>1</td>\n",
       "      <td>0</td>\n",
       "      <td>47</td>\n",
       "      <td>1</td>\n",
       "      <td>1800</td>\n",
       "      <td>11</td>\n",
       "      <td>1</td>\n",
       "      <td>9</td>\n",
       "      <td>905</td>\n",
       "      <td>0</td>\n",
       "      <td>2</td>\n",
       "      <td>6</td>\n",
       "      <td>9</td>\n",
       "    </tr>\n",
       "  </tbody>\n",
       "</table>\n",
       "</div>"
      ],
      "text/plain": [
       "    Cluster 0  Cluster 1  Cluster 2  Cluster 3  Cluster 4  Cluster 5   \n",
       "GE        741        245         16          3         94          1  \\\n",
       "GI       1873        434          1          0         47          1   \n",
       "\n",
       "    Cluster 6  Cluster 7  Cluster 8  Cluster 9  Cluster 10  Cluster 11   \n",
       "GE       1314          0          9         14         208           1  \\\n",
       "GI       1800         11          1          9         905           0   \n",
       "\n",
       "    Cluster 12  Cluster 13  Cluster 14  \n",
       "GE           9          30          21  \n",
       "GI           2           6           9  "
      ]
     },
     "execution_count": 289,
     "metadata": {},
     "output_type": "execute_result"
    }
   ],
   "source": [
    "show_contigency_matrix(X, yI, 15, ['GE', 'GI'])"
   ]
  }
 ],
 "metadata": {
  "kernelspec": {
   "display_name": "venv",
   "language": "python",
   "name": "python3"
  },
  "language_info": {
   "codemirror_mode": {
    "name": "ipython",
    "version": 3
   },
   "file_extension": ".py",
   "mimetype": "text/x-python",
   "name": "python",
   "nbconvert_exporter": "python",
   "pygments_lexer": "ipython3",
   "version": "3.11.2"
  },
  "orig_nbformat": 4
 },
 "nbformat": 4,
 "nbformat_minor": 2
}
