{
 "cells": [
  {
   "cell_type": "code",
   "execution_count": 114,
   "metadata": {
    "vscode": {
     "languageId": "r"
    }
   },
   "outputs": [],
   "source": [
    "library(samplingbook)"
   ]
  },
  {
   "cell_type": "code",
   "execution_count": 115,
   "metadata": {
    "vscode": {
     "languageId": "r"
    }
   },
   "outputs": [],
   "source": [
    "df <- read.csv(\"saber11.csv\", header = TRUE)"
   ]
  },
  {
   "cell_type": "code",
   "execution_count": 116,
   "metadata": {
    "vscode": {
     "languageId": "r"
    }
   },
   "outputs": [
    {
     "data": {
      "text/html": [
       "'LC_CTYPE=C;LC_NUMERIC=C;LC_TIME=C;LC_COLLATE=C;LC_MONETARY=C;LC_MESSAGES=en_US.UTF-8;LC_PAPER=es_CO.UTF-8;LC_NAME=C;LC_ADDRESS=C;LC_TELEPHONE=C;LC_MEASUREMENT=es_CO.UTF-8;LC_IDENTIFICATION=C'"
      ],
      "text/latex": [
       "'LC\\_CTYPE=C;LC\\_NUMERIC=C;LC\\_TIME=C;LC\\_COLLATE=C;LC\\_MONETARY=C;LC\\_MESSAGES=en\\_US.UTF-8;LC\\_PAPER=es\\_CO.UTF-8;LC\\_NAME=C;LC\\_ADDRESS=C;LC\\_TELEPHONE=C;LC\\_MEASUREMENT=es\\_CO.UTF-8;LC\\_IDENTIFICATION=C'"
      ],
      "text/markdown": [
       "'LC_CTYPE=C;LC_NUMERIC=C;LC_TIME=C;LC_COLLATE=C;LC_MONETARY=C;LC_MESSAGES=en_US.UTF-8;LC_PAPER=es_CO.UTF-8;LC_NAME=C;LC_ADDRESS=C;LC_TELEPHONE=C;LC_MEASUREMENT=es_CO.UTF-8;LC_IDENTIFICATION=C'"
      ],
      "text/plain": [
       "[1] \"LC_CTYPE=C;LC_NUMERIC=C;LC_TIME=C;LC_COLLATE=C;LC_MONETARY=C;LC_MESSAGES=en_US.UTF-8;LC_PAPER=es_CO.UTF-8;LC_NAME=C;LC_ADDRESS=C;LC_TELEPHONE=C;LC_MEASUREMENT=es_CO.UTF-8;LC_IDENTIFICATION=C\""
      ]
     },
     "metadata": {},
     "output_type": "display_data"
    }
   ],
   "source": [
    "Sys.setlocale('LC_ALL','C')"
   ]
  },
  {
   "cell_type": "code",
   "execution_count": 117,
   "metadata": {
    "vscode": {
     "languageId": "r"
    }
   },
   "outputs": [
    {
     "data": {
      "text/html": [
       "<table class=\"dataframe\">\n",
       "<caption>A data.frame: 6 × 13</caption>\n",
       "<thead>\n",
       "\t<tr><th></th><th scope=col>X</th><th scope=col>ESTU_GENERO</th><th scope=col>ESTU_DEPTO_RESIDE</th><th scope=col>FAMI_ESTRATOVIVIENDA</th><th scope=col>COLE_CARACTER</th><th scope=col>COLE_AREA_UBICACION</th><th scope=col>COLE_JORNADA</th><th scope=col>PUNT_LECTURA_CRITICA</th><th scope=col>PUNT_MATEMATICAS</th><th scope=col>PUNT_C_NATURALES</th><th scope=col>PUNT_SOCIALES_CIUDADANAS</th><th scope=col>PUNT_INGLES</th><th scope=col>PUNT_GLOBAL</th></tr>\n",
       "\t<tr><th></th><th scope=col>&lt;int&gt;</th><th scope=col>&lt;chr&gt;</th><th scope=col>&lt;chr&gt;</th><th scope=col>&lt;chr&gt;</th><th scope=col>&lt;chr&gt;</th><th scope=col>&lt;chr&gt;</th><th scope=col>&lt;chr&gt;</th><th scope=col>&lt;int&gt;</th><th scope=col>&lt;int&gt;</th><th scope=col>&lt;int&gt;</th><th scope=col>&lt;int&gt;</th><th scope=col>&lt;int&gt;</th><th scope=col>&lt;int&gt;</th></tr>\n",
       "</thead>\n",
       "<tbody>\n",
       "\t<tr><th scope=row>1</th><td>1</td><td>M</td><td>VALLE    </td><td>Estrato 1</td><td>ACAD<c9>MICO           </td><td>URBANO</td><td>NOCHE    </td><td>32</td><td>34</td><td>36</td><td>41</td><td>33</td><td>178</td></tr>\n",
       "\t<tr><th scope=row>2</th><td>2</td><td>F</td><td>MAGDALENA</td><td>Estrato 1</td><td>T<c9>CNICO/ACAD<c9>MICO</td><td>URBANO</td><td>MA<d1>ANA</td><td>54</td><td>51</td><td>50</td><td>44</td><td>53</td><td>250</td></tr>\n",
       "\t<tr><th scope=row>3</th><td>3</td><td>M</td><td>CALDAS   </td><td>Estrato 1</td><td>T<c9>CNICO/ACAD<c9>MICO</td><td>URBANO</td><td>NOCHE    </td><td>42</td><td>43</td><td>38</td><td>48</td><td>40</td><td>213</td></tr>\n",
       "\t<tr><th scope=row>4</th><td>4</td><td>M</td><td>SANTANDER</td><td>Estrato 1</td><td>ACAD<c9>MICO           </td><td>RURAL </td><td>MA<d1>ANA</td><td>63</td><td>59</td><td>62</td><td>54</td><td>52</td><td>295</td></tr>\n",
       "\t<tr><th scope=row>5</th><td>5</td><td>M</td><td>MAGDALENA</td><td>Estrato 1</td><td>T<c9>CNICO/ACAD<c9>MICO</td><td>URBANO</td><td>MA<d1>ANA</td><td>34</td><td>58</td><td>44</td><td>32</td><td>50</td><td>213</td></tr>\n",
       "\t<tr><th scope=row>6</th><td>6</td><td>M</td><td>ATLANTICO</td><td>Estrato 1</td><td>T<c9>CNICO/ACAD<c9>MICO</td><td>URBANO</td><td>UNICA    </td><td>65</td><td>53</td><td>56</td><td>52</td><td>62</td><td>285</td></tr>\n",
       "</tbody>\n",
       "</table>\n"
      ],
      "text/latex": [
       "A data.frame: 6 × 13\n",
       "\\begin{tabular}{r|lllllllllllll}\n",
       "  & X & ESTU\\_GENERO & ESTU\\_DEPTO\\_RESIDE & FAMI\\_ESTRATOVIVIENDA & COLE\\_CARACTER & COLE\\_AREA\\_UBICACION & COLE\\_JORNADA & PUNT\\_LECTURA\\_CRITICA & PUNT\\_MATEMATICAS & PUNT\\_C\\_NATURALES & PUNT\\_SOCIALES\\_CIUDADANAS & PUNT\\_INGLES & PUNT\\_GLOBAL\\\\\n",
       "  & <int> & <chr> & <chr> & <chr> & <chr> & <chr> & <chr> & <int> & <int> & <int> & <int> & <int> & <int>\\\\\n",
       "\\hline\n",
       "\t1 & 1 & M & VALLE     & Estrato 1 & ACAD<c9>MICO            & URBANO & NOCHE     & 32 & 34 & 36 & 41 & 33 & 178\\\\\n",
       "\t2 & 2 & F & MAGDALENA & Estrato 1 & T<c9>CNICO/ACAD<c9>MICO & URBANO & MA<d1>ANA & 54 & 51 & 50 & 44 & 53 & 250\\\\\n",
       "\t3 & 3 & M & CALDAS    & Estrato 1 & T<c9>CNICO/ACAD<c9>MICO & URBANO & NOCHE     & 42 & 43 & 38 & 48 & 40 & 213\\\\\n",
       "\t4 & 4 & M & SANTANDER & Estrato 1 & ACAD<c9>MICO            & RURAL  & MA<d1>ANA & 63 & 59 & 62 & 54 & 52 & 295\\\\\n",
       "\t5 & 5 & M & MAGDALENA & Estrato 1 & T<c9>CNICO/ACAD<c9>MICO & URBANO & MA<d1>ANA & 34 & 58 & 44 & 32 & 50 & 213\\\\\n",
       "\t6 & 6 & M & ATLANTICO & Estrato 1 & T<c9>CNICO/ACAD<c9>MICO & URBANO & UNICA     & 65 & 53 & 56 & 52 & 62 & 285\\\\\n",
       "\\end{tabular}\n"
      ],
      "text/markdown": [
       "\n",
       "A data.frame: 6 × 13\n",
       "\n",
       "| <!--/--> | X &lt;int&gt; | ESTU_GENERO &lt;chr&gt; | ESTU_DEPTO_RESIDE &lt;chr&gt; | FAMI_ESTRATOVIVIENDA &lt;chr&gt; | COLE_CARACTER &lt;chr&gt; | COLE_AREA_UBICACION &lt;chr&gt; | COLE_JORNADA &lt;chr&gt; | PUNT_LECTURA_CRITICA &lt;int&gt; | PUNT_MATEMATICAS &lt;int&gt; | PUNT_C_NATURALES &lt;int&gt; | PUNT_SOCIALES_CIUDADANAS &lt;int&gt; | PUNT_INGLES &lt;int&gt; | PUNT_GLOBAL &lt;int&gt; |\n",
       "|---|---|---|---|---|---|---|---|---|---|---|---|---|---|\n",
       "| 1 | 1 | M | VALLE     | Estrato 1 | ACAD<c9>MICO            | URBANO | NOCHE     | 32 | 34 | 36 | 41 | 33 | 178 |\n",
       "| 2 | 2 | F | MAGDALENA | Estrato 1 | T<c9>CNICO/ACAD<c9>MICO | URBANO | MA<d1>ANA | 54 | 51 | 50 | 44 | 53 | 250 |\n",
       "| 3 | 3 | M | CALDAS    | Estrato 1 | T<c9>CNICO/ACAD<c9>MICO | URBANO | NOCHE     | 42 | 43 | 38 | 48 | 40 | 213 |\n",
       "| 4 | 4 | M | SANTANDER | Estrato 1 | ACAD<c9>MICO            | RURAL  | MA<d1>ANA | 63 | 59 | 62 | 54 | 52 | 295 |\n",
       "| 5 | 5 | M | MAGDALENA | Estrato 1 | T<c9>CNICO/ACAD<c9>MICO | URBANO | MA<d1>ANA | 34 | 58 | 44 | 32 | 50 | 213 |\n",
       "| 6 | 6 | M | ATLANTICO | Estrato 1 | T<c9>CNICO/ACAD<c9>MICO | URBANO | UNICA     | 65 | 53 | 56 | 52 | 62 | 285 |\n",
       "\n"
      ],
      "text/plain": [
       "  X ESTU_GENERO ESTU_DEPTO_RESIDE FAMI_ESTRATOVIVIENDA COLE_CARACTER          \n",
       "1 1 M           VALLE             Estrato 1            ACAD\\311MICO           \n",
       "2 2 F           MAGDALENA         Estrato 1            T\\311CNICO/ACAD\\311MICO\n",
       "3 3 M           CALDAS            Estrato 1            T\\311CNICO/ACAD\\311MICO\n",
       "4 4 M           SANTANDER         Estrato 1            ACAD\\311MICO           \n",
       "5 5 M           MAGDALENA         Estrato 1            T\\311CNICO/ACAD\\311MICO\n",
       "6 6 M           ATLANTICO         Estrato 1            T\\311CNICO/ACAD\\311MICO\n",
       "  COLE_AREA_UBICACION COLE_JORNADA PUNT_LECTURA_CRITICA PUNT_MATEMATICAS\n",
       "1 URBANO              NOCHE        32                   34              \n",
       "2 URBANO              MA\\321ANA    54                   51              \n",
       "3 URBANO              NOCHE        42                   43              \n",
       "4 RURAL               MA\\321ANA    63                   59              \n",
       "5 URBANO              MA\\321ANA    34                   58              \n",
       "6 URBANO              UNICA        65                   53              \n",
       "  PUNT_C_NATURALES PUNT_SOCIALES_CIUDADANAS PUNT_INGLES PUNT_GLOBAL\n",
       "1 36               41                       33          178        \n",
       "2 50               44                       53          250        \n",
       "3 38               48                       40          213        \n",
       "4 62               54                       52          295        \n",
       "5 44               32                       50          213        \n",
       "6 56               52                       62          285        "
      ]
     },
     "metadata": {},
     "output_type": "display_data"
    }
   ],
   "source": [
    "head(df)"
   ]
  },
  {
   "cell_type": "code",
   "execution_count": 118,
   "metadata": {
    "vscode": {
     "languageId": "r"
    }
   },
   "outputs": [
    {
     "data": {
      "text/html": [
       "<table class=\"dataframe\">\n",
       "<caption>A data.frame: 0 × 13</caption>\n",
       "<thead>\n",
       "\t<tr><th scope=col>X</th><th scope=col>ESTU_GENERO</th><th scope=col>ESTU_DEPTO_RESIDE</th><th scope=col>FAMI_ESTRATOVIVIENDA</th><th scope=col>COLE_CARACTER</th><th scope=col>COLE_AREA_UBICACION</th><th scope=col>COLE_JORNADA</th><th scope=col>PUNT_LECTURA_CRITICA</th><th scope=col>PUNT_MATEMATICAS</th><th scope=col>PUNT_C_NATURALES</th><th scope=col>PUNT_SOCIALES_CIUDADANAS</th><th scope=col>PUNT_INGLES</th><th scope=col>PUNT_GLOBAL</th></tr>\n",
       "\t<tr><th scope=col>&lt;int&gt;</th><th scope=col>&lt;chr&gt;</th><th scope=col>&lt;chr&gt;</th><th scope=col>&lt;chr&gt;</th><th scope=col>&lt;chr&gt;</th><th scope=col>&lt;chr&gt;</th><th scope=col>&lt;chr&gt;</th><th scope=col>&lt;int&gt;</th><th scope=col>&lt;int&gt;</th><th scope=col>&lt;int&gt;</th><th scope=col>&lt;int&gt;</th><th scope=col>&lt;int&gt;</th><th scope=col>&lt;int&gt;</th></tr>\n",
       "</thead>\n",
       "<tbody>\n",
       "</tbody>\n",
       "</table>\n"
      ],
      "text/latex": [
       "A data.frame: 0 × 13\n",
       "\\begin{tabular}{lllllllllllll}\n",
       " X & ESTU\\_GENERO & ESTU\\_DEPTO\\_RESIDE & FAMI\\_ESTRATOVIVIENDA & COLE\\_CARACTER & COLE\\_AREA\\_UBICACION & COLE\\_JORNADA & PUNT\\_LECTURA\\_CRITICA & PUNT\\_MATEMATICAS & PUNT\\_C\\_NATURALES & PUNT\\_SOCIALES\\_CIUDADANAS & PUNT\\_INGLES & PUNT\\_GLOBAL\\\\\n",
       " <int> & <chr> & <chr> & <chr> & <chr> & <chr> & <chr> & <int> & <int> & <int> & <int> & <int> & <int>\\\\\n",
       "\\hline\n",
       "\\end{tabular}\n"
      ],
      "text/markdown": [
       "\n",
       "A data.frame: 0 × 13\n",
       "\n",
       "| X &lt;int&gt; | ESTU_GENERO &lt;chr&gt; | ESTU_DEPTO_RESIDE &lt;chr&gt; | FAMI_ESTRATOVIVIENDA &lt;chr&gt; | COLE_CARACTER &lt;chr&gt; | COLE_AREA_UBICACION &lt;chr&gt; | COLE_JORNADA &lt;chr&gt; | PUNT_LECTURA_CRITICA &lt;int&gt; | PUNT_MATEMATICAS &lt;int&gt; | PUNT_C_NATURALES &lt;int&gt; | PUNT_SOCIALES_CIUDADANAS &lt;int&gt; | PUNT_INGLES &lt;int&gt; | PUNT_GLOBAL &lt;int&gt; |\n",
       "|---|---|---|---|---|---|---|---|---|---|---|---|---|\n",
       "\n"
      ],
      "text/plain": [
       "     X ESTU_GENERO ESTU_DEPTO_RESIDE FAMI_ESTRATOVIVIENDA COLE_CARACTER\n",
       "     COLE_AREA_UBICACION COLE_JORNADA PUNT_LECTURA_CRITICA PUNT_MATEMATICAS\n",
       "     PUNT_C_NATURALES PUNT_SOCIALES_CIUDADANAS PUNT_INGLES PUNT_GLOBAL"
      ]
     },
     "metadata": {},
     "output_type": "display_data"
    }
   ],
   "source": [
    "df[df$FAMI_ESTRATOVIVIENDA == \"Sin estrato\",]"
   ]
  },
  {
   "cell_type": "code",
   "execution_count": 119,
   "metadata": {
    "vscode": {
     "languageId": "r"
    }
   },
   "outputs": [
    {
     "data": {
      "text/plain": [
       "\n",
       "sample.size.mean object: Sample size for mean estimate\n",
       "With finite population correction: N=4861, precision e=6 and standard deviation S=50\n",
       "\n",
       "Sample size needed: 253\n"
      ]
     },
     "metadata": {},
     "output_type": "display_data"
    }
   ],
   "source": [
    "sample.size.mean(e=6, N=nrow(df), level=0.95, S=50)"
   ]
  },
  {
   "cell_type": "code",
   "execution_count": 120,
   "metadata": {
    "vscode": {
     "languageId": "r"
    }
   },
   "outputs": [],
   "source": [
    "nh = as.vector(table(df$FAMI_ESTRATOVIVIENDA))\n"
   ]
  },
  {
   "cell_type": "code",
   "execution_count": 121,
   "metadata": {
    "vscode": {
     "languageId": "r"
    }
   },
   "outputs": [
    {
     "data": {
      "text/html": [
       "<table class=\"dataframe\">\n",
       "<caption>A matrix: 2 × 6 of type dbl</caption>\n",
       "<thead>\n",
       "\t<tr><th></th><th scope=col></th><th scope=col></th><th scope=col></th><th scope=col></th><th scope=col></th><th scope=col></th></tr>\n",
       "</thead>\n",
       "<tbody>\n",
       "\t<tr><th scope=row>Stratum</th><td> 1</td><td> 2</td><td> 3</td><td> 4</td><td>5</td><td>6</td></tr>\n",
       "\t<tr><th scope=row>Size</th><td>87</td><td>96</td><td>53</td><td>12</td><td>4</td><td>2</td></tr>\n",
       "</tbody>\n",
       "</table>\n"
      ],
      "text/latex": [
       "A matrix: 2 × 6 of type dbl\n",
       "\\begin{tabular}{r|llllll}\n",
       "  &  &  &  &  &  & \\\\\n",
       "\\hline\n",
       "\tStratum &  1 &  2 &  3 &  4 & 5 & 6\\\\\n",
       "\tSize & 87 & 96 & 53 & 12 & 4 & 2\\\\\n",
       "\\end{tabular}\n"
      ],
      "text/markdown": [
       "\n",
       "A matrix: 2 × 6 of type dbl\n",
       "\n",
       "| <!--/--> | <!----> | <!----> | <!----> | <!----> | <!----> | <!----> |\n",
       "|---|---|---|---|---|---|---|\n",
       "| Stratum |  1 |  2 |  3 |  4 | 5 | 6 |\n",
       "| Size | 87 | 96 | 53 | 12 | 4 | 2 |\n",
       "\n"
      ],
      "text/plain": [
       "                       \n",
       "Stratum  1  2  3  4 5 6\n",
       "Size    87 96 53 12 4 2"
      ]
     },
     "metadata": {},
     "output_type": "display_data"
    }
   ],
   "source": [
    "stratasamp(n=253,Nh=nh)"
   ]
  },
  {
   "cell_type": "code",
   "execution_count": 122,
   "metadata": {
    "vscode": {
     "languageId": "r"
    }
   },
   "outputs": [
    {
     "data": {
      "text/plain": [
       "\n",
       "\tShapiro-Wilk normality test\n",
       "\n",
       "data:  df$PUNT_GLOBAL\n",
       "W = 0.98866, p-value < 2.2e-16\n"
      ]
     },
     "metadata": {},
     "output_type": "display_data"
    }
   ],
   "source": [
    "shapiro.test(df$PUNT_GLOBAL)"
   ]
  },
  {
   "cell_type": "code",
   "execution_count": 123,
   "metadata": {
    "vscode": {
     "languageId": "r"
    }
   },
   "outputs": [
    {
     "data": {
      "text/plain": [
       "\n",
       "\tOne Sample t-test\n",
       "\n",
       "data:  df$PUNT_GLOBAL\n",
       "t = 6.9146, df = 4860, p-value = 1\n",
       "alternative hypothesis: true mean is less than 250\n",
       "95 percent confidence interval:\n",
       "     -Inf 256.0908\n",
       "sample estimates:\n",
       "mean of x \n",
       " 254.9202 \n"
      ]
     },
     "metadata": {},
     "output_type": "display_data"
    }
   ],
   "source": [
    "t.test(df$PUNT_GLOBAL, mu = 250, alternative = \"less\", conf.level = 0.95)"
   ]
  },
  {
   "cell_type": "code",
   "execution_count": 124,
   "metadata": {
    "vscode": {
     "languageId": "r"
    }
   },
   "outputs": [
    {
     "data": {
      "image/png": "[encoded data removed]",
      "text/plain": [
       "Plot with title \"Histograma de PUNT_GLOBAL\""
      ]
     },
     "metadata": {
      "image/png": {
       "height": 420,
       "width": 420
      }
     },
     "output_type": "display_data"
    }
   ],
   "source": [
    "hist(df$PUNT_GLOBAL, breaks=100, col=\"red\", main=\"Histograma de PUNT_GLOBAL\")"
   ]
  },
  {
   "cell_type": "code",
   "execution_count": 125,
   "metadata": {
    "vscode": {
     "languageId": "r"
    }
   },
   "outputs": [],
   "source": [
    "df_f <- df[df$ESTU_GENERO == \"F\",]\n",
    "df_m <- df[df$ESTU_GENERO == \"M\",]"
   ]
  },
  {
   "cell_type": "code",
   "execution_count": 126,
   "metadata": {
    "vscode": {
     "languageId": "r"
    }
   },
   "outputs": [
    {
     "data": {
      "text/plain": [
       "\n",
       "\tShapiro-Wilk normality test\n",
       "\n",
       "data:  df_f$PUNT_GLOBAL\n",
       "W = 0.98663, p-value = 3.423e-15\n"
      ]
     },
     "metadata": {},
     "output_type": "display_data"
    },
    {
     "data": {
      "text/plain": [
       "\n",
       "\tShapiro-Wilk normality test\n",
       "\n",
       "data:  df_m$PUNT_GLOBAL\n",
       "W = 0.99078, p-value = 1.441e-10\n"
      ]
     },
     "metadata": {},
     "output_type": "display_data"
    }
   ],
   "source": [
    "shapiro.test(df_f$PUNT_GLOBAL)\n",
    "shapiro.test(df_m$PUNT_GLOBAL)"
   ]
  },
  {
   "cell_type": "code",
   "execution_count": 127,
   "metadata": {
    "vscode": {
     "languageId": "r"
    }
   },
   "outputs": [
    {
     "data": {
      "image/png": "[encoded data removed]",
      "text/plain": [
       "Plot with title \"Boxplot de PUNT_GLOBAL\""
      ]
     },
     "metadata": {
      "image/png": {
       "height": 420,
       "width": 420
      }
     },
     "output_type": "display_data"
    },
    {
     "data": {
      "image/png": "[encoded data removed]",
      "text/plain": [
       "Plot with title \"Boxplot de PUNT_GLOBAL\""
      ]
     },
     "metadata": {
      "image/png": {
       "height": 420,
       "width": 420
      }
     },
     "output_type": "display_data"
    }
   ],
   "source": [
    "boxplot(df_f$PUNT_GLOBAL, col=\"blue\", main=\"Boxplot de PUNT_GLOBAL\")\n",
    "boxplot(df_m$PUNT_GLOBAL, col=\"red\", main=\"Boxplot de PUNT_GLOBAL\")"
   ]
  },
  {
   "cell_type": "code",
   "execution_count": 128,
   "metadata": {
    "vscode": {
     "languageId": "r"
    }
   },
   "outputs": [
    {
     "data": {
      "text/plain": [
       "\n",
       "\tF test to compare two variances\n",
       "\n",
       "data:  df_f$PUNT_GLOBAL and df_m$PUNT_GLOBAL\n",
       "F = 0.91274, num df = 2679, denom df = 2180, p-value = 0.02492\n",
       "alternative hypothesis: true ratio of variances is not equal to 1\n",
       "95 percent confidence interval:\n",
       " 0.8424503 0.9885647\n",
       "sample estimates:\n",
       "ratio of variances \n",
       "         0.9127398 \n"
      ]
     },
     "metadata": {},
     "output_type": "display_data"
    }
   ],
   "source": [
    "var.test(df_f$PUNT_GLOBAL, df_m$PUNT_GLOBAL)"
   ]
  },
  {
   "cell_type": "markdown",
   "metadata": {},
   "source": [
    "no se cumple supuesto de normalidad, se tiene valores atipicos y no se cumple con varianza"
   ]
  },
  {
   "cell_type": "code",
   "execution_count": 129,
   "metadata": {
    "vscode": {
     "languageId": "r"
    }
   },
   "outputs": [
    {
     "data": {
      "text/plain": [
       "\n",
       "\tWelch Two Sample t-test\n",
       "\n",
       "data:  df_f$PUNT_GLOBAL and df_m$PUNT_GLOBAL\n",
       "t = -4.9741, df = 4569.7, p-value = 6.797e-07\n",
       "alternative hypothesis: true difference in means is not equal to 0\n",
       "95 percent confidence interval:\n",
       " -9.943306 -4.321118\n",
       "sample estimates:\n",
       "mean of x mean of y \n",
       " 251.7201  258.8524 \n"
      ]
     },
     "metadata": {},
     "output_type": "display_data"
    }
   ],
   "source": [
    "t.test(df_f$PUNT_GLOBAL, df_m$PUNT_GLOBAL, var.equal = FALSE, alternative = \"two.sided\", conf.level = 0.95)"
   ]
  },
  {
   "cell_type": "code",
   "execution_count": 130,
   "metadata": {
    "vscode": {
     "languageId": "r"
    }
   },
   "outputs": [
    {
     "data": {
      "text/plain": [
       "\n",
       "\tWelch Two Sample t-test\n",
       "\n",
       "data:  df_f$PUNT_GLOBAL and df_m$PUNT_GLOBAL\n",
       "t = -4.9741, df = 4569.7, p-value = 3.398e-07\n",
       "alternative hypothesis: true difference in means is less than 0\n",
       "95 percent confidence interval:\n",
       "      -Inf -4.773214\n",
       "sample estimates:\n",
       "mean of x mean of y \n",
       " 251.7201  258.8524 \n"
      ]
     },
     "metadata": {},
     "output_type": "display_data"
    }
   ],
   "source": [
    "t.test(df_f$PUNT_GLOBAL, df_m$PUNT_GLOBAL, var.equal = FALSE, alternative = \"less\", conf.level = 0.95)"
   ]
  },
  {
   "cell_type": "markdown",
   "metadata": {},
   "source": [
    "el puntaje de los hombres es superior al de las mujeres"
   ]
  },
  {
   "cell_type": "code",
   "execution_count": 131,
   "metadata": {
    "vscode": {
     "languageId": "r"
    }
   },
   "outputs": [],
   "source": [
    "df_est1 <- df[df$FAMI_ESTRATOVIVIENDA == \"Estrato 1\",]\n",
    "df_est2 <- df[df$FAMI_ESTRATOVIVIENDA == \"Estrato 2\",]"
   ]
  },
  {
   "cell_type": "code",
   "execution_count": 132,
   "metadata": {
    "vscode": {
     "languageId": "r"
    }
   },
   "outputs": [
    {
     "data": {
      "text/plain": [
       "\n",
       "\tShapiro-Wilk normality test\n",
       "\n",
       "data:  df_est1$PUNT_GLOBAL\n",
       "W = 0.98621, p-value = 1.551e-11\n"
      ]
     },
     "metadata": {},
     "output_type": "display_data"
    },
    {
     "data": {
      "text/plain": [
       "\n",
       "\tShapiro-Wilk normality test\n",
       "\n",
       "data:  df_est2$PUNT_GLOBAL\n",
       "W = 0.98931, p-value = 2.053e-10\n"
      ]
     },
     "metadata": {},
     "output_type": "display_data"
    }
   ],
   "source": [
    "shapiro.test(df_est1$PUNT_GLOBAL)\n",
    "shapiro.test(df_est2$PUNT_GLOBAL)"
   ]
  },
  {
   "cell_type": "code",
   "execution_count": 133,
   "metadata": {
    "vscode": {
     "languageId": "r"
    }
   },
   "outputs": [
    {
     "data": {
      "image/png": "[encoded data removed]",
      "text/plain": [
       "Plot with title \"Boxplot de PUNT_GLOBAL\""
      ]
     },
     "metadata": {
      "image/png": {
       "height": 420,
       "width": 420
      }
     },
     "output_type": "display_data"
    },
    {
     "data": {
      "image/png": "[encoded data removed]",
      "text/plain": [
       "Plot with title \"Boxplot de PUNT_GLOBAL\""
      ]
     },
     "metadata": {
      "image/png": {
       "height": 420,
       "width": 420
      }
     },
     "output_type": "display_data"
    }
   ],
   "source": [
    "boxplot(df_est1$PUNT_GLOBAL, col=\"blue\", main=\"Boxplot de PUNT_GLOBAL\")\n",
    "boxplot(df_est2$PUNT_GLOBAL, col=\"red\", main=\"Boxplot de PUNT_GLOBAL\")"
   ]
  },
  {
   "cell_type": "code",
   "execution_count": 134,
   "metadata": {
    "vscode": {
     "languageId": "r"
    }
   },
   "outputs": [
    {
     "data": {
      "text/plain": [
       "\n",
       "\tF test to compare two variances\n",
       "\n",
       "data:  df_est1$PUNT_GLOBAL and df_est2$PUNT_GLOBAL\n",
       "F = 0.87784, num df = 1666, denom df = 1840, p-value = 0.006544\n",
       "alternative hypothesis: true ratio of variances is not equal to 1\n",
       "95 percent confidence interval:\n",
       " 0.7993514 0.9642407\n",
       "sample estimates:\n",
       "ratio of variances \n",
       "         0.8778364 \n"
      ]
     },
     "metadata": {},
     "output_type": "display_data"
    }
   ],
   "source": [
    "var.test(df_est1$PUNT_GLOBAL, df_est2$PUNT_GLOBAL)"
   ]
  },
  {
   "cell_type": "markdown",
   "metadata": {},
   "source": [
    "no se cumple supuesto de normalidad, se tiene valores atipicos y no se cumple con varianza"
   ]
  },
  {
   "cell_type": "code",
   "execution_count": 135,
   "metadata": {
    "vscode": {
     "languageId": "r"
    }
   },
   "outputs": [
    {
     "data": {
      "text/plain": [
       "\n",
       "\tWelch Two Sample t-test\n",
       "\n",
       "data:  df_est1$PUNT_GLOBAL and df_est2$PUNT_GLOBAL\n",
       "t = -7.9964, df = 3501.9, p-value = 1.725e-15\n",
       "alternative hypothesis: true difference in means is not equal to 0\n",
       "95 percent confidence interval:\n",
       " -15.424954  -9.350282\n",
       "sample estimates:\n",
       "mean of x mean of y \n",
       " 242.4103  254.7979 \n"
      ]
     },
     "metadata": {},
     "output_type": "display_data"
    }
   ],
   "source": [
    "t.test(df_est1$PUNT_GLOBAL, df_est2$PUNT_GLOBAL, var.equal = FALSE, alternative = \"two.sided\", conf.level = 0.95)"
   ]
  },
  {
   "cell_type": "code",
   "execution_count": 136,
   "metadata": {
    "vscode": {
     "languageId": "r"
    }
   },
   "outputs": [
    {
     "data": {
      "text/plain": [
       "\n",
       "\tWelch Two Sample t-test\n",
       "\n",
       "data:  df_est1$PUNT_GLOBAL and df_est2$PUNT_GLOBAL\n",
       "t = -7.9964, df = 3501.9, p-value = 1\n",
       "alternative hypothesis: true difference in means is greater than 0\n",
       "95 percent confidence interval:\n",
       " -14.93642       Inf\n",
       "sample estimates:\n",
       "mean of x mean of y \n",
       " 242.4103  254.7979 \n"
      ]
     },
     "metadata": {},
     "output_type": "display_data"
    }
   ],
   "source": [
    "t.test(df_est1$PUNT_GLOBAL, df_est2$PUNT_GLOBAL, var.equal = FALSE, alternative = \"greater\", conf.level = 0.95)"
   ]
  },
  {
   "cell_type": "markdown",
   "metadata": {},
   "source": [
    "las personas de estrato 2 tienen mayor puntaje a personas de estrato 1"
   ]
  },
  {
   "cell_type": "code",
   "execution_count": 137,
   "metadata": {
    "vscode": {
     "languageId": "r"
    }
   },
   "outputs": [
    {
     "data": {
      "text/plain": [
       "           \n",
       "            Estrato 1 Estrato 2 Estrato 3 Estrato 4 Estrato 5 Estrato 6\n",
       "  COMPLETA        171       310       298       102        31        16\n",
       "  MA\\321ANA       964       938       457        97        25        13\n",
       "  NOCHE            90        97        45         9         3         1\n",
       "  SABATINA        111        85        26         5         3         2\n",
       "  TARDE           204       253       117        11         4         2\n",
       "  UNICA           127       158        72         7         7         0"
      ]
     },
     "metadata": {},
     "output_type": "display_data"
    }
   ],
   "source": [
    "tab_jor_estrt <- table(df$COLE_JORNADA, df$FAMI_ESTRATOVIVIENDA)\n",
    "tab_jor_estrt"
   ]
  },
  {
   "cell_type": "code",
   "execution_count": 138,
   "metadata": {
    "vscode": {
     "languageId": "r"
    }
   },
   "outputs": [
    {
     "name": "stderr",
     "output_type": "stream",
     "text": [
      "Warning message in chisq.test(tab_jor_estrt):\n",
      "\"Chi-squared approximation may be incorrect\"\n"
     ]
    }
   ],
   "source": [
    "chisq <- chisq.test(tab_jor_estrt)"
   ]
  },
  {
   "cell_type": "code",
   "execution_count": 139,
   "metadata": {
    "vscode": {
     "languageId": "r"
    }
   },
   "outputs": [
    {
     "data": {
      "text/plain": [
       "           \n",
       "            Estrato 1 Estrato 2 Estrato 3 Estrato 4 Estrato 5 Estrato 6\n",
       "  COMPLETA        171       310       298       102        31        16\n",
       "  MA\\321ANA       964       938       457        97        25        13\n",
       "  NOCHE            90        97        45         9         3         1\n",
       "  SABATINA        111        85        26         5         3         2\n",
       "  TARDE           204       253       117        11         4         2\n",
       "  UNICA           127       158        72         7         7         0"
      ]
     },
     "metadata": {},
     "output_type": "display_data"
    }
   ],
   "source": [
    "chisq$observed"
   ]
  },
  {
   "cell_type": "code",
   "execution_count": 140,
   "metadata": {
    "vscode": {
     "languageId": "r"
    }
   },
   "outputs": [
    {
     "data": {
      "text/html": [
       "<table class=\"dataframe\">\n",
       "<caption>A matrix: 6 × 6 of type dbl</caption>\n",
       "<thead>\n",
       "\t<tr><th></th><th scope=col>Estrato 1</th><th scope=col>Estrato 2</th><th scope=col>Estrato 3</th><th scope=col>Estrato 4</th><th scope=col>Estrato 5</th><th scope=col>Estrato 6</th></tr>\n",
       "</thead>\n",
       "<tbody>\n",
       "\t<tr><th scope=row>COMPLETA</th><td>318.24</td><td>351.46</td><td>193.77</td><td> 44.10</td><td>13.94</td><td> 6.49</td></tr>\n",
       "\t<tr><th scope=row>MA<d1>ANA</th><td>855.28</td><td>944.55</td><td>520.76</td><td>118.52</td><td>37.45</td><td>17.44</td></tr>\n",
       "\t<tr><th scope=row>NOCHE</th><td> 84.02</td><td> 92.79</td><td> 51.16</td><td> 11.64</td><td> 3.68</td><td> 1.71</td></tr>\n",
       "\t<tr><th scope=row>SABATINA</th><td> 79.56</td><td> 87.87</td><td> 48.44</td><td> 11.02</td><td> 3.48</td><td> 1.62</td></tr>\n",
       "\t<tr><th scope=row>TARDE</th><td>202.67</td><td>223.83</td><td>123.40</td><td> 28.08</td><td> 8.88</td><td> 4.13</td></tr>\n",
       "\t<tr><th scope=row>UNICA</th><td>127.23</td><td>140.51</td><td> 77.47</td><td> 17.63</td><td> 5.57</td><td> 2.59</td></tr>\n",
       "</tbody>\n",
       "</table>\n"
      ],
      "text/latex": [
       "A matrix: 6 × 6 of type dbl\n",
       "\\begin{tabular}{r|llllll}\n",
       "  & Estrato 1 & Estrato 2 & Estrato 3 & Estrato 4 & Estrato 5 & Estrato 6\\\\\n",
       "\\hline\n",
       "\tCOMPLETA & 318.24 & 351.46 & 193.77 &  44.10 & 13.94 &  6.49\\\\\n",
       "\tMA<d1>ANA & 855.28 & 944.55 & 520.76 & 118.52 & 37.45 & 17.44\\\\\n",
       "\tNOCHE &  84.02 &  92.79 &  51.16 &  11.64 &  3.68 &  1.71\\\\\n",
       "\tSABATINA &  79.56 &  87.87 &  48.44 &  11.02 &  3.48 &  1.62\\\\\n",
       "\tTARDE & 202.67 & 223.83 & 123.40 &  28.08 &  8.88 &  4.13\\\\\n",
       "\tUNICA & 127.23 & 140.51 &  77.47 &  17.63 &  5.57 &  2.59\\\\\n",
       "\\end{tabular}\n"
      ],
      "text/markdown": [
       "\n",
       "A matrix: 6 × 6 of type dbl\n",
       "\n",
       "| <!--/--> | Estrato 1 | Estrato 2 | Estrato 3 | Estrato 4 | Estrato 5 | Estrato 6 |\n",
       "|---|---|---|---|---|---|---|\n",
       "| COMPLETA | 318.24 | 351.46 | 193.77 |  44.10 | 13.94 |  6.49 |\n",
       "| MA<d1>ANA | 855.28 | 944.55 | 520.76 | 118.52 | 37.45 | 17.44 |\n",
       "| NOCHE |  84.02 |  92.79 |  51.16 |  11.64 |  3.68 |  1.71 |\n",
       "| SABATINA |  79.56 |  87.87 |  48.44 |  11.02 |  3.48 |  1.62 |\n",
       "| TARDE | 202.67 | 223.83 | 123.40 |  28.08 |  8.88 |  4.13 |\n",
       "| UNICA | 127.23 | 140.51 |  77.47 |  17.63 |  5.57 |  2.59 |\n",
       "\n"
      ],
      "text/plain": [
       "           \n",
       "            Estrato 1 Estrato 2 Estrato 3 Estrato 4 Estrato 5 Estrato 6\n",
       "  COMPLETA  318.24    351.46    193.77     44.10    13.94      6.49    \n",
       "  MA\\321ANA 855.28    944.55    520.76    118.52    37.45     17.44    \n",
       "  NOCHE      84.02     92.79     51.16     11.64     3.68      1.71    \n",
       "  SABATINA   79.56     87.87     48.44     11.02     3.48      1.62    \n",
       "  TARDE     202.67    223.83    123.40     28.08     8.88      4.13    \n",
       "  UNICA     127.23    140.51     77.47     17.63     5.57      2.59    "
      ]
     },
     "metadata": {},
     "output_type": "display_data"
    }
   ],
   "source": [
    "round(chisq$expected,2)"
   ]
  },
  {
   "cell_type": "code",
   "execution_count": 113,
   "metadata": {
    "vscode": {
     "languageId": "r"
    }
   },
   "outputs": [
    {
     "data": {
      "text/plain": [
       "           \n",
       "            Estrato 1 Estrato 2 Estrato 3 Estrato 4 Estrato 5 Estrato 6\n",
       "  COMPLETA     -11.32     -3.12      9.36      9.93      5.12      4.16\n",
       "  MA\\321ANA      6.57     -0.39     -4.50     -2.90     -2.94     -1.53\n",
       "  NOCHE          0.83      0.57     -0.99     -0.81     -0.37     -0.56\n",
       "  SABATINA       4.46     -0.40     -3.71     -1.91     -0.27      0.30\n",
       "  TARDE          0.12      2.64     -0.69     -3.52     -1.76     -1.12\n",
       "  UNICA         -0.03      1.95     -0.73     -2.70      0.63     -1.68"
      ]
     },
     "metadata": {},
     "output_type": "display_data"
    }
   ],
   "source": [
    "round(chisq$stdres,2)"
   ]
  },
  {
   "cell_type": "markdown",
   "metadata": {},
   "source": [
    "hay una gran asociacion entre estrato y tipo de jornada, mientras las personas de estrato 1 tienen una mayor asociacion con tipo de jornada solo mañana o sabatina, las personas de estrato 3 y superior tienen una mayor asociacion con tipo de jornada completa"
   ]
  }
 ],
 "metadata": {
  "kernelspec": {
   "display_name": "R",
   "language": "R",
   "name": "ir"
  },
  "language_info": {
   "codemirror_mode": "r",
   "file_extension": ".r",
   "mimetype": "text/x-r-source",
   "name": "R",
   "pygments_lexer": "r",
   "version": "4.2.0"
  },
  "orig_nbformat": 4
 },
 "nbformat": 4,
 "nbformat_minor": 2
}
