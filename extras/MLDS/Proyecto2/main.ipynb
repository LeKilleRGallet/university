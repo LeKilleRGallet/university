{
 "cells": [
  {
   "cell_type": "code",
   "execution_count": 91,
   "metadata": {},
   "outputs": [],
   "source": [
    "import pandas as pd\n",
    "import numpy as np\n",
    "import matplotlib.pyplot as plt\n",
    "import seaborn as sns"
   ]
  },
  {
   "attachments": {},
   "cell_type": "markdown",
   "metadata": {},
   "source": [
    "# Descripción del dataset"
   ]
  },
  {
   "attachments": {},
   "cell_type": "markdown",
   "metadata": {},
   "source": [
    "La base de datos seleccionada es \"Corporate Credit Rating with Financial Ratios\", la cual fue obtenida de Kaggle (https://www.kaggle.com/datasets/kirtandelwadia/corporate-credit-rating-with-financial-ratios). Esta base de datos proporciona información sobre las calificaciones crediticias corporativas emitidas por agencias especializadas entre 2010 y 2016, asi como diferentes resultados financieros de las empresas en el mismo periodo de tiempo."
   ]
  },
  {
   "attachments": {},
   "cell_type": "markdown",
   "metadata": {},
   "source": [
    "# Descipcion de las variables"
   ]
  },
  {
   "attachments": {},
   "cell_type": "markdown",
   "metadata": {},
   "source": [
    "la base de datos contiene 25 variables, no obstante unicamente se utilizaran las siguientes 20 variables:\n",
    "\n",
    "| Variable | Definición |\n",
    "| --- | --- |\n",
    "| Rating | Calificación crediticia emitida por la agencia de calificación. |\n",
    "| Grado de inversión | Calificación crediticia binaria que indica si la calificación es de grado de inversión o de basura. |\n",
    "| Current Ratio | Relación entre activos corrientes y pasivos corrientes. |\n",
    "| Long-term Debt / Capital | Relación entre la deuda a largo plazo y el capital total de la empresa. |\n",
    "| Debt/Equity Ratio | Relación entre la deuda total y el patrimonio de la empresa. |\n",
    "| Gross Margin | Margen bruto de la empresa (ingresos totales menos costo de ventas). |\n",
    "| Operating Margin | Margen operativo de la empresa (ingresos totales menos costos operativos). |\n",
    "| EBIT Margin | Margen EBIT (ganancias antes de intereses e impuestos). |\n",
    "| EBITDA Margin | Margen EBITDA (ganancias antes de intereses, impuestos, depreciación y amortización). |\n",
    "| Pre-Tax Profit Margin | Margen de beneficio antes de impuestos. |\n",
    "| Net Profit Margin | Margen de beneficio neto. |\n",
    "| Asset Turnover | Rotación de activos (ingresos totales divididos por activos totales). |\n",
    "| ROE - Return On Equity | Rentabilidad del patrimonio neto (beneficio neto dividido por patrimonio neto). |\n",
    "| Return On Tangible Equity | Rentabilidad del patrimonio tangible neto. |\n",
    "| ROA - Return On Assets | Rentabilidad de los activos (beneficio neto dividido por activos totales). |\n",
    "| ROI - Return On Investment | Rentabilidad de la inversión (beneficio neto dividido por la inversión total). |\n",
    "| Operating Cash Flow Per Share | Flujo de caja operativo por acción. |\n",
    "| Free Cash Flow Per Share | Flujo de caja libre por acción. |\n"
   ]
  },
  {
   "attachments": {},
   "cell_type": "markdown",
   "metadata": {},
   "source": [
    "# Problema\n",
    "El objetivo de este trabajo es simular el rol de un miembro de una empresa calificadora y desarrollar un modelo predictivo eficiente para asignar una calificación a una empresa. Para lograr esto, se buscará utilizar la menor cantidad posible de información y esfuerzo. En caso de que la empresa no alcance un grado de inversión, se pretende identificar las variables con mayor impacto y proporcionar recomendaciones para mejorar la calificación."
   ]
  },
  {
   "attachments": {},
   "cell_type": "markdown",
   "metadata": {},
   "source": [
    "# Objetivos\n",
    "## Objetivo General\n",
    "* El objetivo general de este trabajo es desarrollar un modelo capaz de identificar, con la menor cantidad posible de información financiera, a qué grupo podría pertenecer una empresa."
   ]
  },
  {
   "attachments": {},
   "cell_type": "markdown",
   "metadata": {},
   "source": [
    "## Objetivos Especificos\n",
    "* Recolectar y seleccionar los datos financieros relevantes para el modelo predictivo, considerando que la cantidad de información debe ser mínima pero suficiente para hacer una predicción acertada.\n",
    "* Realizar un análisis exploratorio de los datos recolectados para identificar patrones, tendencias y posibles relaciones entre las variables financieras y la calificación de la empresa.\n",
    "* Seleccionar y aplicar las técnicas de análisis y modelado de datos más adecuadas para construir un modelo predictivo eficiente, considerando la complejidad de los datos y la necesidad de mantener la simplicidad del modelo.\n",
    "* Evaluar la precisión y la eficiencia del modelo construido mediante la realización de pruebas y validaciones utilizando datos reales y comparando las predicciones del modelo con las calificaciones reales de las empresas.\n",
    "* Identificar las variables financieras que tienen un mayor impacto en la calificación de una empresa y elaborar recomendaciones específicas para mejorar las áreas críticas."
   ]
  },
  {
   "attachments": {},
   "cell_type": "markdown",
   "metadata": {},
   "source": [
    "# Hipotesis\n",
    "Las hipotesis que se quiere resolver son:\n",
    "\n",
    "* Existe una relación entre las variables financieras de una empresa y su calificación crediticia.\n",
    "* Algunas variables financieras tienen un mayor impacto en la calificación crediticia de una empresa que otras.\n",
    "* Un modelo predictivo puede ser construido utilizando técnicas de análisis y modelado de datos para predecir la calificación crediticia de una empresa con precisión aceptable, incluso cuando se dispone de una cantidad limitada de información financiera.\n",
    "* El modelo predictivo puede ser utilizado para identificar las áreas críticas de una empresa que necesitan mejoras para aumentar su calificación crediticia.\n",
    "* Las recomendaciones específicas proporcionadas por el modelo predictivo pueden ser útiles para las empresas en la toma de decisiones financieras y para mejorar su situación crediticia en general."
   ]
  },
  {
   "attachments": {},
   "cell_type": "markdown",
   "metadata": {},
   "source": [
    "# Análisis de los datos"
   ]
  },
  {
   "attachments": {},
   "cell_type": "markdown",
   "metadata": {},
   "source": [
    "## Carga de datos"
   ]
  },
  {
   "cell_type": "code",
   "execution_count": 92,
   "metadata": {},
   "outputs": [],
   "source": [
    "df =  pd.read_csv('CCR.csv',sep=',');\n",
    "\n",
    "df.drop(['Rating Agency', 'Corporation', 'Sector','Rating Date', 'CIK', 'SIC Code', 'Ticker'], axis=1, inplace=True)"
   ]
  },
  {
   "cell_type": "code",
   "execution_count": 93,
   "metadata": {},
   "outputs": [
    {
     "data": {
      "text/plain": [
       "Index(['Rating', 'Investment_grade', 'CR', 'LTDtC', 'DtE', 'GM', 'OM', 'EBIT',\n",
       "       'EBITDA', 'PtPM', 'NetPM', 'AT', 'ROE', 'ROTE', 'ROA', 'ROI', 'OCFpS',\n",
       "       'FCFpS'],\n",
       "      dtype='object')"
      ]
     },
     "execution_count": 93,
     "metadata": {},
     "output_type": "execute_result"
    }
   ],
   "source": [
    "new_names = {\n",
    "    'Rating': 'Rating',\n",
    "    'Binary Rating': 'Investment_grade',\n",
    "    'Current Ratio': 'CR',\n",
    "    'Long-term Debt / Capital': 'LTDtC',\n",
    "    'Debt/Equity Ratio': 'DtE',\n",
    "    'Gross Margin': 'GM',\n",
    "    'Operating Margin': 'OM',\n",
    "    'EBIT Margin': 'EBIT',\n",
    "    'EBITDA Margin': 'EBITDA',\n",
    "    'Pre-Tax Profit Margin': 'PtPM',\n",
    "    'Net Profit Margin': 'NetPM',\n",
    "    'Asset Turnover': 'AT',\n",
    "    'ROE - Return On Equity': 'ROE',\n",
    "    'Return On Tangible Equity': 'ROTE',\n",
    "    'ROA - Return On Assets': 'ROA',\n",
    "    'ROI - Return On Investment': 'ROI',\n",
    "    'Operating Cash Flow Per Share': 'OCFpS',\n",
    "    'Free Cash Flow Per Share': 'FCFpS',\n",
    "}\n",
    "\n",
    "df.rename(columns=new_names, inplace=True)\n",
    "df.columns"
   ]
  },
  {
   "cell_type": "code",
   "execution_count": 94,
   "metadata": {},
   "outputs": [
    {
     "name": "stdout",
     "output_type": "stream",
     "text": [
      "<class 'pandas.core.frame.DataFrame'>\n",
      "RangeIndex: 7805 entries, 0 to 7804\n",
      "Data columns (total 18 columns):\n",
      " #   Column            Non-Null Count  Dtype  \n",
      "---  ------            --------------  -----  \n",
      " 0   Rating            7805 non-null   object \n",
      " 1   Investment_grade  7805 non-null   int64  \n",
      " 2   CR                7805 non-null   float64\n",
      " 3   LTDtC             7805 non-null   float64\n",
      " 4   DtE               7805 non-null   float64\n",
      " 5   GM                7805 non-null   float64\n",
      " 6   OM                7805 non-null   float64\n",
      " 7   EBIT              7805 non-null   float64\n",
      " 8   EBITDA            7805 non-null   float64\n",
      " 9   PtPM              7805 non-null   float64\n",
      " 10  NetPM             7805 non-null   float64\n",
      " 11  AT                7805 non-null   float64\n",
      " 12  ROE               7805 non-null   float64\n",
      " 13  ROTE              7805 non-null   float64\n",
      " 14  ROA               7805 non-null   float64\n",
      " 15  ROI               7805 non-null   float64\n",
      " 16  OCFpS             7805 non-null   float64\n",
      " 17  FCFpS             7805 non-null   float64\n",
      "dtypes: float64(16), int64(1), object(1)\n",
      "memory usage: 1.1+ MB\n"
     ]
    }
   ],
   "source": [
    "df.info()"
   ]
  },
  {
   "attachments": {},
   "cell_type": "markdown",
   "metadata": {},
   "source": [
    "# Preprocesamiento de Datos."
   ]
  },
  {
   "cell_type": "code",
   "execution_count": 95,
   "metadata": {},
   "outputs": [],
   "source": [
    "rating_dict = {'AAA': 21, 'AA+': 20, 'AA': 19, 'AA-': 18, 'A+': 17, 'A': 16, 'A-': 15,\n",
    "               'BBB+': 14, 'BBB': 13, 'BBB-': 12, 'BB+': 11, 'BB': 10, 'BB-': 9,\n",
    "               'B+': 8, 'B': 7, 'B-': 6, 'CCC+': 5, 'CCC': 4, 'CCC-': 3, 'CC': 2, 'CC+': 2,\n",
    "               'C': 1, 'D': 0}\n",
    "\n",
    "df['Rating'] = df['Rating'].map(rating_dict)"
   ]
  },
  {
   "cell_type": "code",
   "execution_count": 96,
   "metadata": {},
   "outputs": [],
   "source": [
    "X , yR, yI = df.drop(['Rating', 'Investment_grade'], axis=1).values, df['Rating'].values, df['Investment_grade'].values"
   ]
  },
  {
   "cell_type": "code",
   "execution_count": 97,
   "metadata": {},
   "outputs": [],
   "source": [
    "from sklearn.preprocessing import StandardScaler\n",
    "\n",
    "scaler = StandardScaler()\n",
    "X = scaler.fit_transform(X)"
   ]
  },
  {
   "cell_type": "code",
   "execution_count": 98,
   "metadata": {},
   "outputs": [],
   "source": [
    "from sklearn.model_selection import train_test_split\n",
    "\n",
    "X_train, X_test, yR_train, yR_test, yI_train, yI_test = train_test_split(X, yR, yI, stratify=yR, test_size=0.3)"
   ]
  },
  {
   "cell_type": "code",
   "execution_count": 99,
   "metadata": {},
   "outputs": [
    {
     "name": "stdout",
     "output_type": "stream",
     "text": [
      "[  4   8  13   7  46 106 202 217 295 299 317 381 493 637 592 505 585 335\n",
      " 178 129  51  63]\n",
      "[  1   3   6   3  19  45  86  93 127 128 136 164 212 273 254 217 251 143\n",
      "  76  56  22  27]\n"
     ]
    }
   ],
   "source": [
    "print(np.bincount(yR_train))\n",
    "print(np.bincount(yR_test))"
   ]
  }
 ],
 "metadata": {
  "kernelspec": {
   "display_name": "venv",
   "language": "python",
   "name": "python3"
  },
  "language_info": {
   "codemirror_mode": {
    "name": "ipython",
    "version": 3
   },
   "file_extension": ".py",
   "mimetype": "text/x-python",
   "name": "python",
   "nbconvert_exporter": "python",
   "pygments_lexer": "ipython3",
   "version": "3.11.2"
  },
  "orig_nbformat": 4
 },
 "nbformat": 4,
 "nbformat_minor": 2
}
